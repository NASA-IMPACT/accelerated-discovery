{
 "cells": [
  {
   "cell_type": "markdown",
   "metadata": {},
   "source": "# Workshop Setup: Accelerated Discovery Framework\n\nThis notebook automatically sets up the complete environment for the Accelerated Discovery Framework workshop.\n\n**Prerequisites:**\n- Python 3.8+ installed\n- GitHub access (for cloning)\n- Internet connection\n\n**What this notebook does:**\n1. Installs Docker (if needed)\n2. Clones the repository to a separate workshop directory (`~/akd-workshop/`)\n3. Sets up Python environment with UV\n4. Runs the standalone setup script\n5. Verifies everything works by running the deep search testing notebook\n\n**Important:** \n- This setup creates a separate workspace in `~/akd-workshop/` to avoid affecting your current environment\n- Run cells in order and wait for each to complete before proceeding\n- The setup is completely isolated from your current working directory"
  },
  {
   "cell_type": "markdown",
   "metadata": {},
   "source": [
    "## Step 1: System Detection and Docker Installation"
   ]
  },
  {
   "cell_type": "code",
   "execution_count": null,
   "metadata": {},
   "outputs": [],
   "source": [
    "import subprocess\n",
    "import sys\n",
    "import os\n",
    "import platform\n",
    "import time\n",
    "from pathlib import Path\n",
    "\n",
    "def run_command(cmd, check=True, shell=False):\n",
    "    \"\"\"Run a command and return the result\"\"\"\n",
    "    try:\n",
    "        if shell:\n",
    "            result = subprocess.run(cmd, shell=True, capture_output=True, text=True, check=check)\n",
    "        else:\n",
    "            result = subprocess.run(cmd, capture_output=True, text=True, check=check)\n",
    "        return result\n",
    "    except subprocess.CalledProcessError as e:\n",
    "        print(f\"❌ Command failed: {' '.join(cmd) if isinstance(cmd, list) else cmd}\")\n",
    "        print(f\"Error: {e.stderr}\")\n",
    "        if check:\n",
    "            raise\n",
    "        return e\n",
    "\n",
    "def check_command_exists(cmd):\n",
    "    \"\"\"Check if a command exists on the system\"\"\"\n",
    "    try:\n",
    "        subprocess.run([\"which\", cmd], check=True, capture_output=True)\n",
    "        return True\n",
    "    except subprocess.CalledProcessError:\n",
    "        return False\n",
    "\n",
    "# Detect operating system\n",
    "system = platform.system().lower()\n",
    "print(f\"🖥️  Detected OS: {system}\")\n",
    "print(f\"🐍 Python version: {sys.version}\")"
   ]
  },
  {
   "cell_type": "markdown",
   "metadata": {},
   "source": [
    "### Docker Installation Check and Setup"
   ]
  },
  {
   "cell_type": "code",
   "execution_count": null,
   "metadata": {},
   "outputs": [],
   "source": [
    "# Check if Docker is installed\n",
    "docker_installed = check_command_exists(\"docker\")\n",
    "\n",
    "if docker_installed:\n",
    "    print(\"✅ Docker is already installed\")\n",
    "    # Check if Docker daemon is running\n",
    "    try:\n",
    "        result = run_command([\"docker\", \"info\"], check=False)\n",
    "        if result.returncode == 0:\n",
    "            print(\"✅ Docker daemon is running\")\n",
    "        else:\n",
    "            print(\"⚠️  Docker is installed but daemon is not running\")\n",
    "            print(\"Please start Docker Desktop or Docker service manually\")\n",
    "            print(\"On macOS/Windows: Start Docker Desktop application\")\n",
    "            print(\"On Linux: Run 'sudo systemctl start docker'\")\n",
    "    except Exception as e:\n",
    "        print(f\"⚠️  Could not check Docker status: {e}\")\nelse:\n",
    "    print(\"❌ Docker not found. Installing Docker...\")\n",
    "    \n",
    "    if system == \"darwin\":  # macOS\n",
    "        print(\"🍺 Installing Docker via Homebrew...\")\n",
    "        # Check if Homebrew is installed\n",
    "        if not check_command_exists(\"brew\"):\n",
    "            print(\"Installing Homebrew first...\")\n",
    "            install_brew = '/bin/bash -c \"$(curl -fsSL https://raw.githubusercontent.com/Homebrew/install/HEAD/install.sh)\"'\n",
    "            run_command(install_brew, shell=True)\n",
    "        \n",
    "        # Install Docker Desktop\n",
    "        run_command([\"brew\", \"install\", \"--cask\", \"docker\"])\n",
    "        print(\"📱 Please manually start Docker Desktop from Applications folder\")\n",
    "        print(\"Wait for Docker to start, then continue with the next cell\")\n",
    "        \n",
    "    elif system == \"linux\":\n",
    "        print(\"🐧 Installing Docker on Linux...\")\n",
    "        # Install Docker using the official script\n",
    "        install_script = \"curl -fsSL https://get.docker.com -o get-docker.sh && sh get-docker.sh\"\n",
    "        run_command(install_script, shell=True)\n",
    "        \n",
    "        # Start Docker service\n",
    "        run_command([\"sudo\", \"systemctl\", \"start\", \"docker\"])\n",
    "        run_command([\"sudo\", \"systemctl\", \"enable\", \"docker\"])\n",
    "        \n",
    "        # Add user to docker group\n",
    "        run_command([\"sudo\", \"usermod\", \"-aG\", \"docker\", os.getenv(\"USER\")])\n",
    "        print(\"✅ Docker installed. You may need to log out and back in for group changes to take effect.\")\n",
    "        \n",
    "    elif system == \"windows\":\n",
    "        print(\"🪟 For Windows, please manually download and install Docker Desktop from:\")\n",
    "        print(\"https://desktop.docker.com/win/main/amd64/Docker%20Desktop%20Installer.exe\")\n",
    "        print(\"After installation, start Docker Desktop and continue with the next cell.\")\n",
    "    \n",
    "    else:\n",
    "        print(f\"❌ Unsupported operating system: {system}\")\n",
    "        print(\"Please install Docker manually from https://docs.docker.com/get-docker/\")"
   ]
  },
  {
   "cell_type": "markdown",
   "metadata": {},
   "source": [
    "### Verify Docker Installation"
   ]
  },
  {
   "cell_type": "code",
   "execution_count": null,
   "metadata": {},
   "outputs": [],
   "source": [
    "# Wait for Docker to be ready\n",
    "print(\"🔄 Waiting for Docker to be ready...\")\n",
    "\n",
    "max_attempts = 30\n",
    "for attempt in range(max_attempts):\n",
    "    try:\n",
    "        result = run_command([\"docker\", \"info\"], check=False)\n",
    "        if result.returncode == 0:\n",
    "            print(\"✅ Docker is ready!\")\n",
    "            break\n",
    "    except Exception:\n",
    "        pass\n",
    "    \n",
    "    if attempt < max_attempts - 1:\n",
    "        print(f\"⏳ Attempt {attempt + 1}/{max_attempts} - Docker not ready yet, waiting...\")\n",
    "        time.sleep(5)\n",
    "    else:\n",
    "        print(\"❌ Docker failed to start after 2.5 minutes\")\n",
    "        print(\"Please ensure Docker is installed and running, then restart this notebook\")\n",
    "        raise RuntimeError(\"Docker not available\")\n",
    "\n",
    "# Test Docker with hello-world\n",
    "print(\"🧪 Testing Docker with hello-world container...\")\n",
    "result = run_command([\"docker\", \"run\", \"--rm\", \"hello-world\"])\n",
    "if \"Hello from Docker!\" in result.stdout:\n",
    "    print(\"✅ Docker test successful!\")\nelse:\n",
    "    print(\"⚠️  Docker test output unexpected, but continuing...\")"
   ]
  },
  {
   "cell_type": "markdown",
   "metadata": {},
   "source": [
    "## Step 2: Repository Setup"
   ]
  },
  {
   "cell_type": "code",
   "execution_count": null,
   "metadata": {},
   "outputs": [],
   "source": "# Set up workspace (separate from your current working directory)\nworkspace_dir = Path.home() / \"akd-workshop\" / \"accelerated-discovery\"\nworkspace_dir.parent.mkdir(exist_ok=True)\n\nprint(f\"📁 Setting up workshop workspace at: {workspace_dir}\")\nprint(\"   (This is separate from your current development environment)\")\n\n# Clone repository if it doesn't exist\nif workspace_dir.exists():\n    print(\"✅ Repository directory already exists\")\n    os.chdir(workspace_dir)\n    \n    # Check if it's a git repo and pull latest changes\n    if (workspace_dir / \".git\").exists():\n        print(\"🔄 Pulling latest changes...\")\n        run_command([\"git\", \"pull\"])\n    else:\n        print(\"⚠️  Directory exists but is not a git repository\")\n        print(\"Please remove the directory or clone manually\")\nelse:\n    print(\"📥 Cloning repository...\")\n    # Change to parent directory for cloning\n    os.chdir(workspace_dir.parent)\n    run_command([\"git\", \"clone\", \"https://github.com/mramasub/accelerated-discovery.git\"])\n    os.chdir(workspace_dir)\n    print(\"✅ Repository cloned successfully\")\n\nprint(f\"📍 Current directory: {os.getcwd()}\")\nprint(f\"📂 Contents: {list(os.listdir('.'))}\")"
  },
  {
   "cell_type": "markdown",
   "metadata": {},
   "source": [
    "## Step 3: Python Environment Setup"
   ]
  },
  {
   "cell_type": "code",
   "execution_count": null,
   "metadata": {},
   "outputs": [],
   "source": [
    "# Install UV if not present\n",
    "if not check_command_exists(\"uv\"):\n",
    "    print(\"📦 Installing UV (Python package manager)...\")\n",
    "    install_uv = \"curl -LsSf https://astral.sh/uv/install.sh | sh\"\n",
    "    run_command(install_uv, shell=True)\n",
    "    \n",
    "    # Add to PATH for current session\n",
    "    home = Path.home()\n",
    "    uv_path = home / \".local\" / \"bin\"\n",
    "    if str(uv_path) not in os.environ[\"PATH\"]:\n",
    "        os.environ[\"PATH\"] = f\"{uv_path}:{os.environ['PATH']}\"\n",
    "    \n",
    "    print(\"✅ UV installed\")\nelse:\n",
    "    print(\"✅ UV already available\")\n",
    "\n",
    "# Check UV version\n",
    "result = run_command([\"uv\", \"--version\"])\n",
    "print(f\"📦 UV version: {result.stdout.strip()}\")"
   ]
  },
  {
   "cell_type": "code",
   "execution_count": null,
   "metadata": {},
   "outputs": [],
   "source": [
    "# Create virtual environment and install dependencies\n",
    "print(\"🐍 Setting up Python virtual environment...\")\n",
    "\n",
    "# Create virtual environment with Python 3.12\n",
    "run_command([\"uv\", \"venv\", \"--python\", \"3.12\"])\n",
    "print(\"✅ Virtual environment created\")\n",
    "\n",
    "# Install dependencies using UV\n",
    "print(\"📦 Installing dependencies...\")\n",
    "run_command([\"uv\", \"sync\"])\n",
    "print(\"✅ Dependencies installed\")\n",
    "\n",
    "# Verify installation\n",
    "print(\"🔍 Verifying package installation...\")\n",
    "result = run_command([\"uv\", \"run\", \"python\", \"-c\", \"import akd; print('AKD framework imported successfully')\"])\nif \"successfully\" in result.stdout:\n",
    "    print(\"✅ AKD framework installed correctly\")\nelse:\n",
    "    print(\"⚠️  There might be an issue with the installation\")\n    print(result.stdout)\n    print(result.stderr)"
   ]
  },
  {
   "cell_type": "markdown",
   "metadata": {},
   "source": [
    "## Step 4: Environment Variables Setup"
   ]
  },
  {
   "cell_type": "code",
   "execution_count": null,
   "metadata": {},
   "outputs": [],
   "source": [
    "# Check for .env file\n",
    "env_file = Path(\".env\")\n",
    "env_example = Path(\".env.example\")\n",
    "\n",
    "if not env_file.exists():\n",
    "    if env_example.exists():\n",
    "        print(\"📄 Copying .env.example to .env\")\n",
    "        import shutil\n",
    "        shutil.copy(env_example, env_file)\n",
    "        print(\"✅ .env file created\")\n",
    "    else:\n",
    "        print(\"📄 Creating basic .env file\")\n",
    "        with open(env_file, \"w\") as f:\n",
    "            f.write(\"# Environment variables for AKD Framework\\n\")\n",
    "            f.write(\"# Add your API keys here:\\n\")\n",
    "            f.write(\"# OPENAI_API_KEY=your_openai_key_here\\n\")\n",
    "            f.write(\"# ANTHROPIC_API_KEY=your_anthropic_key_here\\n\")\nelse:\n    print(\"✅ .env file already exists\")\n\nprint(\"⚠️  IMPORTANT: You'll need to add your API keys to the .env file for full functionality\")\nprint(f\"📝 Edit {env_file.absolute()} and add your API keys\")\nprint(\"For this workshop, you can continue without API keys for basic functionality\")"
   ]
  },
  {
   "cell_type": "markdown",
   "metadata": {},
   "source": [
    "## Step 5: Run Standalone Setup Script"
   ]
  },
  {
   "cell_type": "code",
   "execution_count": null,
   "metadata": {},
   "outputs": [],
   "source": "# Run the setup_standalone.sh script\nprint(\"🚀 Running standalone setup script...\")\nprint(\"This will start SearxNG Docker container for search functionality\")\nprint(\"⚠️  Note: This may conflict if you already have SearxNG running on port 8080\")\n\ntry:\n    result = run_command([\"bash\", \"scripts/setup_standalone.sh\"])\n    print(\"✅ Standalone setup completed successfully!\")\n    print(\"📡 SearxNG search service is running at http://localhost:8080\")\nexcept subprocess.CalledProcessError as e:\n    print(\"❌ Setup script failed\")\n    print(\"Error output:\")\n    print(e.stderr)\n    print(\"\\nTrying to diagnose the issue...\")\n    \n    # Check if docker-compose files exist\n    compose_file = Path(\"config/searxng/docker-compose.yml\")\n    settings_file = Path(\"config/searxng/settings.yml\")\n    \n    if not compose_file.exists():\n        print(f\"❌ Missing: {compose_file}\")\n    if not settings_file.exists():\n        print(f\"❌ Missing: {settings_file}\")\n    \n    # Check Docker status\n    docker_result = run_command([\"docker\", \"info\"], check=False)\n    if docker_result.returncode != 0:\n        print(\"❌ Docker daemon is not running\")\n    \n    # Check if port is already in use\n    print(\"\\n🔧 If port 8080 is already in use by another SearxNG instance:\")\n    print(\"   1. Stop existing containers: docker stop $(docker ps -q)\")\n    print(\"   2. Or modify the port in config/searxng/docker-compose.yml\")\n    \n    print(\"\\nPlease check the error messages above and try running the cell again\")"
  },
  {
   "cell_type": "markdown",
   "metadata": {},
   "source": [
    "## Step 6: Verify SearxNG Service"
   ]
  },
  {
   "cell_type": "code",
   "execution_count": null,
   "metadata": {},
   "outputs": [],
   "source": [
    "import requests\nimport json\n\ndef test_searxng():\n    \"\"\"Test if SearxNG is responding\"\"\"\n    try:\n        response = requests.get(\"http://localhost:8080/search\", \n                              params={\"q\": \"test\", \"format\": \"json\"}, \n                              timeout=10)\n        if response.status_code == 200:\n            data = response.json()\n            results_count = len(data.get(\"results\", []))\n            print(f\"✅ SearxNG is working! Found {results_count} test results\")\n            return True\n        else:\n            print(f\"⚠️  SearxNG responded with status {response.status_code}\")\n            return False\n    except requests.exceptions.RequestException as e:\n        print(f\"❌ Cannot connect to SearxNG: {e}\")\n        return False\n\n# Test SearxNG\nprint(\"🔍 Testing SearxNG service...\")\nsearxng_working = test_searxng()\n\nif not searxng_working:\n    print(\"\\n🔧 Troubleshooting steps:\")\n    print(\"1. Check if Docker containers are running:\")\n    print(\"   docker ps\")\n    print(\"2. Check Docker logs:\")\n    print(\"   docker logs <container_id>\")\n    print(\"3. Try restarting the setup:\")\n    print(\"   bash scripts/setup_standalone.sh\")"
   ]
  },
  {
   "cell_type": "markdown",
   "metadata": {},
   "source": [
    "## Step 7: Launch Deep Search Testing Notebook"
   ]
  },
  {
   "cell_type": "code",
   "execution_count": null,
   "metadata": {},
   "outputs": [],
   "source": [
    "# Install Jupyter if not present in the environment\nprint(\"📓 Setting up Jupyter notebook environment...\")\n\ntry:\n    # Check if jupyter is available in the UV environment\n    result = run_command([\"uv\", \"run\", \"jupyter\", \"--version\"], check=False)\n    if result.returncode != 0:\n        print(\"📦 Installing Jupyter...\")\n        run_command([\"uv\", \"add\", \"jupyter\"])\n    \n    print(\"✅ Jupyter is ready\")\n    \n    # Check if the deep search testing notebook exists\n    notebook_path = Path(\"notebooks/deep_search_testing.ipynb\")\n    if notebook_path.exists():\n        print(f\"✅ Found notebook: {notebook_path}\")\n        \n        # Display quick instructions\n        print(\"\\n🚀 SETUP COMPLETE! 🚀\")\n        print(\"\\n\" + \"=\"*60)\n        print(\"NEXT STEPS:\")\n        print(\"=\"*60)\n        print(f\"1. The environment is ready at: {workspace_dir}\")\n        print(f\"2. SearxNG search service is running at: http://localhost:8080\")\n        print(f\"3. Open the deep search testing notebook:\")\n        print(f\"   {notebook_path.absolute()}\")\n        print(\"\\n📝 To run the notebook:\")\n        print(f\"   cd {workspace_dir}\")\n        print(\"   uv run jupyter notebook notebooks/deep_search_testing.ipynb\")\n        print(\"\\n⚠️  IMPORTANT: Add your API keys to .env file for full functionality\")\n        print(\"\\n✅ You can now proceed with the workshop!\")\n    else:\n        print(f\"⚠️  Notebook not found at: {notebook_path}\")\n        print(\"Available notebooks:\")\n        notebook_dir = Path(\"notebooks\")\n        if notebook_dir.exists():\n            for nb in notebook_dir.glob(\"*.ipynb\"):\n                print(f\"   - {nb}\")\n        else:\n            print(\"   No notebooks directory found\")\n            \nexcept Exception as e:\n    print(f\"❌ Error setting up Jupyter: {e}\")\n    print(\"You can still run the framework using Python scripts\")"
   ]
  },
  {
   "cell_type": "markdown",
   "metadata": {},
   "source": [
    "## Final Verification and Summary"
   ]
  },
  {
   "cell_type": "code",
   "execution_count": null,
   "metadata": {},
   "outputs": [],
   "source": [
    "# Final system check\nprint(\"🔍 FINAL SYSTEM VERIFICATION\")\nprint(\"=\"*50)\n\n# Check all components\nchecks = {\n    \"Docker\": check_command_exists(\"docker\"),\n    \"UV\": check_command_exists(\"uv\"),\n    \"Git\": check_command_exists(\"git\"),\n    \"Repository\": Path(\".git\").exists(),\n    \"Virtual Environment\": Path(\".venv\").exists(),\n    \"Environment File\": Path(\".env\").exists(),\n    \"AKD Package\": True  # We'll test this\n}\n\n# Test AKD package import\ntry:\n    result = run_command([\"uv\", \"run\", \"python\", \"-c\", \"import akd; print('OK')\"], check=False)\n    checks[\"AKD Package\"] = \"OK\" in result.stdout\nexcept:\n    checks[\"AKD Package\"] = False\n\n# Test SearxNG\nchecks[\"SearxNG Service\"] = searxng_working if 'searxng_working' in locals() else False\n\n# Display results\nfor component, status in checks.items():\n    icon = \"✅\" if status else \"❌\"\n    print(f\"{icon} {component}: {'OK' if status else 'FAILED'}\")\n\n# Overall status\nall_critical_ok = all([\n    checks[\"Docker\"], \n    checks[\"Repository\"], \n    checks[\"Virtual Environment\"], \n    checks[\"AKD Package\"]\n])\n\nprint(\"\\n\" + \"=\"*50)\nif all_critical_ok:\n    print(\"🎉 WORKSHOP SETUP SUCCESSFUL! 🎉\")\n    print(\"\\nYou're ready to start the workshop!\")\n    if not checks[\"SearxNG Service\"]:\n        print(\"\\n⚠️  Note: SearxNG service may need to be restarted\")\n        print(\"Run: bash scripts/setup_standalone.sh\")\nelse:\n    print(\"❌ SETUP INCOMPLETE\")\n    print(\"\\nPlease review the failed components above\")\n    print(\"Some manual intervention may be required\")\n\nprint(\"\\n📍 Workshop Location:\", workspace_dir)\nprint(\"📖 Main Notebook: notebooks/deep_search_testing.ipynb\")\nprint(\"🔧 API Keys: Add to .env file for full functionality\")"
   ]
  }
 ],
 "metadata": {
  "kernelspec": {
   "display_name": "Python 3",
   "language": "python",
   "name": "python3"
  },
  "language_info": {
   "codemirror_mode": {
    "name": "ipython",
    "version": 3
   },
   "file_extension": ".py",
   "mimetype": "text/x-python",
   "name": "python",
   "nbconvert_exporter": "python",
   "pygments_lexer": "ipython3",
   "version": "3.8.0"
  }
 },
 "nbformat": 4,
 "nbformat_minor": 4
}