{
 "cells": [
  {
   "cell_type": "markdown",
   "metadata": {},
   "source": [
    "# Factuality Tests (FactVerify)"
   ]
  },
  {
   "cell_type": "code",
   "execution_count": 1,
   "metadata": {},
   "outputs": [],
   "source": [
    "import json\n",
    "\n",
    "# Local\n",
    "from fm_factual.atom_extractor import AtomExtractor\n",
    "from fm_factual.atom_reviser import AtomReviser\n",
    "from fm_factual.context_retriever import ContextRetriever\n",
    "from fm_factual.fact_verify import FactVerify"
   ]
  },
  {
   "cell_type": "markdown",
   "metadata": {},
   "source": [
    "# The Example"
   ]
  },
  {
   "cell_type": "code",
   "execution_count": 2,
   "metadata": {},
   "outputs": [
    {
     "name": "stdout",
     "output_type": "stream",
     "text": [
      "[SearchAPI] Loading cache ...\n",
      "[AtomExtractor] Using LLM on RITS: openai/meta-llama/llama-3-3-70b-instruct\n",
      "[AtomExtractor] Using prompt version: v2\n",
      "[AtomReviser] Using LLM on RITS: openai/meta-llama/llama-3-3-70b-instruct\n",
      "[AtomReviser] Using prompt version: v1\n",
      "[FactVerify] Using LLM on RITS: openai/meta-llama/llama-3-3-70b-instruct\n",
      "[FactVerify] Using short prompt: False\n",
      "[FactVerify] Binary output: True\n"
     ]
    }
   ],
   "source": [
    "# Set up the components of the pipeline\n",
    "model = \"llama-3.3-70b-instruct\"\n",
    "cache_dir = \"/home/radu/data/cache\"\n",
    "\n",
    "context_retriever = ContextRetriever(service_type=\"google\", top_k=5, cache_dir=cache_dir)\n",
    "atom_extractor = AtomExtractor(model)\n",
    "atom_reviser = AtomReviser(model)\n",
    "\n",
    "# Create the FactVerify pipeline\n",
    "pipeline = FactVerify(\n",
    "    context_retriever=context_retriever,\n",
    "    atom_extractor=atom_extractor,\n",
    "    atom_reviser=atom_reviser,\n",
    "    model=model,\n",
    "    binary_output=True\n",
    ")"
   ]
  },
  {
   "cell_type": "code",
   "execution_count": 3,
   "metadata": {},
   "outputs": [
    {
     "name": "stdout",
     "output_type": "stream",
     "text": [
      "[FactVerify] Reading the human annotated atoms ...\n",
      "[FactVerify] Labeled atoms found (S, NS): 20\n",
      "Atom a0: The color of the cats associated with the Norse goddess Freyja is not specified in any ancient texts or archaeological findings.\n",
      "Atom a1: The notion that Vikings preferred orange cats is a widespread claim\n",
      "Atom a2: The claim that Vikings preferred orange cats lacks concrete historical evidence\n",
      "Atom a3: Vikings kept cats as pets\n",
      "Atom a4: Vikings valued cats for their hunting skills\n",
      "Atom a5: Cats were used to control rodent populations on ships and in settlements\n",
      "Atom a6: There is no specific mention of a preference for orange cats by the Vikings in historical records\n",
      "Atom a7: The Vikings had a strong affinity for cats\n",
      "Atom a8: The Norse goddess Freyja was often depicted with cats\n",
      "Atom a9: The color of the cats depicted with the Norse goddess Freyja is not specified in any ancient texts or archaeological findings\n",
      "Atom a10: The origin of the claim that Vikings preferred orange cats is unclear\n",
      "Atom a11: The notion that Vikings preferred orange cats may have arisen from the popularity of orange cats in modern times\n",
      "Atom a12: The notion that Vikings preferred orange cats may have arisen from the romanticization of Viking culture\n",
      "Atom a13: The notion that Vikings preferred orange cats may have been perpetuated through folklore\n",
      "Atom a14: The notion that Vikings preferred orange cats may have been perpetuated through literature\n",
      "Atom a15: The notion that Vikings preferred orange cats may have been perpetuated through art\n",
      "Atom a16: The idea that Vikings preferred orange cats remains a topic of speculation due to the lack of evidence\n",
      "Atom a17: The notion that Vikings preferred orange cats has become a lasting and intriguing part of popular culture\n",
      "Atom a18: The idea that Vikings preferred orange cats highlights the enduring fascination with Viking history\n",
      "Atom a19: The idea that Vikings preferred orange cats highlights the special bond between humans and cats\n",
      "[FactVerify] Reading the contexts ...\n",
      "[FactVerify] Contexts loaded: 37\n",
      "[FactVerify] Building the pipeline ...]\n",
      "[FactVerify] Using contexts: True\n"
     ]
    }
   ],
   "source": [
    "# Load the example problem instance\n",
    "# pipeline.from_json(json_file=\"/home/radu/git/fm-factual/examples/tim_fischer_a.json\")\n",
    "\n",
    "json_file = \"/home/radu/git/fm-factual/examples/askhist-langchain-doc.json\"\n",
    "with open(json_file) as f:\n",
    "    data_dict = json.load(f)\n",
    "pipeline.from_dict_with_contexts(data=data_dict)\n",
    "pipeline.build(\n",
    "    has_atoms=True,\n",
    "    has_contexts=True,\n",
    "    decontextualize_atoms=False\n",
    ")"
   ]
  },
  {
   "cell_type": "code",
   "execution_count": 4,
   "metadata": {},
   "outputs": [
    {
     "name": "stdout",
     "output_type": "stream",
     "text": [
      "[FactVerify] Labeling atoms with openai/meta-llama/llama-3-3-70b-instruct ...\n",
      "[FactVerify] Prompts created: 20\n"
     ]
    },
    {
     "name": "stderr",
     "output_type": "stream",
     "text": [
      "Prediction: 100%|██████████| 20/20 [00:00<00:00, 61680.94prompts/s]"
     ]
    },
    {
     "name": "stdout",
     "output_type": "stream",
     "text": [
      "[FactVerify] Predictions: {'a0': 'NS', 'a1': 'NS', 'a2': 'NS', 'a3': 'NS', 'a4': 'NS', 'a5': 'NS', 'a6': 'NS', 'a7': 'NS', 'a8': 'NS', 'a9': 'NS', 'a10': 'NS', 'a11': 'NS', 'a12': 'NS', 'a13': 'NS', 'a14': 'NS', 'a15': 'NS', 'a16': 'NS', 'a17': 'NS', 'a18': 'NS', 'a19': 'NS'}\n",
      "[FactVerify] Gold labels: {'a0': None, 'a1': None, 'a2': None, 'a3': None, 'a4': None, 'a5': None, 'a6': None, 'a7': None, 'a8': None, 'a9': None, 'a10': None, 'a11': None, 'a12': None, 'a13': None, 'a14': None, 'a15': None, 'a16': None, 'a17': None, 'a18': None, 'a19': None}\n",
      "[FactVerify] Predictions: {'a0': 'NS', 'a1': 'NS', 'a2': 'NS', 'a3': 'NS', 'a4': 'NS', 'a5': 'NS', 'a6': 'NS', 'a7': 'NS', 'a8': 'NS', 'a9': 'NS', 'a10': 'NS', 'a11': 'NS', 'a12': 'NS', 'a13': 'NS', 'a14': 'NS', 'a15': 'NS', 'a16': 'NS', 'a17': 'NS', 'a18': 'NS', 'a19': 'NS'}\n",
      "[FactVerify] Gold fscore: 0.0 (0/20)\n",
      "[FactVerify] Results: {'factuality_score': 0.0, 'num_atoms': 20, 'num_contexts': 37, 'num_true_atoms': 0, 'num_false_atoms': 20, 'num_uniform_atoms': 0, 'gold_factuality_score': 0.0, 'gold_true_atoms': 0, 'true_positive': 0, 'true_negative': 20, 'false_positive': 0, 'false_negative': 0, 'input': 'What evidence is there that Vikings preferred orange cats?\\nI’ve heard this many times but can’t find much evidence. What evidence is there, and how did this come to be a common belief?'}\n"
     ]
    },
    {
     "name": "stderr",
     "output_type": "stream",
     "text": [
      "\n"
     ]
    }
   ],
   "source": [
    "# Run the FactVerify pipeline\n",
    "results = pipeline.score()\n",
    "print(f\"[FactVerify] Results: {results}\")"
   ]
  }
 ],
 "metadata": {
  "kernelspec": {
   "display_name": "fmfactual",
   "language": "python",
   "name": "python3"
  },
  "language_info": {
   "codemirror_mode": {
    "name": "ipython",
    "version": 3
   },
   "file_extension": ".py",
   "mimetype": "text/x-python",
   "name": "python",
   "nbconvert_exporter": "python",
   "pygments_lexer": "ipython3",
   "version": "3.9.18"
  }
 },
 "nbformat": 4,
 "nbformat_minor": 2
}
