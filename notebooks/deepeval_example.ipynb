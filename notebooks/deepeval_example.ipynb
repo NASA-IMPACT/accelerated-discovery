{
 "cells": [
  {
   "cell_type": "code",
   "execution_count": 1,
   "id": "2ea61427-2f6f-4e64-82e7-9ce76d614192",
   "metadata": {
    "scrolled": true
   },
   "outputs": [
    {
     "name": "stderr",
     "output_type": "stream",
     "text": [
      "\u001b[32m2025-04-22 10:56:41.443\u001b[0m | \u001b[1mINFO    \u001b[0m | \u001b[36makd.config\u001b[0m:\u001b[36mget_config\u001b[0m:\u001b[36m78\u001b[0m - \u001b[1mLoading configuration for environment: LOCAL\u001b[0m\n"
     ]
    }
   ],
   "source": [
    "import instructor\n",
    "import openai\n",
    "from akd.tools.search import (\n",
    "    SearxNGSearchTool,\n",
    "    SearxNGSearchToolConfig,\n",
    ")\n",
    "from akd.tools.scrapers.web_scrapers import (\n",
    "    SimpleWebScraper,\n",
    "    WebpageScraperToolConfig,\n",
    "    Crawl4AIWebScraper\n",
    ")\n",
    "from akd.tools.scrapers.pdf_scrapers import (\n",
    "    SimplePDFScraper,\n",
    ")\n",
    "from akd.tools.scrapers.composite import CompositeWebScraper\n",
    "from akd.tools.scrapers.resolvers import (\n",
    "    ArxivResolver,\n",
    "    ADSResolver,\n",
    "    IdentityResolver\n",
    ")\n",
    "\n",
    "from akd.tools.scrapers.composite import ResearchArticleResolver\n",
    "from akd.agents.factory import create_query_agent\n",
    "\n",
    "from akd.agents.extraction import (\n",
    "    IntentBasedExtractionSchemaMapper, \n",
    "    EstimationExtractionAgent,\n",
    ")\n",
    "from akd.agents.litsearch import LitAgent, LitAgentInputSchema\n",
    "from akd.agents.intents import Intent, IntentInputSchema, IntentAgent\n",
    "from akd.agents._base import BaseAgentConfig"
   ]
  },
  {
   "cell_type": "code",
   "execution_count": 2,
   "id": "796e4aa6-2768-4df6-bf6b-e70062d905c0",
   "metadata": {},
   "outputs": [
    {
     "name": "stderr",
     "output_type": "stream",
     "text": [
      "\u001b[32m2025-04-22 10:56:41.793\u001b[0m | \u001b[33m\u001b[1mWARNING \u001b[0m | \u001b[36makd.agents.litsearch\u001b[0m:\u001b[36mclear_history\u001b[0m:\u001b[36m141\u001b[0m - \u001b[33m\u001b[1mClearing history for all the agents\u001b[0m\n",
      "\u001b[32m2025-04-22 10:56:41.794\u001b[0m | \u001b[1mINFO    \u001b[0m | \u001b[36makd.agents.litsearch\u001b[0m:\u001b[36marun\u001b[0m:\u001b[36m83\u001b[0m - \u001b[1mAnalyzing input query to generate relevant search queries...\u001b[0m\n",
      "\u001b[32m2025-04-22 10:56:42.625\u001b[0m | \u001b[34m\u001b[1mDEBUG   \u001b[0m | \u001b[36makd.agents.litsearch\u001b[0m:\u001b[36marun\u001b[0m:\u001b[36m88\u001b[0m - \u001b[34m\u001b[1mGenerated search queries:\u001b[0m\n",
      "\u001b[32m2025-04-22 10:56:42.626\u001b[0m | \u001b[34m\u001b[1mDEBUG   \u001b[0m | \u001b[36makd.agents.litsearch\u001b[0m:\u001b[36marun\u001b[0m:\u001b[36m90\u001b[0m - \u001b[34m\u001b[1mQuery 1: methods and estimation to map landslides in Nepal\u001b[0m\n",
      "\u001b[32m2025-04-22 10:56:42.626\u001b[0m | \u001b[34m\u001b[1mDEBUG   \u001b[0m | \u001b[36makd.agents.litsearch\u001b[0m:\u001b[36marun\u001b[0m:\u001b[36m90\u001b[0m - \u001b[34m\u001b[1mQuery 2: methods for landslide mapping in Nepal\u001b[0m\n",
      "\u001b[32m2025-04-22 10:56:42.627\u001b[0m | \u001b[34m\u001b[1mDEBUG   \u001b[0m | \u001b[36makd.agents.litsearch\u001b[0m:\u001b[36marun\u001b[0m:\u001b[36m90\u001b[0m - \u001b[34m\u001b[1mQuery 3: landslide estimation techniques Nepal\u001b[0m\n",
      "\u001b[32m2025-04-22 10:56:42.627\u001b[0m | \u001b[34m\u001b[1mDEBUG   \u001b[0m | \u001b[36makd.agents.litsearch\u001b[0m:\u001b[36marun\u001b[0m:\u001b[36m90\u001b[0m - \u001b[34m\u001b[1mQuery 4: remote sensing landslide mapping Nepal\u001b[0m\n",
      "\u001b[32m2025-04-22 10:56:42.628\u001b[0m | \u001b[1mINFO    \u001b[0m | \u001b[36makd.agents.litsearch\u001b[0m:\u001b[36marun\u001b[0m:\u001b[36m93\u001b[0m - \u001b[1mSearching across the web using SearxNG...\u001b[0m\n",
      "\u001b[32m2025-04-22 10:56:45.589\u001b[0m | \u001b[34m\u001b[1mDEBUG   \u001b[0m | \u001b[36makd.tools.search\u001b[0m:\u001b[36marun\u001b[0m:\u001b[36m259\u001b[0m - \u001b[34m\u001b[1m[{'template': 'paper.html', 'type': '', 'url': 'https://link.springer.com/article/10.1007/s12665-021-09650-2', 'title': 'Landslide susceptibility mapping with GIS in high mountain area of Nepal: a comparison of four methods - (Published 2021-01-01T00:00:00)', 'authors': ['P Gautam', 'T Kubota', 'LM Sapkota…'], 'publisher': 'Springer', 'journal': 'Environmental Earth …', 'publishedDate': '2021-01-01T00:00:00', 'content': '… approach to be the second-best method… approach for susceptibility mapping in high mountainous region of Hindu-Kush Himalaya. The findings of this study might be useful for landslide …', 'comments': '', 'html_url': None, 'pdf_url': None, 'engine': 'google scholar', 'parsed_url': ['https', 'link.springer.com', '/article/10.1007/s12665-021-09650-2', '', '', ''], 'img_src': '', 'thumbnail': '', 'priority': '', 'engines': ['google scholar'], 'positions': [1], 'score': 1.0, 'category': 'science', 'query': 'methods and estimation to map landslides in Nepal'}, {'template': 'paper.html', 'url': 'http://arxiv.org/abs/2401.14210v1', 'title': 'At the junction between deep learning and statistics of extremes: formalizing the landslide hazard definition - (Published 2024-01-25T14:48:08)', 'publishedDate': '2024-01-25T14:48:08', 'content': 'The most adopted definition of landslide hazard combines spatial information about landslide location (susceptibility), threat (intensity), and frequency (return period). Only the first two elements are usually considered and estimated when working over vast areas. Even then, separate models constitute the standard, with frequency being rarely investigated. Frequency and intensity are intertwined and depend on each other because larger events occur less frequently and vice versa. However, due to the lack of multi-temporal inventories and joint statistical models, modelling such properties via a unified hazard model has always been challenging and has yet to be attempted. Here, we develop a unified model to estimate landslide hazard at the slope unit level to address such gaps. We employed deep learning, combined with a model motivated by extreme-value theory to analyse an inventory of 30 years of observed rainfall-triggered landslides in Nepal and assess landslide hazard for multiple return periods. We also use our model to further explore landslide hazard for the same return periods under different climate change scenarios up to the end of the century. Our results show that the proposed model performs excellently and can be used to model landslide hazard in a unified manner. Geomorphologically, we find that under both climate change scenarios (SSP245 and SSP885), landslide hazard is likely to increase up to two times on average in the lower Himalayan regions while remaining the same in the middle Himalayan region whilst decreasing slightly in the upper Himalayan region areas.', 'doi': None, 'authors': ['Ashok Dahal', 'Raphaël Huser', 'Luigi Lombardo'], 'journal': None, 'tags': ['cs.LG', 'physics.geo-ph', 'stat.AP', 'stat.ML'], 'comments': None, 'pdf_url': 'http://arxiv.org/pdf/2401.14210v1', 'engine': 'arxiv', 'parsed_url': ['http', 'arxiv.org', '/abs/2401.14210v1', '', '', ''], 'img_src': '', 'thumbnail': '', 'priority': '', 'engines': ['arxiv'], 'positions': [1], 'score': 1.0, 'category': 'science', 'query': 'methods and estimation to map landslides in Nepal'}, {'url': 'https://doi.org/10.3301/ROL.2016.79.', 'title': 'Systematic updates of the agglutinated foraminiferal genus Colominella Popescu, 1998: insights from sectioned specimens', 'content': 'Abstract The occurrence of agglutinated foraminiferal specimens belonging to the Badenian (middle Miocene) genus Colominella Popescu, 1998 was recently documented for the first time in a lower Pliocene succession of the western Mediterranean area. Direct comparisons with topotype specimens of Colominella paalzowi (Cushman 1936), sampled in the Badenian type section of Lăpugiu de Sus (Transylvania), show that the Pliocene individuals from the western Mediterranean morphologically resemble the type species C. paalzowi, but they also differ in possessing a longer biserial chamber arrangement with a higher number of internal chamber partitions, in lacking a clear early triserial stage and in having a more complex microstructure of the agglutinated wall, thereby supporting the idea that the Pliocene Mediterranean specimens represent a new, more highly evolved species. The fact that the Pliocene individuals from the Mediterranean appear to be more evolved with respect to the Badenian specimens from Paratethys represents an interesting evolutionary development of the genus Colominella that also permits the known stratigraphical and geographical range of the genus, previously limited to the middle Miocene (Badenian) of the Paratethys, to be extended.', 'engine': 'openairepublications', 'template': 'default.html', 'parsed_url': ['https', 'doi.org', '/10.3301/ROL.2016.79.', '', '', ''], 'img_src': '', 'thumbnail': '', 'priority': '', 'engines': ['openairepublications'], 'positions': [1], 'score': 1.0, 'category': 'science', 'query': 'methods and estimation to map landslides in Nepal'}, {'template': 'paper.html', 'url': 'http://arxiv.org/abs/2502.19866v1', 'title': 'LMHLD: A Large-scale Multi-source High-resolution Landslide Dataset for Landslide Detection based on Deep Learning - (Published 2025-02-27T08:19:42)', 'publishedDate': '2025-02-27T08:19:42', 'content': 'Landslides are among the most common natural disasters globally, posing significant threats to human society. Deep learning (DL) has proven to be an effective method for rapidly generating landslide inventories in large-scale disaster areas. However, DL models rely heavily on high-quality labeled landslide data for strong feature extraction capabilities. And landslide detection using DL urgently needs a benchmark dataset to evaluate the generalization ability of the latest models. To solve the above problems, we construct a Large-scale Multi-source High-resolution Landslide Dataset (LMHLD) for Landslide Detection based on DL. LMHLD collects remote sensing images from five different satellite sensors across seven study areas worldwide: Wenchuan, China (2008); Rio de Janeiro, Brazil (2011); Gorkha, Nepal (2015); Jiuzhaigou, China (2015); Taiwan, China (2018); Hokkaido, Japan (2018); Emilia-Romagna, Italy (2023). The dataset includes a total of 25,365 patches, with different patch sizes to accommodate different landslide scales. Additionally, a training module, LMHLDpart, is designed to accommodate landslide detection tasks at varying scales and to alleviate the issue of catastrophic forgetting in multi-task learning. Furthermore, the models trained by LMHLD is applied in other datasets to highlight the robustness of LMHLD. Five dataset quality evaluation experiments designed by using seven DL models from the U-Net family demonstrate that LMHLD has the potential to become a benchmark dataset for landslide detection. LMHLD is open access and can be accessed through the link: https://doi.org/10.5281/zenodo.11424988. This dataset provides a strong foundation for DL models, accelerates the development of DL in landslide detection, and serves as a valuable resource for landslide prevention and mitigation efforts.', 'doi': None, 'authors': ['Guanting Liu', 'Yi Wang', 'Xi Chen', 'Baoyu Du', 'Penglei Li', 'Yuan Wu', 'Zhice Fang'], 'journal': None, 'tags': ['cs.CV', 'eess.IV'], 'comments': None, 'pdf_url': 'http://arxiv.org/pdf/2502.19866v1', 'engine': 'arxiv', 'parsed_url': ['http', 'arxiv.org', '/abs/2502.19866v1', '', '', ''], 'img_src': '', 'thumbnail': '', 'priority': '', 'engines': ['arxiv'], 'positions': [1], 'score': 1.0, 'category': 'science', 'query': 'methods for landslide mapping in Nepal'}, {'url': 'https://hdl.handle.net/20.500.14017/8df80ddb-1fa4-4abd-929e-79249a9b579a', 'title': 'Landslide susceptibility mapping using the weight of evidence method in the Tinau watershed, Nepal', 'content': 'Mountainous areas in Nepal are prone to landslides, resulting in an enormous loss of life and property every year. As a first step towards mitigating or controlling such problems, it is necessary to prepare landslide susceptibility maps. Various methodologies have been proposed for landslide susceptibility mapping. This study applies the weight of evidence method to the Tinau watershed in west Nepal. A landslide susceptibility map is prepared on the basis of field observations and available data of geology, land use, topography and hydrology. Predicted susceptibility levels are found to be in good agreement with the locations of past landslides. The results show that about 30 % of the area is highly susceptible to landsliding. The present results provide useful information to the authorities concerning the landslide susceptibility zones and possible improvements for disaster management activities and sustainable development.', 'engine': 'openairepublications', 'template': 'default.html', 'parsed_url': ['https', 'hdl.handle.net', '/20.500.14017/8df80ddb-1fa4-4abd-929e-79249a9b579a', '', '', ''], 'img_src': '', 'thumbnail': '', 'priority': '', 'engines': ['openairepublications'], 'positions': [1], 'score': 1.0, 'category': 'science', 'query': 'methods for landslide mapping in Nepal'}]\u001b[0m\n",
      "\u001b[32m2025-04-22 10:56:45.592\u001b[0m | \u001b[1mINFO    \u001b[0m | \u001b[36makd.agents.litsearch\u001b[0m:\u001b[36marun\u001b[0m:\u001b[36m102\u001b[0m - \u001b[1mFound 5 relevant web pages:\u001b[0m\n",
      "\u001b[32m2025-04-22 10:56:45.593\u001b[0m | \u001b[34m\u001b[1mDEBUG   \u001b[0m | \u001b[36makd.agents.litsearch\u001b[0m:\u001b[36marun\u001b[0m:\u001b[36m105\u001b[0m - \u001b[34m\u001b[1mResult 1 : Scraping the url https://link.springer.com/article/10.1007/s12665-021-09650-2\u001b[0m\n",
      "\u001b[32m2025-04-22 10:56:45.594\u001b[0m | \u001b[34m\u001b[1mDEBUG   \u001b[0m | \u001b[36makd.tools.scrapers.composite\u001b[0m:\u001b[36mresolve\u001b[0m:\u001b[36m69\u001b[0m - \u001b[34m\u001b[1mUsing resolver=ArxivResolver for url=https://link.springer.com/article/10.1007/s12665-021-09650-2\u001b[0m\n",
      "\u001b[32m2025-04-22 10:56:45.595\u001b[0m | \u001b[31m\u001b[1mERROR   \u001b[0m | \u001b[36makd.tools.scrapers.composite\u001b[0m:\u001b[36mresolve\u001b[0m:\u001b[36m76\u001b[0m - \u001b[31m\u001b[1mError using resolver=ArxivResolver\u001b[0m\n",
      "\u001b[32m2025-04-22 10:56:45.595\u001b[0m | \u001b[34m\u001b[1mDEBUG   \u001b[0m | \u001b[36makd.tools.scrapers.composite\u001b[0m:\u001b[36mresolve\u001b[0m:\u001b[36m69\u001b[0m - \u001b[34m\u001b[1mUsing resolver=ADSResolver for url=https://link.springer.com/article/10.1007/s12665-021-09650-2\u001b[0m\n",
      "\u001b[32m2025-04-22 10:56:45.596\u001b[0m | \u001b[31m\u001b[1mERROR   \u001b[0m | \u001b[36makd.tools.scrapers.composite\u001b[0m:\u001b[36mresolve\u001b[0m:\u001b[36m76\u001b[0m - \u001b[31m\u001b[1mError using resolver=ADSResolver\u001b[0m\n",
      "\u001b[32m2025-04-22 10:56:45.596\u001b[0m | \u001b[34m\u001b[1mDEBUG   \u001b[0m | \u001b[36makd.tools.scrapers.composite\u001b[0m:\u001b[36mresolve\u001b[0m:\u001b[36m69\u001b[0m - \u001b[34m\u001b[1mUsing resolver=IdentityResolver for url=https://link.springer.com/article/10.1007/s12665-021-09650-2\u001b[0m\n",
      "\u001b[32m2025-04-22 10:56:45.596\u001b[0m | \u001b[31m\u001b[1mERROR   \u001b[0m | \u001b[36makd.tools.scrapers.composite\u001b[0m:\u001b[36mresolve\u001b[0m:\u001b[36m76\u001b[0m - \u001b[31m\u001b[1mError using resolver=IdentityResolver\u001b[0m\n",
      "\u001b[32m2025-04-22 10:56:45.598\u001b[0m | \u001b[34m\u001b[1mDEBUG   \u001b[0m | \u001b[36makd.tools.scrapers.composite\u001b[0m:\u001b[36marun\u001b[0m:\u001b[36m39\u001b[0m - \u001b[34m\u001b[1mRunning scraper=SimpleWebScraper for {\"url\":\"https://link.springer.com/article/10.1007/s12665-021-09650-2\",\"include_links\":true}\u001b[0m\n",
      "\u001b[32m2025-04-22 10:56:47.769\u001b[0m | \u001b[34m\u001b[1mDEBUG   \u001b[0m | \u001b[36makd.agents.litsearch\u001b[0m:\u001b[36marun\u001b[0m:\u001b[36m122\u001b[0m - \u001b[34m\u001b[1mResult 1: Landslide susceptibility mapping with GIS in high mountain area of Nepal: a comparison of four methods - (Published 2021-01-01T00:00:00) | https://link.springer.com/article/10.1007/s12665-021-09650-2 | ## Abstract\n",
      "\n",
      "Landslide susceptibility mapping (LSM) assists identifying and targeting\n",
      "landslide prev.. | words=3581\u001b[0m\n",
      "\u001b[32m2025-04-22 10:56:47.770\u001b[0m | \u001b[34m\u001b[1mDEBUG   \u001b[0m | \u001b[36makd.agents.litsearch\u001b[0m:\u001b[36marun\u001b[0m:\u001b[36m105\u001b[0m - \u001b[34m\u001b[1mResult 2 : Scraping the url http://arxiv.org/abs/2401.14210v1\u001b[0m\n",
      "\u001b[32m2025-04-22 10:56:47.770\u001b[0m | \u001b[34m\u001b[1mDEBUG   \u001b[0m | \u001b[36makd.tools.scrapers.composite\u001b[0m:\u001b[36mresolve\u001b[0m:\u001b[36m69\u001b[0m - \u001b[34m\u001b[1mUsing resolver=ArxivResolver for url=http://arxiv.org/abs/2401.14210v1\u001b[0m\n",
      "\u001b[32m2025-04-22 10:56:47.771\u001b[0m | \u001b[34m\u001b[1mDEBUG   \u001b[0m | \u001b[36makd.tools.scrapers.composite\u001b[0m:\u001b[36marun\u001b[0m:\u001b[36m39\u001b[0m - \u001b[34m\u001b[1mRunning scraper=SimpleWebScraper for {\"url\":\"https://arxiv.org/pdf/2401.14210v1.pdf\",\"include_links\":true}\u001b[0m\n",
      "\u001b[32m2025-04-22 10:56:47.771\u001b[0m | \u001b[31m\u001b[1mERROR   \u001b[0m | \u001b[36makd.tools.scrapers.composite\u001b[0m:\u001b[36marun\u001b[0m:\u001b[36m48\u001b[0m - \u001b[31m\u001b[1mError running SimpleWebScraper\n",
      "Can't parse url with PDF :: https://arxiv.org/pdf/2401.14210v1.pdf\u001b[0m\n",
      "\u001b[32m2025-04-22 10:56:47.772\u001b[0m | \u001b[34m\u001b[1mDEBUG   \u001b[0m | \u001b[36makd.tools.scrapers.composite\u001b[0m:\u001b[36marun\u001b[0m:\u001b[36m39\u001b[0m - \u001b[34m\u001b[1mRunning scraper=Crawl4AIWebScraper for {\"url\":\"https://arxiv.org/pdf/2401.14210v1.pdf\",\"include_links\":true}\u001b[0m\n",
      "\u001b[32m2025-04-22 10:56:47.772\u001b[0m | \u001b[31m\u001b[1mERROR   \u001b[0m | \u001b[36makd.tools.scrapers.composite\u001b[0m:\u001b[36marun\u001b[0m:\u001b[36m48\u001b[0m - \u001b[31m\u001b[1mError running Crawl4AIWebScraper\n",
      "Can't parse url with PDF :: https://arxiv.org/pdf/2401.14210v1.pdf\u001b[0m\n",
      "\u001b[32m2025-04-22 10:56:47.772\u001b[0m | \u001b[34m\u001b[1mDEBUG   \u001b[0m | \u001b[36makd.tools.scrapers.composite\u001b[0m:\u001b[36marun\u001b[0m:\u001b[36m39\u001b[0m - \u001b[34m\u001b[1mRunning scraper=SimplePDFScraper for {\"url\":\"https://arxiv.org/pdf/2401.14210v1.pdf\",\"include_links\":true}\u001b[0m\n",
      "\u001b[32m2025-04-22 10:56:47.863\u001b[0m | \u001b[34m\u001b[1mDEBUG   \u001b[0m | \u001b[36makd.tools.scrapers.pdf_scrapers\u001b[0m:\u001b[36m_download_pdf_from_url\u001b[0m:\u001b[36m180\u001b[0m - \u001b[34m\u001b[1mDownloading PDF at /var/folders/3n/tppq41s12r7f2xwq6ps417n40000gn/T/tmpethxerka.pdf\u001b[0m\n",
      "\u001b[32m2025-04-22 10:56:49.342\u001b[0m | \u001b[34m\u001b[1mDEBUG   \u001b[0m | \u001b[36makd.agents.litsearch\u001b[0m:\u001b[36marun\u001b[0m:\u001b[36m122\u001b[0m - \u001b[34m\u001b[1mResult 2: At the junction between deep learning and statistics of extremes: formalizing the landslide hazard definition - (Published 2024-01-25T14:48:08) | https://arxiv.org/pdf/2401.14210v1.pdf | At the junction between deep learning and statistics of\n",
      "extremes: formalizing the landslide hazard d.. | words=12668\u001b[0m\n",
      "\u001b[32m2025-04-22 10:56:49.343\u001b[0m | \u001b[34m\u001b[1mDEBUG   \u001b[0m | \u001b[36makd.agents.litsearch\u001b[0m:\u001b[36marun\u001b[0m:\u001b[36m105\u001b[0m - \u001b[34m\u001b[1mResult 3 : Scraping the url https://doi.org/10.3301/ROL.2016.79.\u001b[0m\n",
      "\u001b[32m2025-04-22 10:56:49.343\u001b[0m | \u001b[34m\u001b[1mDEBUG   \u001b[0m | \u001b[36makd.tools.scrapers.composite\u001b[0m:\u001b[36mresolve\u001b[0m:\u001b[36m69\u001b[0m - \u001b[34m\u001b[1mUsing resolver=ArxivResolver for url=https://doi.org/10.3301/ROL.2016.79.\u001b[0m\n",
      "\u001b[32m2025-04-22 10:56:49.344\u001b[0m | \u001b[31m\u001b[1mERROR   \u001b[0m | \u001b[36makd.tools.scrapers.composite\u001b[0m:\u001b[36mresolve\u001b[0m:\u001b[36m76\u001b[0m - \u001b[31m\u001b[1mError using resolver=ArxivResolver\u001b[0m\n",
      "\u001b[32m2025-04-22 10:56:49.344\u001b[0m | \u001b[34m\u001b[1mDEBUG   \u001b[0m | \u001b[36makd.tools.scrapers.composite\u001b[0m:\u001b[36mresolve\u001b[0m:\u001b[36m69\u001b[0m - \u001b[34m\u001b[1mUsing resolver=ADSResolver for url=https://doi.org/10.3301/ROL.2016.79.\u001b[0m\n",
      "\u001b[32m2025-04-22 10:56:49.344\u001b[0m | \u001b[31m\u001b[1mERROR   \u001b[0m | \u001b[36makd.tools.scrapers.composite\u001b[0m:\u001b[36mresolve\u001b[0m:\u001b[36m76\u001b[0m - \u001b[31m\u001b[1mError using resolver=ADSResolver\u001b[0m\n",
      "\u001b[32m2025-04-22 10:56:49.345\u001b[0m | \u001b[34m\u001b[1mDEBUG   \u001b[0m | \u001b[36makd.tools.scrapers.composite\u001b[0m:\u001b[36mresolve\u001b[0m:\u001b[36m69\u001b[0m - \u001b[34m\u001b[1mUsing resolver=IdentityResolver for url=https://doi.org/10.3301/ROL.2016.79.\u001b[0m\n",
      "\u001b[32m2025-04-22 10:56:49.345\u001b[0m | \u001b[31m\u001b[1mERROR   \u001b[0m | \u001b[36makd.tools.scrapers.composite\u001b[0m:\u001b[36mresolve\u001b[0m:\u001b[36m76\u001b[0m - \u001b[31m\u001b[1mError using resolver=IdentityResolver\u001b[0m\n",
      "\u001b[32m2025-04-22 10:56:49.346\u001b[0m | \u001b[34m\u001b[1mDEBUG   \u001b[0m | \u001b[36makd.tools.scrapers.composite\u001b[0m:\u001b[36marun\u001b[0m:\u001b[36m39\u001b[0m - \u001b[34m\u001b[1mRunning scraper=SimpleWebScraper for {\"url\":\"https://doi.org/10.3301/ROL.2016.79.\",\"include_links\":true}\u001b[0m\n",
      "\u001b[32m2025-04-22 10:56:49.436\u001b[0m | \u001b[31m\u001b[1mERROR   \u001b[0m | \u001b[36makd.tools.scrapers.composite\u001b[0m:\u001b[36marun\u001b[0m:\u001b[36m48\u001b[0m - \u001b[31m\u001b[1mError running SimpleWebScraper\n",
      "HTTP error occurred: 404 Client Error: Not Found for url: https://doi.org/10.3301/ROL.2016.79.\u001b[0m\n",
      "\u001b[32m2025-04-22 10:56:49.438\u001b[0m | \u001b[34m\u001b[1mDEBUG   \u001b[0m | \u001b[36makd.tools.scrapers.composite\u001b[0m:\u001b[36marun\u001b[0m:\u001b[36m39\u001b[0m - \u001b[34m\u001b[1mRunning scraper=Crawl4AIWebScraper for {\"url\":\"https://doi.org/10.3301/ROL.2016.79.\",\"include_links\":true}\u001b[0m\n",
      "\u001b[32m2025-04-22 10:56:49.806\u001b[0m | \u001b[31m\u001b[1mERROR   \u001b[0m | \u001b[36makd.tools.scrapers.composite\u001b[0m:\u001b[36marun\u001b[0m:\u001b[36m48\u001b[0m - \u001b[31m\u001b[1mError running Crawl4AIWebScraper\n",
      "BrowserType.launch: Executable doesn't exist at /Users/leo/Library/Caches/ms-playwright/chromium-1161/chrome-mac/Chromium.app/Contents/MacOS/Chromium\n",
      "╔════════════════════════════════════════════════════════════╗\n",
      "║ Looks like Playwright was just installed or updated.       ║\n",
      "║ Please run the following command to download new browsers: ║\n",
      "║                                                            ║\n",
      "║     playwright install                                     ║\n",
      "║                                                            ║\n",
      "║ <3 Playwright Team                                         ║\n",
      "╚════════════════════════════════════════════════════════════╝\u001b[0m\n",
      "\u001b[32m2025-04-22 10:56:49.806\u001b[0m | \u001b[34m\u001b[1mDEBUG   \u001b[0m | \u001b[36makd.tools.scrapers.composite\u001b[0m:\u001b[36marun\u001b[0m:\u001b[36m39\u001b[0m - \u001b[34m\u001b[1mRunning scraper=SimplePDFScraper for {\"url\":\"https://doi.org/10.3301/ROL.2016.79.\",\"include_links\":true}\u001b[0m\n",
      "\u001b[32m2025-04-22 10:56:49.807\u001b[0m | \u001b[31m\u001b[1mERROR   \u001b[0m | \u001b[36makd.tools.scrapers.composite\u001b[0m:\u001b[36marun\u001b[0m:\u001b[36m48\u001b[0m - \u001b[31m\u001b[1mError running SimplePDFScraper\n",
      "https://doi.org/10.3301/ROL.2016.79. is not a valid pdf.\u001b[0m\n",
      "\u001b[32m2025-04-22 10:56:49.807\u001b[0m | \u001b[34m\u001b[1mDEBUG   \u001b[0m | \u001b[36makd.agents.litsearch\u001b[0m:\u001b[36marun\u001b[0m:\u001b[36m122\u001b[0m - \u001b[34m\u001b[1mResult 3: Systematic updates of the agglutinated foraminiferal genus Colominella Popescu, 1998: insights from sectioned specimens | https://doi.org/10.3301/ROL.2016.79. | Abstract The occurrence of agglutinated foraminiferal specimens belonging to the Badenian (middle Mi.. | words=180\u001b[0m\n",
      "\u001b[32m2025-04-22 10:56:49.807\u001b[0m | \u001b[34m\u001b[1mDEBUG   \u001b[0m | \u001b[36makd.agents.litsearch\u001b[0m:\u001b[36marun\u001b[0m:\u001b[36m105\u001b[0m - \u001b[34m\u001b[1mResult 4 : Scraping the url http://arxiv.org/abs/2502.19866v1\u001b[0m\n",
      "\u001b[32m2025-04-22 10:56:49.807\u001b[0m | \u001b[34m\u001b[1mDEBUG   \u001b[0m | \u001b[36makd.tools.scrapers.composite\u001b[0m:\u001b[36mresolve\u001b[0m:\u001b[36m69\u001b[0m - \u001b[34m\u001b[1mUsing resolver=ArxivResolver for url=http://arxiv.org/abs/2502.19866v1\u001b[0m\n",
      "\u001b[32m2025-04-22 10:56:49.808\u001b[0m | \u001b[34m\u001b[1mDEBUG   \u001b[0m | \u001b[36makd.tools.scrapers.composite\u001b[0m:\u001b[36marun\u001b[0m:\u001b[36m39\u001b[0m - \u001b[34m\u001b[1mRunning scraper=SimpleWebScraper for {\"url\":\"https://arxiv.org/pdf/2502.19866v1.pdf\",\"include_links\":true}\u001b[0m\n",
      "\u001b[32m2025-04-22 10:56:49.808\u001b[0m | \u001b[31m\u001b[1mERROR   \u001b[0m | \u001b[36makd.tools.scrapers.composite\u001b[0m:\u001b[36marun\u001b[0m:\u001b[36m48\u001b[0m - \u001b[31m\u001b[1mError running SimpleWebScraper\n",
      "Can't parse url with PDF :: https://arxiv.org/pdf/2502.19866v1.pdf\u001b[0m\n",
      "\u001b[32m2025-04-22 10:56:49.808\u001b[0m | \u001b[34m\u001b[1mDEBUG   \u001b[0m | \u001b[36makd.tools.scrapers.composite\u001b[0m:\u001b[36marun\u001b[0m:\u001b[36m39\u001b[0m - \u001b[34m\u001b[1mRunning scraper=Crawl4AIWebScraper for {\"url\":\"https://arxiv.org/pdf/2502.19866v1.pdf\",\"include_links\":true}\u001b[0m\n",
      "\u001b[32m2025-04-22 10:56:49.808\u001b[0m | \u001b[31m\u001b[1mERROR   \u001b[0m | \u001b[36makd.tools.scrapers.composite\u001b[0m:\u001b[36marun\u001b[0m:\u001b[36m48\u001b[0m - \u001b[31m\u001b[1mError running Crawl4AIWebScraper\n",
      "Can't parse url with PDF :: https://arxiv.org/pdf/2502.19866v1.pdf\u001b[0m\n",
      "\u001b[32m2025-04-22 10:56:49.808\u001b[0m | \u001b[34m\u001b[1mDEBUG   \u001b[0m | \u001b[36makd.tools.scrapers.composite\u001b[0m:\u001b[36marun\u001b[0m:\u001b[36m39\u001b[0m - \u001b[34m\u001b[1mRunning scraper=SimplePDFScraper for {\"url\":\"https://arxiv.org/pdf/2502.19866v1.pdf\",\"include_links\":true}\u001b[0m\n",
      "\u001b[32m2025-04-22 10:56:49.868\u001b[0m | \u001b[34m\u001b[1mDEBUG   \u001b[0m | \u001b[36makd.tools.scrapers.pdf_scrapers\u001b[0m:\u001b[36m_download_pdf_from_url\u001b[0m:\u001b[36m180\u001b[0m - \u001b[34m\u001b[1mDownloading PDF at /var/folders/3n/tppq41s12r7f2xwq6ps417n40000gn/T/tmpiuww5xjd.pdf\u001b[0m\n",
      "\u001b[32m2025-04-22 10:56:50.237\u001b[0m | \u001b[34m\u001b[1mDEBUG   \u001b[0m | \u001b[36makd.agents.litsearch\u001b[0m:\u001b[36marun\u001b[0m:\u001b[36m122\u001b[0m - \u001b[34m\u001b[1mResult 4: LMHLD: A Large-scale Multi-source High-resolution Landslide Dataset for Landslide Detection based on Deep Learning - (Published 2025-02-27T08:19:42) | https://arxiv.org/pdf/2502.19866v1.pdf | LMHLD: A Large-scale Multi-source High-resolution Landslide Dataset for\n",
      "Landslide Detection based on.. | words=11949\u001b[0m\n",
      "\u001b[32m2025-04-22 10:56:50.237\u001b[0m | \u001b[34m\u001b[1mDEBUG   \u001b[0m | \u001b[36makd.agents.litsearch\u001b[0m:\u001b[36marun\u001b[0m:\u001b[36m105\u001b[0m - \u001b[34m\u001b[1mResult 5 : Scraping the url https://hdl.handle.net/20.500.14017/8df80ddb-1fa4-4abd-929e-79249a9b579a\u001b[0m\n",
      "\u001b[32m2025-04-22 10:56:50.237\u001b[0m | \u001b[34m\u001b[1mDEBUG   \u001b[0m | \u001b[36makd.tools.scrapers.composite\u001b[0m:\u001b[36mresolve\u001b[0m:\u001b[36m69\u001b[0m - \u001b[34m\u001b[1mUsing resolver=ArxivResolver for url=https://hdl.handle.net/20.500.14017/8df80ddb-1fa4-4abd-929e-79249a9b579a\u001b[0m\n",
      "\u001b[32m2025-04-22 10:56:50.238\u001b[0m | \u001b[31m\u001b[1mERROR   \u001b[0m | \u001b[36makd.tools.scrapers.composite\u001b[0m:\u001b[36mresolve\u001b[0m:\u001b[36m76\u001b[0m - \u001b[31m\u001b[1mError using resolver=ArxivResolver\u001b[0m\n",
      "\u001b[32m2025-04-22 10:56:50.238\u001b[0m | \u001b[34m\u001b[1mDEBUG   \u001b[0m | \u001b[36makd.tools.scrapers.composite\u001b[0m:\u001b[36mresolve\u001b[0m:\u001b[36m69\u001b[0m - \u001b[34m\u001b[1mUsing resolver=ADSResolver for url=https://hdl.handle.net/20.500.14017/8df80ddb-1fa4-4abd-929e-79249a9b579a\u001b[0m\n",
      "\u001b[32m2025-04-22 10:56:50.238\u001b[0m | \u001b[31m\u001b[1mERROR   \u001b[0m | \u001b[36makd.tools.scrapers.composite\u001b[0m:\u001b[36mresolve\u001b[0m:\u001b[36m76\u001b[0m - \u001b[31m\u001b[1mError using resolver=ADSResolver\u001b[0m\n",
      "\u001b[32m2025-04-22 10:56:50.239\u001b[0m | \u001b[34m\u001b[1mDEBUG   \u001b[0m | \u001b[36makd.tools.scrapers.composite\u001b[0m:\u001b[36mresolve\u001b[0m:\u001b[36m69\u001b[0m - \u001b[34m\u001b[1mUsing resolver=IdentityResolver for url=https://hdl.handle.net/20.500.14017/8df80ddb-1fa4-4abd-929e-79249a9b579a\u001b[0m\n",
      "\u001b[32m2025-04-22 10:56:50.239\u001b[0m | \u001b[31m\u001b[1mERROR   \u001b[0m | \u001b[36makd.tools.scrapers.composite\u001b[0m:\u001b[36mresolve\u001b[0m:\u001b[36m76\u001b[0m - \u001b[31m\u001b[1mError using resolver=IdentityResolver\u001b[0m\n",
      "\u001b[32m2025-04-22 10:56:50.239\u001b[0m | \u001b[34m\u001b[1mDEBUG   \u001b[0m | \u001b[36makd.tools.scrapers.composite\u001b[0m:\u001b[36marun\u001b[0m:\u001b[36m39\u001b[0m - \u001b[34m\u001b[1mRunning scraper=SimpleWebScraper for {\"url\":\"https://hdl.handle.net/20.500.14017/8df80ddb-1fa4-4abd-929e-79249a9b579a\",\"include_links\":true}\u001b[0m\n",
      "\u001b[32m2025-04-22 10:56:52.021\u001b[0m | \u001b[31m\u001b[1mERROR   \u001b[0m | \u001b[36makd.tools.scrapers.composite\u001b[0m:\u001b[36marun\u001b[0m:\u001b[36m48\u001b[0m - \u001b[31m\u001b[1mError running SimpleWebScraper\n",
      "HTTP error occurred: 403 Client Error: Forbidden for url: https://researchportal.vub.be/en/publications/landslide-susceptibility-mapping-using-the-weight-of-evidence-method-in-the-tinau-watershed-nepal(8df80ddb-1fa4-4abd-929e-79249a9b579a).html\u001b[0m\n",
      "\u001b[32m2025-04-22 10:56:52.022\u001b[0m | \u001b[34m\u001b[1mDEBUG   \u001b[0m | \u001b[36makd.tools.scrapers.composite\u001b[0m:\u001b[36marun\u001b[0m:\u001b[36m39\u001b[0m - \u001b[34m\u001b[1mRunning scraper=Crawl4AIWebScraper for {\"url\":\"https://hdl.handle.net/20.500.14017/8df80ddb-1fa4-4abd-929e-79249a9b579a\",\"include_links\":true}\u001b[0m\n",
      "\u001b[32m2025-04-22 10:56:52.178\u001b[0m | \u001b[31m\u001b[1mERROR   \u001b[0m | \u001b[36makd.tools.scrapers.composite\u001b[0m:\u001b[36marun\u001b[0m:\u001b[36m48\u001b[0m - \u001b[31m\u001b[1mError running Crawl4AIWebScraper\n",
      "BrowserType.launch: Executable doesn't exist at /Users/leo/Library/Caches/ms-playwright/chromium-1161/chrome-mac/Chromium.app/Contents/MacOS/Chromium\n",
      "╔════════════════════════════════════════════════════════════╗\n",
      "║ Looks like Playwright was just installed or updated.       ║\n",
      "║ Please run the following command to download new browsers: ║\n",
      "║                                                            ║\n",
      "║     playwright install                                     ║\n",
      "║                                                            ║\n",
      "║ <3 Playwright Team                                         ║\n",
      "╚════════════════════════════════════════════════════════════╝\u001b[0m\n",
      "\u001b[32m2025-04-22 10:56:52.178\u001b[0m | \u001b[34m\u001b[1mDEBUG   \u001b[0m | \u001b[36makd.tools.scrapers.composite\u001b[0m:\u001b[36marun\u001b[0m:\u001b[36m39\u001b[0m - \u001b[34m\u001b[1mRunning scraper=SimplePDFScraper for {\"url\":\"https://hdl.handle.net/20.500.14017/8df80ddb-1fa4-4abd-929e-79249a9b579a\",\"include_links\":true}\u001b[0m\n",
      "\u001b[32m2025-04-22 10:56:52.179\u001b[0m | \u001b[31m\u001b[1mERROR   \u001b[0m | \u001b[36makd.tools.scrapers.composite\u001b[0m:\u001b[36marun\u001b[0m:\u001b[36m48\u001b[0m - \u001b[31m\u001b[1mError running SimplePDFScraper\n",
      "https://hdl.handle.net/20.500.14017/8df80ddb-1fa4-4abd-929e-79249a9b579a is not a valid pdf.\u001b[0m\n",
      "\u001b[32m2025-04-22 10:56:52.179\u001b[0m | \u001b[34m\u001b[1mDEBUG   \u001b[0m | \u001b[36makd.agents.litsearch\u001b[0m:\u001b[36marun\u001b[0m:\u001b[36m122\u001b[0m - \u001b[34m\u001b[1mResult 5: Landslide susceptibility mapping using the weight of evidence method in the Tinau watershed, Nepal | https://hdl.handle.net/20.500.14017/8df80ddb-1fa4-4abd-929e-79249a9b579a | Mountainous areas in Nepal are prone to landslides, resulting in an enormous loss of life and proper.. | words=138\u001b[0m\n",
      "\u001b[32m2025-04-22 10:57:09.421\u001b[0m | \u001b[34m\u001b[1mDEBUG   \u001b[0m | \u001b[36makd.agents.litsearch\u001b[0m:\u001b[36marun\u001b[0m:\u001b[36m134\u001b[0m - \u001b[34m\u001b[1mSource=https://link.springer.com/article/10.1007/s12665-021-09650-2 | Answer={\"estimations\":[{\"answer\":\"The artificial neural network approach yielded the best prediction capability for landslide susceptibility mapping in the high mountain area of Nepal, with an AUC value of 96.9%.\",\"related_knowledge\":[\"Landslide susceptibility mapping\",\"Artificial neural network\",\"High mountain regions\"],\"research_data\":{\"data_format\":\"Satellite images\",\"origin\":\"Indrawati watershed, Central Nepal\",\"data_url\":null},\"methodology\":\"Landslide susceptibility mapping using four approaches: frequency ratio, logistic regression, artificial neural network, and support vector machine.\",\"assumptions\":[\"The landslides were randomly split into a ratio of 80:20 for training and validating the susceptibility maps.\"],\"confidence_level\":96.9,\"validation_method\":\"Validated using area under curve (AUC), kappa index, and statistical inferences.\"}]}\u001b[0m\n",
      "\u001b[32m2025-04-22 10:57:19.748\u001b[0m | \u001b[34m\u001b[1mDEBUG   \u001b[0m | \u001b[36makd.agents.litsearch\u001b[0m:\u001b[36marun\u001b[0m:\u001b[36m134\u001b[0m - \u001b[34m\u001b[1mSource=https://arxiv.org/pdf/2401.14210v1.pdf | Answer={\"estimations\":[{\"answer\":\"A unified landslide hazard model was developed using deep learning and extreme value theory, analyzing 30 years of rainfall-triggered landslide data in Nepal.\",\"related_knowledge\":[\"Landslide hazard model combines susceptibility, intensity, and frequency.\",\"Model predicts landslide hazard for multiple return periods based on climate projections.\"],\"research_data\":{\"data_format\":\"CSV\",\"origin\":\"Jones et al. (2021) multitemporal landslide inventory\",\"data_url\":\"https://doi.org/10.5281/zenodo.10567233\"},\"methodology\":\"Deep learning combined with the extended generalized Pareto distribution (eGPD) for modeling landslide hazard.\",\"assumptions\":[\"The model assumes that the relationship between environmental factors and landslide occurrence is constant over time and space.\"],\"confidence_level\":0.86,\"validation_method\":\"Model performance evaluated using AUC score and CRPS.\"}]}\u001b[0m\n",
      "\u001b[32m2025-04-22 10:57:22.997\u001b[0m | \u001b[34m\u001b[1mDEBUG   \u001b[0m | \u001b[36makd.agents.litsearch\u001b[0m:\u001b[36marun\u001b[0m:\u001b[36m134\u001b[0m - \u001b[34m\u001b[1mSource=https://doi.org/10.3301/ROL.2016.79. | Answer={\"estimations\":[{\"answer\":\"Answer not found\",\"related_knowledge\":[],\"research_data\":{\"data_format\":\"Not applicable\",\"origin\":\"Not applicable\",\"data_url\":null},\"methodology\":\"Not applicable\",\"assumptions\":null,\"confidence_level\":null,\"validation_method\":null}]}\u001b[0m\n",
      "\u001b[32m2025-04-22 10:57:45.532\u001b[0m | \u001b[34m\u001b[1mDEBUG   \u001b[0m | \u001b[36makd.agents.litsearch\u001b[0m:\u001b[36marun\u001b[0m:\u001b[36m134\u001b[0m - \u001b[34m\u001b[1mSource=https://arxiv.org/pdf/2502.19866v1.pdf | Answer={\"estimations\":[{\"answer\":\"The Large-scale Multi-source High-resolution Landslide Dataset (LMHLD) includes remote sensing images from five different satellite sensors across seven study areas, including Gorkha, Nepal (2015).\",\"related_knowledge\":[\"LMHLD is designed for landslide detection using deep learning.\",\"The dataset includes 25,365 patches of various sizes for different landslide scales.\"],\"research_data\":{\"data_format\":\"HDF5\",\"origin\":\"Sentinel-2\",\"data_url\":\"https://doi.org/10.5281/zenodo.11424988\"},\"methodology\":\"The dataset was constructed using high-resolution remote sensing images and includes a training module to support landslide detection tasks at varying scales.\",\"assumptions\":[\"The dataset is representative of various landslide types and conditions.\",\"Deep learning models can generalize well using this dataset.\"],\"confidence_level\":0.95,\"validation_method\":\"Five dataset quality evaluation experiments were conducted using seven deep learning models from the U-Net family.\"}]}\u001b[0m\n",
      "\u001b[32m2025-04-22 10:57:48.501\u001b[0m | \u001b[34m\u001b[1mDEBUG   \u001b[0m | \u001b[36makd.agents.litsearch\u001b[0m:\u001b[36marun\u001b[0m:\u001b[36m134\u001b[0m - \u001b[34m\u001b[1mSource=https://hdl.handle.net/20.500.14017/8df80ddb-1fa4-4abd-929e-79249a9b579a | Answer={\"estimations\":[{\"answer\":\"About 30% of the area in the Tinau watershed is highly susceptible to landsliding.\",\"related_knowledge\":[\"Landslide susceptibility mapping is crucial for disaster management in Nepal.\",\"The weight of evidence method is used for mapping landslide susceptibility.\"],\"research_data\":{\"data_format\":\"Field observations and geological data\",\"origin\":\"Tinau watershed, west Nepal\",\"data_url\":null},\"methodology\":\"Weight of evidence method applied to prepare landslide susceptibility maps.\",\"assumptions\":[\"Field observations are representative of the area.\",\"Available geological and hydrological data are accurate.\"],\"confidence_level\":null,\"validation_method\":\"Predicted susceptibility levels were compared with past landslide locations.\"}]}\u001b[0m\n"
     ]
    }
   ],
   "source": [
    "SEARCH_TOOL = SearxNGSearchTool(\n",
    "    config=SearxNGSearchToolConfig(\n",
    "        base_url=\"http://localhost:8080\",\n",
    "        max_results=5,\n",
    "        engines=[\"google\", \"arxiv\", \"google_scholar\"],\n",
    "        debug=True\n",
    "    )\n",
    ")\n",
    "scraper_cfg = WebpageScraperToolConfig()\n",
    "SCRAPER = CompositeWebScraper(\n",
    "    SimpleWebScraper(scraper_cfg),\n",
    "    Crawl4AIWebScraper(scraper_cfg),\n",
    "    SimplePDFScraper(scraper_cfg),\n",
    "    debug=True\n",
    ")\n",
    "\n",
    "ARTICLE_RESOLVER = ResearchArticleResolver(\n",
    "    ArxivResolver(),\n",
    "    ADSResolver(),\n",
    "    IdentityResolver()\n",
    ")\n",
    "scraper_cfg = WebpageScraperToolConfig()\n",
    "SCRAPER = CompositeWebScraper(\n",
    "    SimpleWebScraper(scraper_cfg),\n",
    "    Crawl4AIWebScraper(scraper_cfg),\n",
    "    SimplePDFScraper(scraper_cfg),\n",
    "    debug=True\n",
    ")\n",
    "\n",
    "\n",
    "INTENT_AGENT = IntentAgent(\n",
    "    config=BaseAgentConfig(\n",
    "        client=instructor.from_openai(openai.AsyncOpenAI())\n",
    "    )\n",
    ")\n",
    "QUERY_AGENT = create_query_agent()\n",
    "SCHEMA_MAPPER = IntentBasedExtractionSchemaMapper()\n",
    "EXTRACTION_AGENT = EstimationExtractionAgent()\n",
    "\n",
    "lit_agent = LitAgent(\n",
    "    intent_agent=INTENT_AGENT,\n",
    "    schema_mapper=IntentBasedExtractionSchemaMapper(),\n",
    "    query_agent=QUERY_AGENT,\n",
    "    extraction_agent=EXTRACTION_AGENT,\n",
    "    search_tool=SEARCH_TOOL,\n",
    "    web_scraper=SCRAPER,\n",
    "    article_resolver=ARTICLE_RESOLVER,\n",
    ")\n",
    "lit_agent.clear_history()\n",
    "\n",
    "query = \"methods and estimation to map landslides in Nepal\"\n",
    "result = await lit_agent.arun(\n",
    "    LitAgentInputSchema(query=query)\n",
    ")"
   ]
  },
  {
   "cell_type": "code",
   "execution_count": 3,
   "id": "f2539cf0-c2dc-4591-a41b-b8a13edbe1a8",
   "metadata": {
    "scrolled": true
   },
   "outputs": [
    {
     "data": {
      "text/plain": [
       "{'source': 'https://link.springer.com/article/10.1007/s12665-021-09650-2',\n",
       " 'result': {'estimations': [{'answer': 'The artificial neural network approach yielded the best prediction capability for landslide susceptibility mapping in the high mountain area of Nepal, with an AUC value of 96.9%.',\n",
       "    'related_knowledge': ['Landslide susceptibility mapping',\n",
       "     'Artificial neural network',\n",
       "     'High mountain regions'],\n",
       "    'research_data': {'data_format': 'Satellite images',\n",
       "     'origin': 'Indrawati watershed, Central Nepal',\n",
       "     'data_url': None},\n",
       "    'methodology': 'Landslide susceptibility mapping using four approaches: frequency ratio, logistic regression, artificial neural network, and support vector machine.',\n",
       "    'assumptions': ['The landslides were randomly split into a ratio of 80:20 for training and validating the susceptibility maps.'],\n",
       "    'confidence_level': 96.9,\n",
       "    'validation_method': 'Validated using area under curve (AUC), kappa index, and statistical inferences.'}]}}"
      ]
     },
     "execution_count": 3,
     "metadata": {},
     "output_type": "execute_result"
    }
   ],
   "source": [
    "result[0].model_dump()"
   ]
  },
  {
   "cell_type": "code",
   "execution_count": 4,
   "id": "666b7d40-6524-4d81-9c32-ba329bae9ccf",
   "metadata": {},
   "outputs": [],
   "source": [
    "import json \n",
    "\n",
    "with open(\"test.json\", \"w\") as f: \n",
    "   f.write(json.dumps([r.model_dump(mode=\"json\") for r in result]))\n"
   ]
  },
  {
   "cell_type": "code",
   "execution_count": 5,
   "id": "09ffad65-8883-417e-a833-6949db3f9a97",
   "metadata": {},
   "outputs": [],
   "source": [
    "# first eval only on answers\n",
    "from deepeval.test_case import LLMTestCase, LLMTestCaseParams\n",
    "from deepeval.dataset import EvaluationDataset\n",
    "from deepeval.metrics import GEval\n",
    "from deepeval import evaluate"
   ]
  },
  {
   "cell_type": "code",
   "execution_count": 6,
   "id": "4b32f56c-8d58-44f7-912e-dcfb7464e49d",
   "metadata": {},
   "outputs": [],
   "source": [
    "test_cases = [\n",
    "    LLMTestCase(input=query, actual_output=\" - \".join([e.answer for e in r.result.estimations]))\n",
    "    for r in result\n",
    "]\n",
    "\n",
    "dataset = EvaluationDataset(test_cases=test_cases)"
   ]
  },
  {
   "cell_type": "code",
   "execution_count": 7,
   "id": "724c55a8-d7b5-414e-bc55-c05d164dacf4",
   "metadata": {},
   "outputs": [],
   "source": [
    "from deepeval.metrics import AnswerRelevancyMetric\n",
    "answer_relevancy_metric = AnswerRelevancyMetric(\n",
    "    threshold=0.7,\n",
    "    model=\"gpt-4.1\",\n",
    "    include_reason=True\n",
    ")"
   ]
  },
  {
   "cell_type": "code",
   "execution_count": 8,
   "id": "891f910f-ed41-4a30-aff8-a0c834401fb8",
   "metadata": {
    "scrolled": true
   },
   "outputs": [
    {
     "data": {
      "text/html": [
       "<pre style=\"white-space:pre;overflow-x:auto;line-height:normal;font-family:Menlo,'DejaVu Sans Mono',consolas,'Courier New',monospace\">✨ You're running DeepEval's latest <span style=\"color: #6a00ff; text-decoration-color: #6a00ff\">Answer Relevancy Metric</span>! <span style=\"color: #374151; text-decoration-color: #374151; font-weight: bold\">(</span><span style=\"color: #374151; text-decoration-color: #374151\">using gpt-</span><span style=\"color: #374151; text-decoration-color: #374151; font-weight: bold\">4.1</span><span style=\"color: #374151; text-decoration-color: #374151\">, </span><span style=\"color: #374151; text-decoration-color: #374151\">strict</span><span style=\"color: #374151; text-decoration-color: #374151\">=</span><span style=\"color: #374151; text-decoration-color: #374151; font-style: italic\">False</span><span style=\"color: #374151; text-decoration-color: #374151\">, </span><span style=\"color: #374151; text-decoration-color: #374151\">async_mode</span><span style=\"color: #374151; text-decoration-color: #374151\">=</span><span style=\"color: #374151; text-decoration-color: #374151; font-style: italic\">True</span><span style=\"color: #374151; text-decoration-color: #374151; font-weight: bold\">)</span><span style=\"color: #374151; text-decoration-color: #374151\">...</span>\n",
       "</pre>\n"
      ],
      "text/plain": [
       "✨ You're running DeepEval's latest \u001b[38;2;106;0;255mAnswer Relevancy Metric\u001b[0m! \u001b[1;38;2;55;65;81m(\u001b[0m\u001b[38;2;55;65;81musing gpt-\u001b[0m\u001b[1;38;2;55;65;81m4.1\u001b[0m\u001b[38;2;55;65;81m, \u001b[0m\u001b[38;2;55;65;81mstrict\u001b[0m\u001b[38;2;55;65;81m=\u001b[0m\u001b[3;38;2;55;65;81mFalse\u001b[0m\u001b[38;2;55;65;81m, \u001b[0m\u001b[38;2;55;65;81masync_mode\u001b[0m\u001b[38;2;55;65;81m=\u001b[0m\u001b[3;38;2;55;65;81mTrue\u001b[0m\u001b[1;38;2;55;65;81m)\u001b[0m\u001b[38;2;55;65;81m...\u001b[0m\n"
      ]
     },
     "metadata": {},
     "output_type": "display_data"
    },
    {
     "name": "stderr",
     "output_type": "stream",
     "text": [
      "Evaluating 5 test case(s) in parallel: |█████████████████|100% (5/5) [Time Taken: 00:10,  2.04s/test case]\n"
     ]
    },
    {
     "name": "stdout",
     "output_type": "stream",
     "text": [
      "\n",
      "======================================================================\n",
      "\n",
      "Metrics Summary\n",
      "\n",
      "  - ✅ Answer Relevancy (score: 1.0, threshold: 0.7, strict: False, evaluation model: gpt-4.1, reason: The score is 1.00 because the output was fully relevant and directly addressed the input without any irrelevant information. Great job staying focused and precise!, error: None)\n",
      "\n",
      "For test case:\n",
      "\n",
      "  - input: methods and estimation to map landslides in Nepal\n",
      "  - actual output: The artificial neural network approach yielded the best prediction capability for landslide susceptibility mapping in the high mountain area of Nepal, with an AUC value of 96.9%.\n",
      "  - expected output: None\n",
      "  - context: None\n",
      "  - retrieval context: None\n",
      "\n",
      "======================================================================\n",
      "\n",
      "Metrics Summary\n",
      "\n",
      "  - ❌ Answer Relevancy (score: 0.0, threshold: 0.7, strict: False, evaluation model: gpt-4.1, reason: The score is 0.00 because the actual output did not address the input regarding methods or estimation for mapping landslides in Nepal at all., error: None)\n",
      "\n",
      "For test case:\n",
      "\n",
      "  - input: methods and estimation to map landslides in Nepal\n",
      "  - actual output: Answer not found\n",
      "  - expected output: None\n",
      "  - context: None\n",
      "  - retrieval context: None\n",
      "\n",
      "======================================================================\n",
      "\n",
      "Metrics Summary\n",
      "\n",
      "  - ✅ Answer Relevancy (score: 0.8, threshold: 0.7, strict: False, evaluation model: gpt-4.1, reason: The score is 0.80 because while the output mentioned 'Nepal,' it did not provide relevant details about methods or estimation for mapping landslides as requested., error: None)\n",
      "\n",
      "For test case:\n",
      "\n",
      "  - input: methods and estimation to map landslides in Nepal\n",
      "  - actual output: A unified landslide hazard model was developed using deep learning and extreme value theory, analyzing 30 years of rainfall-triggered landslide data in Nepal.\n",
      "  - expected output: None\n",
      "  - context: None\n",
      "  - retrieval context: None\n",
      "\n",
      "======================================================================\n",
      "\n",
      "Metrics Summary\n",
      "\n",
      "  - ❌ Answer Relevancy (score: 0.6666666666666666, threshold: 0.7, strict: False, evaluation model: gpt-4.1, reason: The score is 0.67 because the output mentions some relevant context about dataset locations but fails to directly address the requested methods and estimation techniques for mapping landslides in Nepal, which would have made it more relevant., error: None)\n",
      "\n",
      "For test case:\n",
      "\n",
      "  - input: methods and estimation to map landslides in Nepal\n",
      "  - actual output: The Large-scale Multi-source High-resolution Landslide Dataset (LMHLD) includes remote sensing images from five different satellite sensors across seven study areas, including Gorkha, Nepal (2015).\n",
      "  - expected output: None\n",
      "  - context: None\n",
      "  - retrieval context: None\n",
      "\n",
      "======================================================================\n",
      "\n",
      "Metrics Summary\n",
      "\n",
      "  - ❌ Answer Relevancy (score: 0.0, threshold: 0.7, strict: False, evaluation model: gpt-4.1, reason: The score is 0.00 because the output only provided statistics and general concerns about landslides without addressing any methods or estimation techniques for mapping landslides in Nepal., error: None)\n",
      "\n",
      "For test case:\n",
      "\n",
      "  - input: methods and estimation to map landslides in Nepal\n",
      "  - actual output: About 30% of the area in the Tinau watershed is highly susceptible to landsliding.\n",
      "  - expected output: None\n",
      "  - context: None\n",
      "  - retrieval context: None\n",
      "\n",
      "======================================================================\n",
      "\n",
      "Overall Metric Pass Rates\n",
      "\n",
      "Answer Relevancy: 40.00% pass rate\n",
      "\n",
      "======================================================================\n",
      "\n"
     ]
    },
    {
     "data": {
      "text/html": [
       "<pre style=\"white-space:pre;overflow-x:auto;line-height:normal;font-family:Menlo,'DejaVu Sans Mono',consolas,'Courier New',monospace\">\n",
       "<span style=\"color: #05f58d; text-decoration-color: #05f58d\">✓</span> Tests finished 🎉! Run <span style=\"color: #008000; text-decoration-color: #008000; font-weight: bold\">'deepeval login'</span> to save and analyze evaluation results on Confident AI.\n",
       " \n",
       "✨👀 Looking for a place for your LLM test data to live 🏡❤️ ? Use <span style=\"color: #6a00ff; text-decoration-color: #6a00ff\">Confident AI</span> to get &amp; share testing reports, \n",
       "experiment with models/prompts, and catch regressions for your LLM system. Just run <span style=\"color: #008080; text-decoration-color: #008080\">'deepeval login'</span> in the CLI. \n",
       "\n",
       "</pre>\n"
      ],
      "text/plain": [
       "\n",
       "\u001b[38;2;5;245;141m✓\u001b[0m Tests finished 🎉! Run \u001b[1;32m'deepeval login'\u001b[0m to save and analyze evaluation results on Confident AI.\n",
       " \n",
       "✨👀 Looking for a place for your LLM test data to live 🏡❤️ ? Use \u001b[38;2;106;0;255mConfident AI\u001b[0m to get & share testing reports, \n",
       "experiment with models/prompts, and catch regressions for your LLM system. Just run \u001b[36m'deepeval login'\u001b[0m in the CLI. \n",
       "\n"
      ]
     },
     "metadata": {},
     "output_type": "display_data"
    },
    {
     "data": {
      "text/plain": [
       "EvaluationResult(test_results=[TestResult(name='test_case_0', success=True, metrics_data=[MetricData(name='Answer Relevancy', threshold=0.7, success=True, score=1.0, reason='The score is 1.00 because the output was fully relevant and directly addressed the input without any irrelevant information. Great job staying focused and precise!', strict_mode=False, evaluation_model='gpt-4.1', error=None, evaluation_cost=0.0, verbose_logs='Statements:\\n[\\n    \"The artificial neural network approach yielded the best prediction capability for landslide susceptibility mapping.\",\\n    \"The study was conducted in the high mountain area of Nepal.\",\\n    \"The artificial neural network approach achieved an AUC value of 96.9%.\"\\n] \\n \\nVerdicts:\\n[\\n    {\\n        \"verdict\": \"yes\",\\n        \"reason\": null\\n    },\\n    {\\n        \"verdict\": \"idk\",\\n        \"reason\": null\\n    },\\n    {\\n        \"verdict\": \"idk\",\\n        \"reason\": null\\n    }\\n]')], conversational=False, multimodal=False, input='methods and estimation to map landslides in Nepal', actual_output='The artificial neural network approach yielded the best prediction capability for landslide susceptibility mapping in the high mountain area of Nepal, with an AUC value of 96.9%.', expected_output=None, context=None, retrieval_context=None, additional_metadata=None), TestResult(name='test_case_2', success=False, metrics_data=[MetricData(name='Answer Relevancy', threshold=0.7, success=False, score=0.0, reason='The score is 0.00 because the actual output did not address the input regarding methods or estimation for mapping landslides in Nepal at all.', strict_mode=False, evaluation_model='gpt-4.1', error=None, evaluation_cost=0.0, verbose_logs='Statements:\\n[\\n    \"Answer not found.\"\\n] \\n \\nVerdicts:\\n[\\n    {\\n        \"verdict\": \"no\",\\n        \"reason\": \"The statement does not address the input about methods or estimation for mapping landslides in Nepal.\"\\n    }\\n]')], conversational=False, multimodal=False, input='methods and estimation to map landslides in Nepal', actual_output='Answer not found', expected_output=None, context=None, retrieval_context=None, additional_metadata=None), TestResult(name='test_case_1', success=True, metrics_data=[MetricData(name='Answer Relevancy', threshold=0.7, success=True, score=0.8, reason=\"The score is 0.80 because while the output mentioned 'Nepal,' it did not provide relevant details about methods or estimation for mapping landslides as requested.\", strict_mode=False, evaluation_model='gpt-4.1', error=None, evaluation_cost=0.0, verbose_logs='Statements:\\n[\\n    \"A unified landslide hazard model was developed.\",\\n    \"The model was developed using deep learning.\",\\n    \"The model was developed using extreme value theory.\",\\n    \"Thirty years of rainfall-triggered landslide data in Nepal were analyzed.\",\\n    \"Nepal.\"\\n] \\n \\nVerdicts:\\n[\\n    {\\n        \"verdict\": \"yes\",\\n        \"reason\": null\\n    },\\n    {\\n        \"verdict\": \"yes\",\\n        \"reason\": null\\n    },\\n    {\\n        \"verdict\": \"yes\",\\n        \"reason\": null\\n    },\\n    {\\n        \"verdict\": \"yes\",\\n        \"reason\": null\\n    },\\n    {\\n        \"verdict\": \"no\",\\n        \"reason\": \"The single word \\'Nepal.\\' does not provide information about methods or estimation relevant to mapping landslides.\"\\n    }\\n]')], conversational=False, multimodal=False, input='methods and estimation to map landslides in Nepal', actual_output='A unified landslide hazard model was developed using deep learning and extreme value theory, analyzing 30 years of rainfall-triggered landslide data in Nepal.', expected_output=None, context=None, retrieval_context=None, additional_metadata=None), TestResult(name='test_case_3', success=False, metrics_data=[MetricData(name='Answer Relevancy', threshold=0.7, success=False, score=0.6666666666666666, reason='The score is 0.67 because the output mentions some relevant context about dataset locations but fails to directly address the requested methods and estimation techniques for mapping landslides in Nepal, which would have made it more relevant.', strict_mode=False, evaluation_model='gpt-4.1', error=None, evaluation_cost=0.0, verbose_logs='Statements:\\n[\\n    \"The LMHLD is a Large-scale Multi-source High-resolution Landslide Dataset.\",\\n    \"LMHLD includes remote sensing images.\",\\n    \"The images come from five different satellite sensors.\",\\n    \"The dataset covers seven study areas.\",\\n    \"Gorkha, Nepal (2015) is one of the study areas.\",\\n    \"LMHLD includes data from Gorkha, Nepal (2015).\"\\n] \\n \\nVerdicts:\\n[\\n    {\\n        \"verdict\": \"idk\",\\n        \"reason\": null\\n    },\\n    {\\n        \"verdict\": \"idk\",\\n        \"reason\": null\\n    },\\n    {\\n        \"verdict\": \"idk\",\\n        \"reason\": null\\n    },\\n    {\\n        \"verdict\": \"idk\",\\n        \"reason\": null\\n    },\\n    {\\n        \"verdict\": \"no\",\\n        \"reason\": \"While the location of \\'Gorkha, Nepal (2015)\\' is specified, this does not directly address methods or estimation approaches for mapping landslides.\"\\n    },\\n    {\\n        \"verdict\": \"no\",\\n        \"reason\": \"Mentioning that LMHLD includes data from Gorkha, Nepal (2015) is specific about dataset content, but not about mapping methods or estimation techniques.\"\\n    }\\n]')], conversational=False, multimodal=False, input='methods and estimation to map landslides in Nepal', actual_output='The Large-scale Multi-source High-resolution Landslide Dataset (LMHLD) includes remote sensing images from five different satellite sensors across seven study areas, including Gorkha, Nepal (2015).', expected_output=None, context=None, retrieval_context=None, additional_metadata=None), TestResult(name='test_case_4', success=False, metrics_data=[MetricData(name='Answer Relevancy', threshold=0.7, success=False, score=0.0, reason='The score is 0.00 because the output only provided statistics and general concerns about landslides without addressing any methods or estimation techniques for mapping landslides in Nepal.', strict_mode=False, evaluation_model='gpt-4.1', error=None, evaluation_cost=0.0, verbose_logs='Statements:\\n[\\n    \"About 30% of the area in the Tinau watershed is highly susceptible to landsliding.\",\\n    \"30% of the Tinau watershed area is at high risk of landslides.\",\\n    \"Landsliding is a concern in the Tinau watershed.\",\\n    \"Tinau watershed.\",\\n    \"High susceptibility.\"\\n] \\n \\nVerdicts:\\n[\\n    {\\n        \"verdict\": \"no\",\\n        \"reason\": \"This statement gives a statistic about landslide susceptibility in a specific area but does not mention any method or estimation technique for mapping landslides.\"\\n    },\\n    {\\n        \"verdict\": \"no\",\\n        \"reason\": \"This is a restatement of the previous statistic about landslide risk but does not address methods or estimation approaches for mapping landslides.\"\\n    },\\n    {\\n        \"verdict\": \"no\",\\n        \"reason\": \"The statement notes a concern about landsliding in a specific area but does not mention mapping methods or estimation.\"\\n    },\\n    {\\n        \"verdict\": \"no\",\\n        \"reason\": \"This is just the name of a region and provides no information about landslide mapping methods or estimation.\"\\n    },\\n    {\\n        \"verdict\": \"no\",\\n        \"reason\": \"This is a vague statement about susceptibility and doesn\\'t discuss mapping methods or estimation techniques.\"\\n    }\\n]')], conversational=False, multimodal=False, input='methods and estimation to map landslides in Nepal', actual_output='About 30% of the area in the Tinau watershed is highly susceptible to landsliding.', expected_output=None, context=None, retrieval_context=None, additional_metadata=None)], confident_link=None)"
      ]
     },
     "execution_count": 8,
     "metadata": {},
     "output_type": "execute_result"
    }
   ],
   "source": [
    "evaluate(dataset, [answer_relevancy_metric])"
   ]
  },
  {
   "cell_type": "code",
   "execution_count": 9,
   "id": "5a218d86-5829-43da-a6f4-0db7dd94e2b8",
   "metadata": {},
   "outputs": [],
   "source": [
    "from deepeval.metrics import FaithfulnessMetric\n",
    "# Measures how faithful the answer is to the given retrieved context\n",
    "faithfulness_metric = FaithfulnessMetric(\n",
    "    threshold=0.7,\n",
    "    model=\"gpt-4.1\",\n",
    "    include_reason=True\n",
    ")"
   ]
  },
  {
   "cell_type": "code",
   "execution_count": 10,
   "id": "e3a72d1a-08bc-414c-9531-c940e22d4e55",
   "metadata": {
    "scrolled": true
   },
   "outputs": [
    {
     "data": {
      "text/html": [
       "<pre style=\"white-space:pre;overflow-x:auto;line-height:normal;font-family:Menlo,'DejaVu Sans Mono',consolas,'Courier New',monospace\">✨ You're running DeepEval's latest <span style=\"color: #6a00ff; text-decoration-color: #6a00ff\">Correctness </span><span style=\"color: #6a00ff; text-decoration-color: #6a00ff; font-weight: bold\">(</span><span style=\"color: #6a00ff; text-decoration-color: #6a00ff\">GEval</span><span style=\"color: #6a00ff; text-decoration-color: #6a00ff; font-weight: bold\">)</span><span style=\"color: #6a00ff; text-decoration-color: #6a00ff\"> Metric</span>! <span style=\"color: #374151; text-decoration-color: #374151; font-weight: bold\">(</span><span style=\"color: #374151; text-decoration-color: #374151\">using gpt-4o, </span><span style=\"color: #374151; text-decoration-color: #374151\">strict</span><span style=\"color: #374151; text-decoration-color: #374151\">=</span><span style=\"color: #374151; text-decoration-color: #374151; font-style: italic\">True</span><span style=\"color: #374151; text-decoration-color: #374151\">, </span><span style=\"color: #374151; text-decoration-color: #374151\">async_mode</span><span style=\"color: #374151; text-decoration-color: #374151\">=</span><span style=\"color: #374151; text-decoration-color: #374151; font-style: italic\">True</span><span style=\"color: #374151; text-decoration-color: #374151; font-weight: bold\">)</span><span style=\"color: #374151; text-decoration-color: #374151\">...</span>\n",
       "</pre>\n"
      ],
      "text/plain": [
       "✨ You're running DeepEval's latest \u001b[38;2;106;0;255mCorrectness \u001b[0m\u001b[1;38;2;106;0;255m(\u001b[0m\u001b[38;2;106;0;255mGEval\u001b[0m\u001b[1;38;2;106;0;255m)\u001b[0m\u001b[38;2;106;0;255m Metric\u001b[0m! \u001b[1;38;2;55;65;81m(\u001b[0m\u001b[38;2;55;65;81musing gpt-4o, \u001b[0m\u001b[38;2;55;65;81mstrict\u001b[0m\u001b[38;2;55;65;81m=\u001b[0m\u001b[3;38;2;55;65;81mTrue\u001b[0m\u001b[38;2;55;65;81m, \u001b[0m\u001b[38;2;55;65;81masync_mode\u001b[0m\u001b[38;2;55;65;81m=\u001b[0m\u001b[3;38;2;55;65;81mTrue\u001b[0m\u001b[1;38;2;55;65;81m)\u001b[0m\u001b[38;2;55;65;81m...\u001b[0m\n"
      ]
     },
     "metadata": {},
     "output_type": "display_data"
    },
    {
     "name": "stderr",
     "output_type": "stream",
     "text": [
      "Evaluating 5 test case(s) in parallel: |█████████████████|100% (5/5) [Time Taken: 00:04,  1.17test case/s]\n"
     ]
    },
    {
     "name": "stdout",
     "output_type": "stream",
     "text": [
      "\n",
      "======================================================================\n",
      "\n",
      "Metrics Summary\n",
      "\n",
      "  - ❌ Correctness (GEval) (score: 0.0, threshold: 1.0, strict: True, evaluation model: gpt-4o, reason: The output mentions a specific dataset related to Gorkha, Nepal but does not address methods and estimation for mapping landslides in Nepal generally, missing a comprehensive and relevant explanation., error: None)\n",
      "\n",
      "For test case:\n",
      "\n",
      "  - input: methods and estimation to map landslides in Nepal\n",
      "  - actual output: The Large-scale Multi-source High-resolution Landslide Dataset (LMHLD) includes remote sensing images from five different satellite sensors across seven study areas, including Gorkha, Nepal (2015).\n",
      "  - expected output: None\n",
      "  - context: None\n",
      "  - retrieval context: None\n",
      "\n",
      "======================================================================\n",
      "\n",
      "Metrics Summary\n",
      "\n",
      "  - ❌ Correctness (GEval) (score: 0.0, threshold: 1.0, strict: True, evaluation model: gpt-4o, reason: The output 'Answer not found' does not address the query about 'methods and estimation to map landslides in Nepal'., error: None)\n",
      "\n",
      "For test case:\n",
      "\n",
      "  - input: methods and estimation to map landslides in Nepal\n",
      "  - actual output: Answer not found\n",
      "  - expected output: None\n",
      "  - context: None\n",
      "  - retrieval context: None\n",
      "\n",
      "======================================================================\n",
      "\n",
      "Metrics Summary\n",
      "\n",
      "  - ❌ Correctness (GEval) (score: 0.0, threshold: 1.0, strict: True, evaluation model: gpt-4o, reason: The output discusses landslide susceptibility in the Tinau watershed, which does not address or provide methods and estimation to map landslides in Nepal., error: None)\n",
      "\n",
      "For test case:\n",
      "\n",
      "  - input: methods and estimation to map landslides in Nepal\n",
      "  - actual output: About 30% of the area in the Tinau watershed is highly susceptible to landsliding.\n",
      "  - expected output: None\n",
      "  - context: None\n",
      "  - retrieval context: None\n",
      "\n",
      "======================================================================\n",
      "\n",
      "Metrics Summary\n",
      "\n",
      "  - ❌ Correctness (GEval) (score: 0.0, threshold: 1.0, strict: True, evaluation model: gpt-4o, reason: The output lacks details on estimation methods for mapping landslides; it mentions a model but doesn't address mapping directly., error: None)\n",
      "\n",
      "For test case:\n",
      "\n",
      "  - input: methods and estimation to map landslides in Nepal\n",
      "  - actual output: A unified landslide hazard model was developed using deep learning and extreme value theory, analyzing 30 years of rainfall-triggered landslide data in Nepal.\n",
      "  - expected output: None\n",
      "  - context: None\n",
      "  - retrieval context: None\n",
      "\n",
      "======================================================================\n",
      "\n",
      "Metrics Summary\n",
      "\n",
      "  - ❌ Correctness (GEval) (score: 0.0, threshold: 1.0, strict: True, evaluation model: gpt-4o, reason: Actual output only mentions artificial neural networks with AUC value, while input asks for various methods and estimation techniques., error: None)\n",
      "\n",
      "For test case:\n",
      "\n",
      "  - input: methods and estimation to map landslides in Nepal\n",
      "  - actual output: The artificial neural network approach yielded the best prediction capability for landslide susceptibility mapping in the high mountain area of Nepal, with an AUC value of 96.9%.\n",
      "  - expected output: None\n",
      "  - context: None\n",
      "  - retrieval context: None\n",
      "\n",
      "======================================================================\n",
      "\n",
      "Overall Metric Pass Rates\n",
      "\n",
      "Correctness (GEval): 0.00% pass rate\n",
      "\n",
      "======================================================================\n",
      "\n"
     ]
    },
    {
     "data": {
      "text/html": [
       "<pre style=\"white-space:pre;overflow-x:auto;line-height:normal;font-family:Menlo,'DejaVu Sans Mono',consolas,'Courier New',monospace\">\n",
       "<span style=\"color: #05f58d; text-decoration-color: #05f58d\">✓</span> Tests finished 🎉! Run <span style=\"color: #008000; text-decoration-color: #008000; font-weight: bold\">'deepeval login'</span> to save and analyze evaluation results on Confident AI.\n",
       " \n",
       "✨👀 Looking for a place for your LLM test data to live 🏡❤️ ? Use <span style=\"color: #6a00ff; text-decoration-color: #6a00ff\">Confident AI</span> to get &amp; share testing reports, \n",
       "experiment with models/prompts, and catch regressions for your LLM system. Just run <span style=\"color: #008080; text-decoration-color: #008080\">'deepeval login'</span> in the CLI. \n",
       "\n",
       "</pre>\n"
      ],
      "text/plain": [
       "\n",
       "\u001b[38;2;5;245;141m✓\u001b[0m Tests finished 🎉! Run \u001b[1;32m'deepeval login'\u001b[0m to save and analyze evaluation results on Confident AI.\n",
       " \n",
       "✨👀 Looking for a place for your LLM test data to live 🏡❤️ ? Use \u001b[38;2;106;0;255mConfident AI\u001b[0m to get & share testing reports, \n",
       "experiment with models/prompts, and catch regressions for your LLM system. Just run \u001b[36m'deepeval login'\u001b[0m in the CLI. \n",
       "\n"
      ]
     },
     "metadata": {},
     "output_type": "display_data"
    },
    {
     "data": {
      "text/plain": [
       "EvaluationResult(test_results=[TestResult(name='test_case_3', success=False, metrics_data=[MetricData(name='Correctness (GEval)', threshold=1.0, success=False, score=0.0, reason='The output mentions a specific dataset related to Gorkha, Nepal but does not address methods and estimation for mapping landslides in Nepal generally, missing a comprehensive and relevant explanation.', strict_mode=True, evaluation_model='gpt-4o', error=None, evaluation_cost=0.0025174999999999998, verbose_logs='Criteria:\\nCorrectness - determine if the actual output is a correct and helpful answer to the given query \\n \\nEvaluation Steps:\\n[\\n    \"Verify if the actual output directly addresses the query presented in the input.\",\\n    \"Check the accuracy of the information provided in the actual output against the known facts or sources.\",\\n    \"Determine if the actual output provides a clear and comprehensive explanation or solution relevant to the query.\",\\n    \"Assess if the output includes any errors or irrelevant information that might mislead or confuse the user.\"\\n]')], conversational=False, multimodal=False, input='methods and estimation to map landslides in Nepal', actual_output='The Large-scale Multi-source High-resolution Landslide Dataset (LMHLD) includes remote sensing images from five different satellite sensors across seven study areas, including Gorkha, Nepal (2015).', expected_output=None, context=None, retrieval_context=None, additional_metadata=None), TestResult(name='test_case_2', success=False, metrics_data=[MetricData(name='Correctness (GEval)', threshold=1.0, success=False, score=0.0, reason=\"The output 'Answer not found' does not address the query about 'methods and estimation to map landslides in Nepal'.\", strict_mode=True, evaluation_model='gpt-4o', error=None, evaluation_cost=0.00249, verbose_logs='Criteria:\\nCorrectness - determine if the actual output is a correct and helpful answer to the given query \\n \\nEvaluation Steps:\\n[\\n    \"Compare the actual output with the input query to ensure that the output directly addresses the query.\",\\n    \"Verify that the information provided in the actual output is factually accurate and relevant to the query.\",\\n    \"Evaluate whether the actual output provides a complete and concise answer, covering all aspects of the query.\",\\n    \"Check if the language and formatting used in the actual output is clear and understandable, ensuring it enhances the helpfulness of the response.\"\\n]')], conversational=False, multimodal=False, input='methods and estimation to map landslides in Nepal', actual_output='Answer not found', expected_output=None, context=None, retrieval_context=None, additional_metadata=None), TestResult(name='test_case_4', success=False, metrics_data=[MetricData(name='Correctness (GEval)', threshold=1.0, success=False, score=0.0, reason='The output discusses landslide susceptibility in the Tinau watershed, which does not address or provide methods and estimation to map landslides in Nepal.', strict_mode=True, evaluation_model='gpt-4o', error=None, evaluation_cost=0.0023375, verbose_logs='Criteria:\\nCorrectness - determine if the actual output is a correct and helpful answer to the given query \\n \\nEvaluation Steps:\\n[\\n    \"Compare the actual output with the expected correct answer to check for accuracy.\",\\n    \"Evaluate if the actual output directly addresses and resolves the input query.\",\\n    \"Assess whether the information in the actual output is complete and does not omit necessary details for the input query.\",\\n    \"Determine if the actual output enhances understanding or provides helpful insights relevant to the input.\"\\n]')], conversational=False, multimodal=False, input='methods and estimation to map landslides in Nepal', actual_output='About 30% of the area in the Tinau watershed is highly susceptible to landsliding.', expected_output=None, context=None, retrieval_context=None, additional_metadata=None), TestResult(name='test_case_1', success=False, metrics_data=[MetricData(name='Correctness (GEval)', threshold=1.0, success=False, score=0.0, reason=\"The output lacks details on estimation methods for mapping landslides; it mentions a model but doesn't address mapping directly.\", strict_mode=True, evaluation_model='gpt-4o', error=None, evaluation_cost=0.0023025, verbose_logs='Criteria:\\nCorrectness - determine if the actual output is a correct and helpful answer to the given query \\n \\nEvaluation Steps:\\n[\\n    \"Compare the actual output against the input query to ensure all aspects of the query are addressed.\",\\n    \"Check if the actual output directly answers the main question or task in the input query.\",\\n    \"Evaluate the relevance and applicability of the actual output in resolving the input query.\",\\n    \"Verify the accuracy and factual correctness of the content in the actual output.\"\\n]')], conversational=False, multimodal=False, input='methods and estimation to map landslides in Nepal', actual_output='A unified landslide hazard model was developed using deep learning and extreme value theory, analyzing 30 years of rainfall-triggered landslide data in Nepal.', expected_output=None, context=None, retrieval_context=None, additional_metadata=None), TestResult(name='test_case_0', success=False, metrics_data=[MetricData(name='Correctness (GEval)', threshold=1.0, success=False, score=0.0, reason='Actual output only mentions artificial neural networks with AUC value, while input asks for various methods and estimation techniques.', strict_mode=True, evaluation_model='gpt-4o', error=None, evaluation_cost=0.0024525, verbose_logs='Criteria:\\nCorrectness - determine if the actual output is a correct and helpful answer to the given query \\n \\nEvaluation Steps:\\n[\\n    \"Compare the actual output against the expected correct information to verify if it accurately answers the input query.\",\\n    \"Assess whether the actual output provides clear, relevant, and useful information in response to the input query.\",\\n    \"Identify any discrepancies or omissions in the actual output that might prevent it from addressing the input query correctly.\",\\n    \"Confirm that the actual output aligns logically with the context and intent of the input query.\"\\n]')], conversational=False, multimodal=False, input='methods and estimation to map landslides in Nepal', actual_output='The artificial neural network approach yielded the best prediction capability for landslide susceptibility mapping in the high mountain area of Nepal, with an AUC value of 96.9%.', expected_output=None, context=None, retrieval_context=None, additional_metadata=None)], confident_link=None)"
      ]
     },
     "execution_count": 10,
     "metadata": {},
     "output_type": "execute_result"
    }
   ],
   "source": [
    "# Evaluation metric: \n",
    "geval_metric = GEval(\n",
    "    name=\"Correctness\",\n",
    "    criteria=\"Correctness - determine if the actual output is a correct and helpful answer to the given query\",\n",
    "    evaluation_params=[LLMTestCaseParams.ACTUAL_OUTPUT, LLMTestCaseParams.INPUT],\n",
    "    strict_mode=True\n",
    ")\n",
    "evaluate(dataset, [geval_metric])"
   ]
  },
  {
   "cell_type": "code",
   "execution_count": 11,
   "id": "ad662a92-3412-40e9-8c52-dfd81af7422e",
   "metadata": {},
   "outputs": [
    {
     "data": {
      "text/html": [
       "<pre style=\"white-space:pre;overflow-x:auto;line-height:normal;font-family:Menlo,'DejaVu Sans Mono',consolas,'Courier New',monospace\">✨ You're running DeepEval's latest <span style=\"color: #6a00ff; text-decoration-color: #6a00ff\">Correctness </span><span style=\"color: #6a00ff; text-decoration-color: #6a00ff; font-weight: bold\">(</span><span style=\"color: #6a00ff; text-decoration-color: #6a00ff\">GEval</span><span style=\"color: #6a00ff; text-decoration-color: #6a00ff; font-weight: bold\">)</span><span style=\"color: #6a00ff; text-decoration-color: #6a00ff\"> Metric</span>! <span style=\"color: #374151; text-decoration-color: #374151; font-weight: bold\">(</span><span style=\"color: #374151; text-decoration-color: #374151\">using gpt-4o, </span><span style=\"color: #374151; text-decoration-color: #374151\">strict</span><span style=\"color: #374151; text-decoration-color: #374151\">=</span><span style=\"color: #374151; text-decoration-color: #374151; font-style: italic\">True</span><span style=\"color: #374151; text-decoration-color: #374151\">, </span><span style=\"color: #374151; text-decoration-color: #374151\">async_mode</span><span style=\"color: #374151; text-decoration-color: #374151\">=</span><span style=\"color: #374151; text-decoration-color: #374151; font-style: italic\">True</span><span style=\"color: #374151; text-decoration-color: #374151; font-weight: bold\">)</span><span style=\"color: #374151; text-decoration-color: #374151\">...</span>\n",
       "</pre>\n"
      ],
      "text/plain": [
       "✨ You're running DeepEval's latest \u001b[38;2;106;0;255mCorrectness \u001b[0m\u001b[1;38;2;106;0;255m(\u001b[0m\u001b[38;2;106;0;255mGEval\u001b[0m\u001b[1;38;2;106;0;255m)\u001b[0m\u001b[38;2;106;0;255m Metric\u001b[0m! \u001b[1;38;2;55;65;81m(\u001b[0m\u001b[38;2;55;65;81musing gpt-4o, \u001b[0m\u001b[38;2;55;65;81mstrict\u001b[0m\u001b[38;2;55;65;81m=\u001b[0m\u001b[3;38;2;55;65;81mTrue\u001b[0m\u001b[38;2;55;65;81m, \u001b[0m\u001b[38;2;55;65;81masync_mode\u001b[0m\u001b[38;2;55;65;81m=\u001b[0m\u001b[3;38;2;55;65;81mTrue\u001b[0m\u001b[1;38;2;55;65;81m)\u001b[0m\u001b[38;2;55;65;81m...\u001b[0m\n"
      ]
     },
     "metadata": {},
     "output_type": "display_data"
    },
    {
     "name": "stderr",
     "output_type": "stream",
     "text": [
      "Evaluating 5 test case(s) in parallel: |█████████████████|100% (5/5) [Time Taken: 00:05,  1.09s/test case]\n"
     ]
    },
    {
     "name": "stdout",
     "output_type": "stream",
     "text": [
      "\n",
      "======================================================================\n",
      "\n",
      "Metrics Summary\n",
      "\n",
      "  - ✅ Correctness (GEval) (score: 1.0, threshold: 1.0, strict: True, evaluation model: gpt-4o, reason: The Actual Output addresses the research question by discussing the Landslide Dataset for Nepal, includes comprehensive details on methodology and validation for mapping landslides, and ensures the dataset's reliability for deep learning models., error: None)\n",
      "\n",
      "For test case:\n",
      "\n",
      "  - input: methods and estimation to map landslides in Nepal\n",
      "  - actual output: {'source': 'https://arxiv.org/pdf/2502.19866v1.pdf', 'result': {'estimations': [{'answer': 'The Large-scale Multi-source High-resolution Landslide Dataset (LMHLD) includes remote sensing images from five different satellite sensors across seven study areas, including Gorkha, Nepal (2015).', 'related_knowledge': ['LMHLD is designed for landslide detection using deep learning.', 'The dataset includes 25,365 patches of various sizes for different landslide scales.'], 'research_data': {'data_format': 'HDF5', 'origin': 'Sentinel-2', 'data_url': HttpUrl('https://doi.org/10.5281/zenodo.11424988')}, 'methodology': 'The dataset was constructed using high-resolution remote sensing images and includes a training module to support landslide detection tasks at varying scales.', 'assumptions': ['The dataset is representative of various landslide types and conditions.', 'Deep learning models can generalize well using this dataset.'], 'confidence_level': 0.95, 'validation_method': 'Five dataset quality evaluation experiments were conducted using seven deep learning models from the U-Net family.'}]}}\n",
      "  - expected output: None\n",
      "  - context: None\n",
      "  - retrieval context: None\n",
      "\n",
      "======================================================================\n",
      "\n",
      "Metrics Summary\n",
      "\n",
      "  - ❌ Correctness (GEval) (score: 0.0, threshold: 1.0, strict: True, evaluation model: gpt-4o, reason: The actual output lacks comprehensive addressing of mapping landslides in Nepal, no logical explanations or literature review are provided, and the source is irrelevant to the query., error: None)\n",
      "\n",
      "For test case:\n",
      "\n",
      "  - input: methods and estimation to map landslides in Nepal\n",
      "  - actual output: {'source': 'https://doi.org/10.3301/ROL.2016.79.', 'result': {'estimations': [{'answer': 'Answer not found', 'related_knowledge': [], 'research_data': {'data_format': 'Not applicable', 'origin': 'Not applicable', 'data_url': None}, 'methodology': 'Not applicable', 'assumptions': None, 'confidence_level': None, 'validation_method': None}]}}\n",
      "  - expected output: None\n",
      "  - context: None\n",
      "  - retrieval context: None\n",
      "\n",
      "======================================================================\n",
      "\n",
      "Metrics Summary\n",
      "\n",
      "  - ✅ Correctness (GEval) (score: 1.0, threshold: 1.0, strict: True, evaluation model: gpt-4o, reason: The output comprehensively covers existing literature on landslide mapping methods in Nepal, structures reasoning logically, cites a specific and relevant source, and stays focused on methods and estimation, matching the query., error: None)\n",
      "\n",
      "For test case:\n",
      "\n",
      "  - input: methods and estimation to map landslides in Nepal\n",
      "  - actual output: {'source': 'https://link.springer.com/article/10.1007/s12665-021-09650-2', 'result': {'estimations': [{'answer': 'The artificial neural network approach yielded the best prediction capability for landslide susceptibility mapping in the high mountain area of Nepal, with an AUC value of 96.9%.', 'related_knowledge': ['Landslide susceptibility mapping', 'Artificial neural network', 'High mountain regions'], 'research_data': {'data_format': 'Satellite images', 'origin': 'Indrawati watershed, Central Nepal', 'data_url': None}, 'methodology': 'Landslide susceptibility mapping using four approaches: frequency ratio, logistic regression, artificial neural network, and support vector machine.', 'assumptions': ['The landslides were randomly split into a ratio of 80:20 for training and validating the susceptibility maps.'], 'confidence_level': 96.9, 'validation_method': 'Validated using area under curve (AUC), kappa index, and statistical inferences.'}]}}\n",
      "  - expected output: None\n",
      "  - context: None\n",
      "  - retrieval context: None\n",
      "\n",
      "======================================================================\n",
      "\n",
      "Metrics Summary\n",
      "\n",
      "  - ✅ Correctness (GEval) (score: 1.0, threshold: 1.0, strict: True, evaluation model: gpt-4o, reason: The output addresses the query about methods to map landslides in Nepal using deep learning and extreme value theory and includes relevant research data from Jones et al. and credible sources like arXiv., error: None)\n",
      "\n",
      "For test case:\n",
      "\n",
      "  - input: methods and estimation to map landslides in Nepal\n",
      "  - actual output: {'source': 'https://arxiv.org/pdf/2401.14210v1.pdf', 'result': {'estimations': [{'answer': 'A unified landslide hazard model was developed using deep learning and extreme value theory, analyzing 30 years of rainfall-triggered landslide data in Nepal.', 'related_knowledge': ['Landslide hazard model combines susceptibility, intensity, and frequency.', 'Model predicts landslide hazard for multiple return periods based on climate projections.'], 'research_data': {'data_format': 'CSV', 'origin': 'Jones et al. (2021) multitemporal landslide inventory', 'data_url': HttpUrl('https://doi.org/10.5281/zenodo.10567233')}, 'methodology': 'Deep learning combined with the extended generalized Pareto distribution (eGPD) for modeling landslide hazard.', 'assumptions': ['The model assumes that the relationship between environmental factors and landslide occurrence is constant over time and space.'], 'confidence_level': 0.86, 'validation_method': 'Model performance evaluated using AUC score and CRPS.'}]}}\n",
      "  - expected output: None\n",
      "  - context: None\n",
      "  - retrieval context: None\n",
      "\n",
      "======================================================================\n",
      "\n",
      "Metrics Summary\n",
      "\n",
      "  - ✅ Correctness (GEval) (score: 1.0, threshold: 1.0, strict: True, evaluation model: gpt-4o, reason: The actual output addresses mapping landslides in Nepal by explaining the weight of evidence method and its application in the Tinau watershed. It offers adequate reasoning by stating assumptions and validation method. The source provided is applicable and literature review is comprehensive regarding landslide susceptibilities in Nepal., error: None)\n",
      "\n",
      "For test case:\n",
      "\n",
      "  - input: methods and estimation to map landslides in Nepal\n",
      "  - actual output: {'source': 'https://hdl.handle.net/20.500.14017/8df80ddb-1fa4-4abd-929e-79249a9b579a', 'result': {'estimations': [{'answer': 'About 30% of the area in the Tinau watershed is highly susceptible to landsliding.', 'related_knowledge': ['Landslide susceptibility mapping is crucial for disaster management in Nepal.', 'The weight of evidence method is used for mapping landslide susceptibility.'], 'research_data': {'data_format': 'Field observations and geological data', 'origin': 'Tinau watershed, west Nepal', 'data_url': None}, 'methodology': 'Weight of evidence method applied to prepare landslide susceptibility maps.', 'assumptions': ['Field observations are representative of the area.', 'Available geological and hydrological data are accurate.'], 'confidence_level': None, 'validation_method': 'Predicted susceptibility levels were compared with past landslide locations.'}]}}\n",
      "  - expected output: None\n",
      "  - context: None\n",
      "  - retrieval context: None\n",
      "\n",
      "======================================================================\n",
      "\n",
      "Overall Metric Pass Rates\n",
      "\n",
      "Correctness (GEval): 80.00% pass rate\n",
      "\n",
      "======================================================================\n",
      "\n"
     ]
    },
    {
     "data": {
      "text/html": [
       "<pre style=\"white-space:pre;overflow-x:auto;line-height:normal;font-family:Menlo,'DejaVu Sans Mono',consolas,'Courier New',monospace\">\n",
       "<span style=\"color: #05f58d; text-decoration-color: #05f58d\">✓</span> Tests finished 🎉! Run <span style=\"color: #008000; text-decoration-color: #008000; font-weight: bold\">'deepeval login'</span> to save and analyze evaluation results on Confident AI.\n",
       " \n",
       "✨👀 Looking for a place for your LLM test data to live 🏡❤️ ? Use <span style=\"color: #6a00ff; text-decoration-color: #6a00ff\">Confident AI</span> to get &amp; share testing reports, \n",
       "experiment with models/prompts, and catch regressions for your LLM system. Just run <span style=\"color: #008080; text-decoration-color: #008080\">'deepeval login'</span> in the CLI. \n",
       "\n",
       "</pre>\n"
      ],
      "text/plain": [
       "\n",
       "\u001b[38;2;5;245;141m✓\u001b[0m Tests finished 🎉! Run \u001b[1;32m'deepeval login'\u001b[0m to save and analyze evaluation results on Confident AI.\n",
       " \n",
       "✨👀 Looking for a place for your LLM test data to live 🏡❤️ ? Use \u001b[38;2;106;0;255mConfident AI\u001b[0m to get & share testing reports, \n",
       "experiment with models/prompts, and catch regressions for your LLM system. Just run \u001b[36m'deepeval login'\u001b[0m in the CLI. \n",
       "\n"
      ]
     },
     "metadata": {},
     "output_type": "display_data"
    },
    {
     "data": {
      "text/plain": [
       "EvaluationResult(test_results=[TestResult(name='test_case_3', success=True, metrics_data=[MetricData(name='Correctness (GEval)', threshold=1.0, success=True, score=1.0, reason=\"The Actual Output addresses the research question by discussing the Landslide Dataset for Nepal, includes comprehensive details on methodology and validation for mapping landslides, and ensures the dataset's reliability for deep learning models.\", strict_mode=True, evaluation_model='gpt-4o', error=None, evaluation_cost=0.0032624999999999998, verbose_logs='Criteria:\\nCorrectness - determine if the actual output represents a thorough and accurate literature review in response to the given query. An output is considered correct is answer is relevant to the user\\'s query, adequate reasoning is provided, and if sources are likely to be relevant and helfpul to the user\\'s research question \\n \\nEvaluation Steps:\\n[\\n    \"Compare the Actual Output to the Input query to assess if the literature review addresses the specified research question.\",\\n    \"Evaluate the depth and accuracy of the Actual Output to determine if it provides a comprehensive analysis of relevant literature.\",\\n    \"Check if the Actual Output presents adequate reasoning and critical evaluation of the sources.\",\\n    \"Verify the relevance and reliability of cited sources to ensure they are helpful for addressing the research question.\"\\n]')], conversational=False, multimodal=False, input='methods and estimation to map landslides in Nepal', actual_output=\"{'source': 'https://arxiv.org/pdf/2502.19866v1.pdf', 'result': {'estimations': [{'answer': 'The Large-scale Multi-source High-resolution Landslide Dataset (LMHLD) includes remote sensing images from five different satellite sensors across seven study areas, including Gorkha, Nepal (2015).', 'related_knowledge': ['LMHLD is designed for landslide detection using deep learning.', 'The dataset includes 25,365 patches of various sizes for different landslide scales.'], 'research_data': {'data_format': 'HDF5', 'origin': 'Sentinel-2', 'data_url': HttpUrl('https://doi.org/10.5281/zenodo.11424988')}, 'methodology': 'The dataset was constructed using high-resolution remote sensing images and includes a training module to support landslide detection tasks at varying scales.', 'assumptions': ['The dataset is representative of various landslide types and conditions.', 'Deep learning models can generalize well using this dataset.'], 'confidence_level': 0.95, 'validation_method': 'Five dataset quality evaluation experiments were conducted using seven deep learning models from the U-Net family.'}]}}\", expected_output=None, context=None, retrieval_context=None, additional_metadata=None), TestResult(name='test_case_2', success=False, metrics_data=[MetricData(name='Correctness (GEval)', threshold=1.0, success=False, score=0.0, reason='The actual output lacks comprehensive addressing of mapping landslides in Nepal, no logical explanations or literature review are provided, and the source is irrelevant to the query.', strict_mode=True, evaluation_model='gpt-4o', error=None, evaluation_cost=0.0029925000000000004, verbose_logs='Criteria:\\nCorrectness - determine if the actual output represents a thorough and accurate literature review in response to the given query. An output is considered correct is answer is relevant to the user\\'s query, adequate reasoning is provided, and if sources are likely to be relevant and helfpul to the user\\'s research question \\n \\nEvaluation Steps:\\n[\\n    \"Verify the relevance of the actual output to the user\\'s query by checking if it addresses the research question comprehensively.\",\\n    \"Assess the adequacy of reasoning in the actual output by determining if it provides logical explanations and interpretations related to the literature review.\",\\n    \"Evaluate the relevance and helpfulness of the sources cited in the actual output to ensure they align with the user\\'s research question.\",\\n    \"Compare the completeness of the actual output against the expected depth of a thorough literature review on the topic.\"\\n]')], conversational=False, multimodal=False, input='methods and estimation to map landslides in Nepal', actual_output=\"{'source': 'https://doi.org/10.3301/ROL.2016.79.', 'result': {'estimations': [{'answer': 'Answer not found', 'related_knowledge': [], 'research_data': {'data_format': 'Not applicable', 'origin': 'Not applicable', 'data_url': None}, 'methodology': 'Not applicable', 'assumptions': None, 'confidence_level': None, 'validation_method': None}]}}\", expected_output=None, context=None, retrieval_context=None, additional_metadata=None), TestResult(name='test_case_0', success=True, metrics_data=[MetricData(name='Correctness (GEval)', threshold=1.0, success=True, score=1.0, reason='The output comprehensively covers existing literature on landslide mapping methods in Nepal, structures reasoning logically, cites a specific and relevant source, and stays focused on methods and estimation, matching the query.', strict_mode=True, evaluation_model='gpt-4o', error=None, evaluation_cost=0.0033975, verbose_logs='Criteria:\\nCorrectness - determine if the actual output represents a thorough and accurate literature review in response to the given query. An output is considered correct is answer is relevant to the user\\'s query, adequate reasoning is provided, and if sources are likely to be relevant and helfpul to the user\\'s research question \\n \\nEvaluation Steps:\\n[\\n    \"Check if the actual output provides a comprehensive overview of existing literature related to the user\\'s query.\",\\n    \"Evaluate if the output\\'s reasoning is well-structured, logical, and aligns with the main themes and questions posed by the input.\",\\n    \"Assess the relevance and reliability of the sources cited in the actual output, ensuring they are pertinent and valuable for the user\\'s research inquiry.\",\\n    \"Ensure the overall analysis remains focused on the query without deviating into unrelated topics, maintaining clarity and relevance throughout the output.\"\\n]')], conversational=False, multimodal=False, input='methods and estimation to map landslides in Nepal', actual_output=\"{'source': 'https://link.springer.com/article/10.1007/s12665-021-09650-2', 'result': {'estimations': [{'answer': 'The artificial neural network approach yielded the best prediction capability for landslide susceptibility mapping in the high mountain area of Nepal, with an AUC value of 96.9%.', 'related_knowledge': ['Landslide susceptibility mapping', 'Artificial neural network', 'High mountain regions'], 'research_data': {'data_format': 'Satellite images', 'origin': 'Indrawati watershed, Central Nepal', 'data_url': None}, 'methodology': 'Landslide susceptibility mapping using four approaches: frequency ratio, logistic regression, artificial neural network, and support vector machine.', 'assumptions': ['The landslides were randomly split into a ratio of 80:20 for training and validating the susceptibility maps.'], 'confidence_level': 96.9, 'validation_method': 'Validated using area under curve (AUC), kappa index, and statistical inferences.'}]}}\", expected_output=None, context=None, retrieval_context=None, additional_metadata=None), TestResult(name='test_case_1', success=True, metrics_data=[MetricData(name='Correctness (GEval)', threshold=1.0, success=True, score=1.0, reason='The output addresses the query about methods to map landslides in Nepal using deep learning and extreme value theory and includes relevant research data from Jones et al. and credible sources like arXiv.', strict_mode=True, evaluation_model='gpt-4o', error=None, evaluation_cost=0.0032649999999999997, verbose_logs='Criteria:\\nCorrectness - determine if the actual output represents a thorough and accurate literature review in response to the given query. An output is considered correct is answer is relevant to the user\\'s query, adequate reasoning is provided, and if sources are likely to be relevant and helfpul to the user\\'s research question \\n \\nEvaluation Steps:\\n[\\n    \"Verify if the actual output directly addresses the user\\'s query in a comprehensive manner.\",\\n    \"Check the accuracy of the literature review by assessing if the sources used are both relevant and credible for the research question.\",\\n    \"Evaluate whether the reasoning and arguments presented in the output are logical and well-supported by the references.\",\\n    \"Compare the input query with the output to ensure that all key aspects of the query are thoroughly addressed in the review.\"\\n]')], conversational=False, multimodal=False, input='methods and estimation to map landslides in Nepal', actual_output=\"{'source': 'https://arxiv.org/pdf/2401.14210v1.pdf', 'result': {'estimations': [{'answer': 'A unified landslide hazard model was developed using deep learning and extreme value theory, analyzing 30 years of rainfall-triggered landslide data in Nepal.', 'related_knowledge': ['Landslide hazard model combines susceptibility, intensity, and frequency.', 'Model predicts landslide hazard for multiple return periods based on climate projections.'], 'research_data': {'data_format': 'CSV', 'origin': 'Jones et al. (2021) multitemporal landslide inventory', 'data_url': HttpUrl('https://doi.org/10.5281/zenodo.10567233')}, 'methodology': 'Deep learning combined with the extended generalized Pareto distribution (eGPD) for modeling landslide hazard.', 'assumptions': ['The model assumes that the relationship between environmental factors and landslide occurrence is constant over time and space.'], 'confidence_level': 0.86, 'validation_method': 'Model performance evaluated using AUC score and CRPS.'}]}}\", expected_output=None, context=None, retrieval_context=None, additional_metadata=None), TestResult(name='test_case_4', success=True, metrics_data=[MetricData(name='Correctness (GEval)', threshold=1.0, success=True, score=1.0, reason='The actual output addresses mapping landslides in Nepal by explaining the weight of evidence method and its application in the Tinau watershed. It offers adequate reasoning by stating assumptions and validation method. The source provided is applicable and literature review is comprehensive regarding landslide susceptibilities in Nepal.', strict_mode=True, evaluation_model='gpt-4o', error=None, evaluation_cost=0.0034575, verbose_logs='Criteria:\\nCorrectness - determine if the actual output represents a thorough and accurate literature review in response to the given query. An output is considered correct is answer is relevant to the user\\'s query, adequate reasoning is provided, and if sources are likely to be relevant and helfpul to the user\\'s research question \\n \\nEvaluation Steps:\\n[\\n    \"Check if the actual output directly addresses the query posed in the input to ensure relevance of the literature review.\",\\n    \"Evaluate whether the actual output provides adequate reasoning and explanations that support the findings and conclusions presented.\",\\n    \"Assess the sources cited in the actual output for their relevance and potential to be helpful in addressing the user\\'s research question.\",\\n    \"Verify the comprehensiveness and accuracy of the literature review to ensure it thoroughly covers the necessary concepts and studies related to the query.\"\\n]')], conversational=False, multimodal=False, input='methods and estimation to map landslides in Nepal', actual_output=\"{'source': 'https://hdl.handle.net/20.500.14017/8df80ddb-1fa4-4abd-929e-79249a9b579a', 'result': {'estimations': [{'answer': 'About 30% of the area in the Tinau watershed is highly susceptible to landsliding.', 'related_knowledge': ['Landslide susceptibility mapping is crucial for disaster management in Nepal.', 'The weight of evidence method is used for mapping landslide susceptibility.'], 'research_data': {'data_format': 'Field observations and geological data', 'origin': 'Tinau watershed, west Nepal', 'data_url': None}, 'methodology': 'Weight of evidence method applied to prepare landslide susceptibility maps.', 'assumptions': ['Field observations are representative of the area.', 'Available geological and hydrological data are accurate.'], 'confidence_level': None, 'validation_method': 'Predicted susceptibility levels were compared with past landslide locations.'}]}}\", expected_output=None, context=None, retrieval_context=None, additional_metadata=None)], confident_link=None)"
      ]
     },
     "execution_count": 11,
     "metadata": {},
     "output_type": "execute_result"
    }
   ],
   "source": [
    "full_test_cases = [\n",
    "    LLMTestCase(input=query, actual_output=str(r.model_dump()))\n",
    "    for r in result\n",
    "]\n",
    "\n",
    "full_dataset = EvaluationDataset(test_cases=full_test_cases)\n",
    "\n",
    "updated_geval_metric = GEval(\n",
    "    name=\"Correctness\",\n",
    "    criteria=\"Correctness - determine if the actual output represents a thorough and accurate literature review in response to the given query. An output is considered correct is answer is relevant to the user's query, adequate reasoning is provided, and if sources are likely to be relevant and helfpul to the user's research question\",\n",
    "    evaluation_params=[LLMTestCaseParams.ACTUAL_OUTPUT, LLMTestCaseParams.INPUT],\n",
    "    strict_mode=True\n",
    ")\n",
    "evaluate(full_dataset, [updated_geval_metric])"
   ]
  },
  {
   "cell_type": "code",
   "execution_count": 12,
   "id": "f4828163-c893-4aef-86c3-f201a307a15d",
   "metadata": {},
   "outputs": [
    {
     "data": {
      "text/html": [
       "<pre style=\"white-space:pre;overflow-x:auto;line-height:normal;font-family:Menlo,'DejaVu Sans Mono',consolas,'Courier New',monospace\">✨ You're running DeepEval's latest <span style=\"color: #6a00ff; text-decoration-color: #6a00ff\">Correctness </span><span style=\"color: #6a00ff; text-decoration-color: #6a00ff; font-weight: bold\">(</span><span style=\"color: #6a00ff; text-decoration-color: #6a00ff\">GEval</span><span style=\"color: #6a00ff; text-decoration-color: #6a00ff; font-weight: bold\">)</span><span style=\"color: #6a00ff; text-decoration-color: #6a00ff\"> Metric</span>! <span style=\"color: #374151; text-decoration-color: #374151; font-weight: bold\">(</span><span style=\"color: #374151; text-decoration-color: #374151\">using gpt-4o, </span><span style=\"color: #374151; text-decoration-color: #374151\">strict</span><span style=\"color: #374151; text-decoration-color: #374151\">=</span><span style=\"color: #374151; text-decoration-color: #374151; font-style: italic\">True</span><span style=\"color: #374151; text-decoration-color: #374151\">, </span><span style=\"color: #374151; text-decoration-color: #374151\">async_mode</span><span style=\"color: #374151; text-decoration-color: #374151\">=</span><span style=\"color: #374151; text-decoration-color: #374151; font-style: italic\">True</span><span style=\"color: #374151; text-decoration-color: #374151; font-weight: bold\">)</span><span style=\"color: #374151; text-decoration-color: #374151\">...</span>\n",
       "</pre>\n"
      ],
      "text/plain": [
       "✨ You're running DeepEval's latest \u001b[38;2;106;0;255mCorrectness \u001b[0m\u001b[1;38;2;106;0;255m(\u001b[0m\u001b[38;2;106;0;255mGEval\u001b[0m\u001b[1;38;2;106;0;255m)\u001b[0m\u001b[38;2;106;0;255m Metric\u001b[0m! \u001b[1;38;2;55;65;81m(\u001b[0m\u001b[38;2;55;65;81musing gpt-4o, \u001b[0m\u001b[38;2;55;65;81mstrict\u001b[0m\u001b[38;2;55;65;81m=\u001b[0m\u001b[3;38;2;55;65;81mTrue\u001b[0m\u001b[38;2;55;65;81m, \u001b[0m\u001b[38;2;55;65;81masync_mode\u001b[0m\u001b[38;2;55;65;81m=\u001b[0m\u001b[3;38;2;55;65;81mTrue\u001b[0m\u001b[1;38;2;55;65;81m)\u001b[0m\u001b[38;2;55;65;81m...\u001b[0m\n"
      ]
     },
     "metadata": {},
     "output_type": "display_data"
    },
    {
     "name": "stderr",
     "output_type": "stream",
     "text": [
      "Evaluating 5 test case(s) in parallel: |█████████████████|100% (5/5) [Time Taken: 00:04,  1.10test case/s]\n"
     ]
    },
    {
     "name": "stdout",
     "output_type": "stream",
     "text": [
      "\n",
      "======================================================================\n",
      "\n",
      "Metrics Summary\n",
      "\n",
      "  - ❌ Correctness (GEval) (score: 0.0, threshold: 1.0, strict: True, evaluation model: gpt-4o, reason: The source provided does not explicitly reference geographic information about Nepal. Additionally, confidence level is mentioned as None, lacking comprehensive analysis., error: None)\n",
      "\n",
      "For test case:\n",
      "\n",
      "  - input: methods and estimation to map landslides in Nepal\n",
      "  - actual output: {'source': 'https://hdl.handle.net/20.500.14017/8df80ddb-1fa4-4abd-929e-79249a9b579a', 'result': {'estimations': [{'answer': 'About 30% of the area in the Tinau watershed is highly susceptible to landsliding.', 'related_knowledge': ['Landslide susceptibility mapping is crucial for disaster management in Nepal.', 'The weight of evidence method is used for mapping landslide susceptibility.'], 'research_data': {'data_format': 'Field observations and geological data', 'origin': 'Tinau watershed, west Nepal', 'data_url': None}, 'methodology': 'Weight of evidence method applied to prepare landslide susceptibility maps.', 'assumptions': ['Field observations are representative of the area.', 'Available geological and hydrological data are accurate.'], 'confidence_level': None, 'validation_method': 'Predicted susceptibility levels were compared with past landslide locations.'}]}}\n",
      "  - expected output: None\n",
      "  - context: None\n",
      "  - retrieval context: None\n",
      "\n",
      "======================================================================\n",
      "\n",
      "Metrics Summary\n",
      "\n",
      "  - ✅ Correctness (GEval) (score: 1.0, threshold: 1.0, strict: True, evaluation model: gpt-4o, reason: The output addresses the query by detailing a landslide hazard model for Nepal, includes relevant methodology and data, and cites appropriate sources, meeting the evaluation criteria., error: None)\n",
      "\n",
      "For test case:\n",
      "\n",
      "  - input: methods and estimation to map landslides in Nepal\n",
      "  - actual output: {'source': 'https://arxiv.org/pdf/2401.14210v1.pdf', 'result': {'estimations': [{'answer': 'A unified landslide hazard model was developed using deep learning and extreme value theory, analyzing 30 years of rainfall-triggered landslide data in Nepal.', 'related_knowledge': ['Landslide hazard model combines susceptibility, intensity, and frequency.', 'Model predicts landslide hazard for multiple return periods based on climate projections.'], 'research_data': {'data_format': 'CSV', 'origin': 'Jones et al. (2021) multitemporal landslide inventory', 'data_url': HttpUrl('https://doi.org/10.5281/zenodo.10567233')}, 'methodology': 'Deep learning combined with the extended generalized Pareto distribution (eGPD) for modeling landslide hazard.', 'assumptions': ['The model assumes that the relationship between environmental factors and landslide occurrence is constant over time and space.'], 'confidence_level': 0.86, 'validation_method': 'Model performance evaluated using AUC score and CRPS.'}]}}\n",
      "  - expected output: None\n",
      "  - context: None\n",
      "  - retrieval context: None\n",
      "\n",
      "======================================================================\n",
      "\n",
      "Metrics Summary\n",
      "\n",
      "  - ✅ Correctness (GEval) (score: 1.0, threshold: 1.0, strict: True, evaluation model: gpt-4o, reason: The output addresses the query about methods and estimation for landslide mapping in Nepal using relevant approaches and geographic data from Nepal, specifically the Indrawati watershed, and provides detailed results and validation methods., error: None)\n",
      "\n",
      "For test case:\n",
      "\n",
      "  - input: methods and estimation to map landslides in Nepal\n",
      "  - actual output: {'source': 'https://link.springer.com/article/10.1007/s12665-021-09650-2', 'result': {'estimations': [{'answer': 'The artificial neural network approach yielded the best prediction capability for landslide susceptibility mapping in the high mountain area of Nepal, with an AUC value of 96.9%.', 'related_knowledge': ['Landslide susceptibility mapping', 'Artificial neural network', 'High mountain regions'], 'research_data': {'data_format': 'Satellite images', 'origin': 'Indrawati watershed, Central Nepal', 'data_url': None}, 'methodology': 'Landslide susceptibility mapping using four approaches: frequency ratio, logistic regression, artificial neural network, and support vector machine.', 'assumptions': ['The landslides were randomly split into a ratio of 80:20 for training and validating the susceptibility maps.'], 'confidence_level': 96.9, 'validation_method': 'Validated using area under curve (AUC), kappa index, and statistical inferences.'}]}}\n",
      "  - expected output: None\n",
      "  - context: None\n",
      "  - retrieval context: None\n",
      "\n",
      "======================================================================\n",
      "\n",
      "Metrics Summary\n",
      "\n",
      "  - ✅ Correctness (GEval) (score: 1.0, threshold: 1.0, strict: True, evaluation model: gpt-4o, reason: The output addresses the query by including a relevant source with literature (LMHLD dataset) for landslide mapping in Nepal specifically. It provides adequate reasoning and relevancy through details like methodologies and estimations related to landslide detection using remote sensing in the specified region., error: None)\n",
      "\n",
      "For test case:\n",
      "\n",
      "  - input: methods and estimation to map landslides in Nepal\n",
      "  - actual output: {'source': 'https://arxiv.org/pdf/2502.19866v1.pdf', 'result': {'estimations': [{'answer': 'The Large-scale Multi-source High-resolution Landslide Dataset (LMHLD) includes remote sensing images from five different satellite sensors across seven study areas, including Gorkha, Nepal (2015).', 'related_knowledge': ['LMHLD is designed for landslide detection using deep learning.', 'The dataset includes 25,365 patches of various sizes for different landslide scales.'], 'research_data': {'data_format': 'HDF5', 'origin': 'Sentinel-2', 'data_url': HttpUrl('https://doi.org/10.5281/zenodo.11424988')}, 'methodology': 'The dataset was constructed using high-resolution remote sensing images and includes a training module to support landslide detection tasks at varying scales.', 'assumptions': ['The dataset is representative of various landslide types and conditions.', 'Deep learning models can generalize well using this dataset.'], 'confidence_level': 0.95, 'validation_method': 'Five dataset quality evaluation experiments were conducted using seven deep learning models from the U-Net family.'}]}}\n",
      "  - expected output: None\n",
      "  - context: None\n",
      "  - retrieval context: None\n",
      "\n",
      "======================================================================\n",
      "\n",
      "Metrics Summary\n",
      "\n",
      "  - ❌ Correctness (GEval) (score: 0.0, threshold: 1.0, strict: True, evaluation model: gpt-4o, reason: The output fails to address the input question about landslide mapping in Nepal, lacks relevant geographic references, and doesn't provide a supported reasoning with appropriate sources., error: None)\n",
      "\n",
      "For test case:\n",
      "\n",
      "  - input: methods and estimation to map landslides in Nepal\n",
      "  - actual output: {'source': 'https://doi.org/10.3301/ROL.2016.79.', 'result': {'estimations': [{'answer': 'Answer not found', 'related_knowledge': [], 'research_data': {'data_format': 'Not applicable', 'origin': 'Not applicable', 'data_url': None}, 'methodology': 'Not applicable', 'assumptions': None, 'confidence_level': None, 'validation_method': None}]}}\n",
      "  - expected output: None\n",
      "  - context: None\n",
      "  - retrieval context: None\n",
      "\n",
      "======================================================================\n",
      "\n",
      "Overall Metric Pass Rates\n",
      "\n",
      "Correctness (GEval): 60.00% pass rate\n",
      "\n",
      "======================================================================\n",
      "\n"
     ]
    },
    {
     "data": {
      "text/html": [
       "<pre style=\"white-space:pre;overflow-x:auto;line-height:normal;font-family:Menlo,'DejaVu Sans Mono',consolas,'Courier New',monospace\">\n",
       "<span style=\"color: #05f58d; text-decoration-color: #05f58d\">✓</span> Tests finished 🎉! Run <span style=\"color: #008000; text-decoration-color: #008000; font-weight: bold\">'deepeval login'</span> to save and analyze evaluation results on Confident AI.\n",
       " \n",
       "✨👀 Looking for a place for your LLM test data to live 🏡❤️ ? Use <span style=\"color: #6a00ff; text-decoration-color: #6a00ff\">Confident AI</span> to get &amp; share testing reports, \n",
       "experiment with models/prompts, and catch regressions for your LLM system. Just run <span style=\"color: #008080; text-decoration-color: #008080\">'deepeval login'</span> in the CLI. \n",
       "\n",
       "</pre>\n"
      ],
      "text/plain": [
       "\n",
       "\u001b[38;2;5;245;141m✓\u001b[0m Tests finished 🎉! Run \u001b[1;32m'deepeval login'\u001b[0m to save and analyze evaluation results on Confident AI.\n",
       " \n",
       "✨👀 Looking for a place for your LLM test data to live 🏡❤️ ? Use \u001b[38;2;106;0;255mConfident AI\u001b[0m to get & share testing reports, \n",
       "experiment with models/prompts, and catch regressions for your LLM system. Just run \u001b[36m'deepeval login'\u001b[0m in the CLI. \n",
       "\n"
      ]
     },
     "metadata": {},
     "output_type": "display_data"
    },
    {
     "data": {
      "text/plain": [
       "EvaluationResult(test_results=[TestResult(name='test_case_4', success=False, metrics_data=[MetricData(name='Correctness (GEval)', threshold=1.0, success=False, score=0.0, reason='The source provided does not explicitly reference geographic information about Nepal. Additionally, confidence level is mentioned as None, lacking comprehensive analysis.', strict_mode=True, evaluation_model='gpt-4o', error=None, evaluation_cost=0.00292, verbose_logs='Criteria:\\nCorrectness - determine if the actual output represents a thorough and accurate literature review in response to the given query. An output is considered correct is answer is relevant to the user\\'s query, adequate reasoning is provided, and if sources are likely to be relevant and helfpul to the user\\'s research question. Note that any geographic information in the user\\'s query is EXTREMELY important, therefore any source that does not explicitely reference a geography in the user\\'s query should be considered incorrect \\n \\nEvaluation Steps:\\n[\\n    \"Check if the actual output addresses the query with relevant and comprehensive information.\",\\n    \"Verify that the output includes adequate reasoning and analysis to support its conclusions.\",\\n    \"Ensure all sources cited in the output explicitly reference the geographic information provided in the query.\",\\n    \"Evaluate the likelihood of the cited sources being helpful and relevant to the user\\'s research question.\"\\n]')], conversational=False, multimodal=False, input='methods and estimation to map landslides in Nepal', actual_output=\"{'source': 'https://hdl.handle.net/20.500.14017/8df80ddb-1fa4-4abd-929e-79249a9b579a', 'result': {'estimations': [{'answer': 'About 30% of the area in the Tinau watershed is highly susceptible to landsliding.', 'related_knowledge': ['Landslide susceptibility mapping is crucial for disaster management in Nepal.', 'The weight of evidence method is used for mapping landslide susceptibility.'], 'research_data': {'data_format': 'Field observations and geological data', 'origin': 'Tinau watershed, west Nepal', 'data_url': None}, 'methodology': 'Weight of evidence method applied to prepare landslide susceptibility maps.', 'assumptions': ['Field observations are representative of the area.', 'Available geological and hydrological data are accurate.'], 'confidence_level': None, 'validation_method': 'Predicted susceptibility levels were compared with past landslide locations.'}]}}\", expected_output=None, context=None, retrieval_context=None, additional_metadata=None), TestResult(name='test_case_1', success=True, metrics_data=[MetricData(name='Correctness (GEval)', threshold=1.0, success=True, score=1.0, reason='The output addresses the query by detailing a landslide hazard model for Nepal, includes relevant methodology and data, and cites appropriate sources, meeting the evaluation criteria.', strict_mode=True, evaluation_model='gpt-4o', error=None, evaluation_cost=0.00326, verbose_logs='Criteria:\\nCorrectness - determine if the actual output represents a thorough and accurate literature review in response to the given query. An output is considered correct is answer is relevant to the user\\'s query, adequate reasoning is provided, and if sources are likely to be relevant and helfpul to the user\\'s research question. Note that any geographic information in the user\\'s query is EXTREMELY important, therefore any source that does not explicitely reference a geography in the user\\'s query should be considered incorrect \\n \\nEvaluation Steps:\\n[\\n    \"Evaluate if the actual output comprehensively addresses the query, ensuring it is a thorough literature review.\",\\n    \"Check the relevance of the output to the user\\'s query, ensuring that it answers the specific question posed.\",\\n    \"Assess the adequacy of the reasoning provided in the actual output to support the claims made.\",\\n    \"Verify the sources cited in the actual output, ensuring they explicitly reference the geographic information mentioned in the user\\'s query.\"\\n]')], conversational=False, multimodal=False, input='methods and estimation to map landslides in Nepal', actual_output=\"{'source': 'https://arxiv.org/pdf/2401.14210v1.pdf', 'result': {'estimations': [{'answer': 'A unified landslide hazard model was developed using deep learning and extreme value theory, analyzing 30 years of rainfall-triggered landslide data in Nepal.', 'related_knowledge': ['Landslide hazard model combines susceptibility, intensity, and frequency.', 'Model predicts landslide hazard for multiple return periods based on climate projections.'], 'research_data': {'data_format': 'CSV', 'origin': 'Jones et al. (2021) multitemporal landslide inventory', 'data_url': HttpUrl('https://doi.org/10.5281/zenodo.10567233')}, 'methodology': 'Deep learning combined with the extended generalized Pareto distribution (eGPD) for modeling landslide hazard.', 'assumptions': ['The model assumes that the relationship between environmental factors and landslide occurrence is constant over time and space.'], 'confidence_level': 0.86, 'validation_method': 'Model performance evaluated using AUC score and CRPS.'}]}}\", expected_output=None, context=None, retrieval_context=None, additional_metadata=None), TestResult(name='test_case_0', success=True, metrics_data=[MetricData(name='Correctness (GEval)', threshold=1.0, success=True, score=1.0, reason='The output addresses the query about methods and estimation for landslide mapping in Nepal using relevant approaches and geographic data from Nepal, specifically the Indrawati watershed, and provides detailed results and validation methods.', strict_mode=True, evaluation_model='gpt-4o', error=None, evaluation_cost=0.0038199999999999996, verbose_logs='Criteria:\\nCorrectness - determine if the actual output represents a thorough and accurate literature review in response to the given query. An output is considered correct is answer is relevant to the user\\'s query, adequate reasoning is provided, and if sources are likely to be relevant and helfpul to the user\\'s research question. Note that any geographic information in the user\\'s query is EXTREMELY important, therefore any source that does not explicitely reference a geography in the user\\'s query should be considered incorrect \\n \\nEvaluation Steps:\\n[\\n    \"Step 1: Verify that the actual output addresses the user\\'s query by thoroughly reviewing the sources and information provided to ensure they relate directly to the user\\'s question.\",\\n    \"Step 2: Check if the actual output includes adequate reasoning and analysis to support the relevance and correctness of the information presented in response to the query.\",\\n    \"Step 3: Confirm that all sources referenced in the actual output explicitly mention any geographic information specified in the user\\'s query, ensuring each source is geographically relevant.\",\\n    \"Step 4: Evaluate whether the included sources are likely to be relevant and helpful for the user\\'s research question based on their content and credibility.\"\\n]')], conversational=False, multimodal=False, input='methods and estimation to map landslides in Nepal', actual_output=\"{'source': 'https://link.springer.com/article/10.1007/s12665-021-09650-2', 'result': {'estimations': [{'answer': 'The artificial neural network approach yielded the best prediction capability for landslide susceptibility mapping in the high mountain area of Nepal, with an AUC value of 96.9%.', 'related_knowledge': ['Landslide susceptibility mapping', 'Artificial neural network', 'High mountain regions'], 'research_data': {'data_format': 'Satellite images', 'origin': 'Indrawati watershed, Central Nepal', 'data_url': None}, 'methodology': 'Landslide susceptibility mapping using four approaches: frequency ratio, logistic regression, artificial neural network, and support vector machine.', 'assumptions': ['The landslides were randomly split into a ratio of 80:20 for training and validating the susceptibility maps.'], 'confidence_level': 96.9, 'validation_method': 'Validated using area under curve (AUC), kappa index, and statistical inferences.'}]}}\", expected_output=None, context=None, retrieval_context=None, additional_metadata=None), TestResult(name='test_case_3', success=True, metrics_data=[MetricData(name='Correctness (GEval)', threshold=1.0, success=True, score=1.0, reason='The output addresses the query by including a relevant source with literature (LMHLD dataset) for landslide mapping in Nepal specifically. It provides adequate reasoning and relevancy through details like methodologies and estimations related to landslide detection using remote sensing in the specified region.', strict_mode=True, evaluation_model='gpt-4o', error=None, evaluation_cost=0.0037175, verbose_logs='Criteria:\\nCorrectness - determine if the actual output represents a thorough and accurate literature review in response to the given query. An output is considered correct is answer is relevant to the user\\'s query, adequate reasoning is provided, and if sources are likely to be relevant and helfpul to the user\\'s research question. Note that any geographic information in the user\\'s query is EXTREMELY important, therefore any source that does not explicitely reference a geography in the user\\'s query should be considered incorrect \\n \\nEvaluation Steps:\\n[\\n    \"Verify that the actual output adequately addresses the user\\'s query by checking if relevant literature sources are included.\",\\n    \"Assess the reasoning provided in the actual output, ensuring it is adequate and supports the relevance of the chosen sources to the user\\'s research question.\",\\n    \"Ensure that all sources mentioned explicitly reference the geographic information specified in the user\\'s query to determine correctness.\",\\n    \"Evaluate the thoroughness and accuracy of the literature review by confirming the relevance and helpfulness of the sources to the specific aspects of the research question.\"\\n]')], conversational=False, multimodal=False, input='methods and estimation to map landslides in Nepal', actual_output=\"{'source': 'https://arxiv.org/pdf/2502.19866v1.pdf', 'result': {'estimations': [{'answer': 'The Large-scale Multi-source High-resolution Landslide Dataset (LMHLD) includes remote sensing images from five different satellite sensors across seven study areas, including Gorkha, Nepal (2015).', 'related_knowledge': ['LMHLD is designed for landslide detection using deep learning.', 'The dataset includes 25,365 patches of various sizes for different landslide scales.'], 'research_data': {'data_format': 'HDF5', 'origin': 'Sentinel-2', 'data_url': HttpUrl('https://doi.org/10.5281/zenodo.11424988')}, 'methodology': 'The dataset was constructed using high-resolution remote sensing images and includes a training module to support landslide detection tasks at varying scales.', 'assumptions': ['The dataset is representative of various landslide types and conditions.', 'Deep learning models can generalize well using this dataset.'], 'confidence_level': 0.95, 'validation_method': 'Five dataset quality evaluation experiments were conducted using seven deep learning models from the U-Net family.'}]}}\", expected_output=None, context=None, retrieval_context=None, additional_metadata=None), TestResult(name='test_case_2', success=False, metrics_data=[MetricData(name='Correctness (GEval)', threshold=1.0, success=False, score=0.0, reason=\"The output fails to address the input question about landslide mapping in Nepal, lacks relevant geographic references, and doesn't provide a supported reasoning with appropriate sources.\", strict_mode=True, evaluation_model='gpt-4o', error=None, evaluation_cost=0.0032475000000000004, verbose_logs='Criteria:\\nCorrectness - determine if the actual output represents a thorough and accurate literature review in response to the given query. An output is considered correct is answer is relevant to the user\\'s query, adequate reasoning is provided, and if sources are likely to be relevant and helfpul to the user\\'s research question. Note that any geographic information in the user\\'s query is EXTREMELY important, therefore any source that does not explicitely reference a geography in the user\\'s query should be considered incorrect \\n \\nEvaluation Steps:\\n[\\n    \"Verify if the actual output directly addresses the specific research question posed in the input, ensuring the relevance of the sources cited.\",\\n    \"Check for any geographic terms mentioned in the input and ensure that the sources in the actual output explicitly reference and consider these geographic factors.\",\\n    \"Evaluate the correctness of the reasoning provided in the actual output by examining whether the arguments are well-supported and logically connected to the sources cited.\",\\n    \"Assess the relevance and potential helpfulness of each source in the actual output to confirm their alignment with the geographic and thematic aspects highlighted in the input.\"\\n]')], conversational=False, multimodal=False, input='methods and estimation to map landslides in Nepal', actual_output=\"{'source': 'https://doi.org/10.3301/ROL.2016.79.', 'result': {'estimations': [{'answer': 'Answer not found', 'related_knowledge': [], 'research_data': {'data_format': 'Not applicable', 'origin': 'Not applicable', 'data_url': None}, 'methodology': 'Not applicable', 'assumptions': None, 'confidence_level': None, 'validation_method': None}]}}\", expected_output=None, context=None, retrieval_context=None, additional_metadata=None)], confident_link=None)"
      ]
     },
     "execution_count": 12,
     "metadata": {},
     "output_type": "execute_result"
    }
   ],
   "source": [
    "updated_geval_metric = GEval(\n",
    "    name=\"Correctness\",\n",
    "    criteria=\"Correctness - determine if the actual output represents a thorough and accurate literature review in response to the given query. An output is considered correct is answer is relevant to the user's query, adequate reasoning is provided, and if sources are likely to be relevant and helfpul to the user's research question. Note that any geographic information in the user's query is EXTREMELY important, therefore any source that does not explicitely reference a geography in the user's query should be considered incorrect\",\n",
    "    evaluation_params=[LLMTestCaseParams.ACTUAL_OUTPUT, LLMTestCaseParams.INPUT],\n",
    "    strict_mode=True\n",
    ")\n",
    "evaluate(full_dataset, [updated_geval_metric])"
   ]
  },
  {
   "cell_type": "code",
   "execution_count": 13,
   "id": "67b8b350-9ef1-4455-951d-93ee461a77f9",
   "metadata": {},
   "outputs": [],
   "source": [
    "# creating synthetic golden sets\n",
    "# using `expected_output`"
   ]
  }
 ],
 "metadata": {
  "kernelspec": {
   "display_name": "Python 3 (ipykernel)",
   "language": "python",
   "name": "python3"
  },
  "language_info": {
   "codemirror_mode": {
    "name": "ipython",
    "version": 3
   },
   "file_extension": ".py",
   "mimetype": "text/x-python",
   "name": "python",
   "nbconvert_exporter": "python",
   "pygments_lexer": "ipython3",
   "version": "3.12.9"
  }
 },
 "nbformat": 4,
 "nbformat_minor": 5
}
