{
 "cells": [
  {
   "cell_type": "code",
   "execution_count": 1,
   "id": "e360451b-e61d-49f7-9404-57951a899af2",
   "metadata": {},
   "outputs": [],
   "source": [
    "from akd.tools.search import (\n",
    "    SearxNGSearchTool,\n",
    "    SearxNGSearchToolConfig,\n",
    "    SearxNGSearchToolInputSchema\n",
    ")\n",
    "import pprint"
   ]
  },
  {
   "cell_type": "code",
   "execution_count": 2,
   "id": "93a0d8cd-0489-4cb3-bc08-e60e7a33da3d",
   "metadata": {},
   "outputs": [],
   "source": [
    "SEARCH_TOOL = SearxNGSearchTool(\n",
    "    config=SearxNGSearchToolConfig(\n",
    "        base_url=\"http://localhost:8080\",\n",
    "        max_results=5,\n",
    "        engines=[\"google\", \"arxiv\", \"google_scholar\"],\n",
    "        debug=True\n",
    "    )\n",
    ")"
   ]
  },
  {
   "cell_type": "code",
   "execution_count": 3,
   "id": "87642024-4ffa-4242-aa5e-35dfa70f09ea",
   "metadata": {},
   "outputs": [
    {
     "name": "stderr",
     "output_type": "stream",
     "text": [
      "\u001b[32m2025-05-30 19:31:01.456\u001b[0m | \u001b[34m\u001b[1mDEBUG   \u001b[0m | \u001b[36makd.tools.search\u001b[0m:\u001b[36m_fetch_search_results_paginated\u001b[0m:\u001b[36m262\u001b[0m - \u001b[34m\u001b[1mFetching page 1 for query: what are methods for estimating the economic impacts of landslides in Nepal\u001b[0m\n",
      "\u001b[32m2025-05-30 19:31:03.218\u001b[0m | \u001b[34m\u001b[1mDEBUG   \u001b[0m | \u001b[36makd.tools.search\u001b[0m:\u001b[36m_fetch_search_results_paginated\u001b[0m:\u001b[36m271\u001b[0m - \u001b[34m\u001b[1mFetched 30 results for page 1\u001b[0m\n",
      "\u001b[32m2025-05-30 19:31:03.321\u001b[0m | \u001b[34m\u001b[1mDEBUG   \u001b[0m | \u001b[36makd.tools.search\u001b[0m:\u001b[36m_fetch_search_results_paginated\u001b[0m:\u001b[36m262\u001b[0m - \u001b[34m\u001b[1mFetching page 2 for query: what are methods for estimating the economic impacts of landslides in Nepal\u001b[0m\n",
      "\u001b[32m2025-05-30 19:31:05.754\u001b[0m | \u001b[34m\u001b[1mDEBUG   \u001b[0m | \u001b[36makd.tools.search\u001b[0m:\u001b[36m_fetch_search_results_paginated\u001b[0m:\u001b[36m271\u001b[0m - \u001b[34m\u001b[1mFetched 30 results for page 2\u001b[0m\n",
      "\u001b[32m2025-05-30 19:31:05.856\u001b[0m | \u001b[34m\u001b[1mDEBUG   \u001b[0m | \u001b[36makd.tools.search\u001b[0m:\u001b[36m_fetch_search_results_paginated\u001b[0m:\u001b[36m290\u001b[0m - \u001b[34m\u001b[1mFetched 24 results across 2 pages for query: what are methods for estimating the economic impacts of landslides in Nepal\u001b[0m\n",
      "\u001b[32m2025-05-30 19:31:05.857\u001b[0m | \u001b[34m\u001b[1mDEBUG   \u001b[0m | \u001b[36makd.tools.search\u001b[0m:\u001b[36marun\u001b[0m:\u001b[36m345\u001b[0m - \u001b[34m\u001b[1m[{'template': 'paper.html', 'type': '', 'url': 'https://infohub.practicalaction.org/bitstream/handle/11283/550259/Technical%20report.pdf?sequence=1', 'title': 'Technical report on economic impact of landslides in Nepal', 'authors': ['A Consultancy', 'PAS Asia'], 'publisher': None, 'journal': None, 'publishedDate': '2015-01-01T00:00:00', 'content': '… -economic effects of landslides to the particular locality. Landslide has more broader and indirect impacts, … was to assess the economic impacts of landslides. Specific objectives include: …', 'comments': '', 'html_url': None, 'pdf_url': None, 'engine': 'google scholar', 'parsed_url': ['https', 'infohub.practicalaction.org', '/bitstream/handle/11283/550259/Technical%20report.pdf', '', 'sequence=1', ''], 'img_src': '', 'thumbnail': '', 'priority': '', 'engines': ['google scholar'], 'positions': [1], 'score': 1.0, 'category': 'science', 'query': 'what are methods for estimating the economic impacts of landslides in Nepal'}, {'template': 'paper.html', 'url': 'http://arxiv.org/abs/1912.01233v1', 'title': 'Space-Time Landslide Predictive Modelling', 'publishedDate': '2019-12-03T08:01:41', 'content': 'Landslides are nearly ubiquitous phenomena and pose severe threats to people, properties, and the environment. Investigators have for long attempted to estimate landslide hazard to determine where, when, and how destructive landslides are expected to be in an area. This information is useful to design landslide mitigation strategies, and to reduce landslide risk and societal and economic losses. In the geomorphology literature, most attempts at predicting the occurrence of populations of landslides rely on the observation that landslides are the result of multiple interacting, conditioning and triggering factors. Here, we propose a novel Bayesian modelling framework for the prediction of space-time landslide occurrences of the slide type caused by weather triggers. We consider log-Gaussian cox processes, assuming that individual landslides stem from a point process described by an unknown intensity function. We tested our prediction framework in the Collazzone area, Umbria, Central Italy, for which a detailed multi-temporal landslide inventory spanning 1941-2014 is available together with lithological and bedding data. We tested five models of increasing complexity. Our most complex model includes fixed effects and latent spatio-temporal effects, thus largely fulfilling the common definition of landslide hazard in the literature. We quantified the spatio-temporal predictive skill of our model and found that it performed better than simpler alternatives. We then developed a novel classification strategy and prepared an intensity-susceptibility landslide map, providing more information than traditional susceptibility zonations for land planning and management. We expect our novel approach to lead to better projections of future landslides, and to improve our collective understanding of the evolution of landscapes dominated by mass-wasting processes under geophysical and weather triggers.', 'doi': 'None', 'authors': ['Luigi Lombardo', 'Thomas Opitz', 'Francesca Ardizzone', 'Fausto Guzzetti', 'Raphaël Huser'], 'journal': None, 'tags': ['stat.AP'], 'comments': None, 'pdf_url': 'http://arxiv.org/pdf/1912.01233v1', 'engine': 'arxiv', 'parsed_url': ['http', 'arxiv.org', '/abs/1912.01233v1', '', '', ''], 'img_src': '', 'thumbnail': '', 'priority': '', 'engines': ['arxiv'], 'positions': [1], 'score': 1.0, 'category': 'science', 'query': 'what are methods for estimating the economic impacts of landslides in Nepal'}, {'url': 'https://www.nepjol.info/index.php/josem/article/download/59106/44174', 'title': 'Socio-Economic Impacts of Landslides and Applied ...', 'content': 'by A Shakya · 2023 — Abstract: This study aimed to estimate the socio-economic impacts of landslides and identify mitigation techniques being applied for landslide control in ...', 'thumbnail': None, 'engine': 'google', 'template': 'default.html', 'parsed_url': ['https', 'www.nepjol.info', '/index.php/josem/article/download/59106/44174', '', '', ''], 'img_src': '', 'priority': '', 'engines': ['google'], 'positions': [1], 'score': 1.0, 'category': 'general', 'query': 'what are methods for estimating the economic impacts of landslides in Nepal'}, {'template': 'paper.html', 'type': 'pdf', 'url': 'https://link.springer.com/chapter/10.1007/978-3-540-69970-5_30', 'title': 'Economic and social impacts of landslides', 'authors': ['O Kjekstad', 'L Highland'], 'publisher': 'Springer', 'journal': 'Landslides–disaster risk reduction', 'publishedDate': '2009-01-01T00:00:00', 'content': '… This was seen in earthquake induced occurrences observed in Pakistan in 2005 October and also number of rain induced landslides reported recently in countries such as Nepal, Sri …', 'comments': '', 'html_url': None, 'pdf_url': 'https://www.academia.edu/download/36616302/EconomicSocialImpacts.pdf', 'engine': 'google scholar', 'parsed_url': ['https', 'link.springer.com', '/chapter/10.1007/978-3-540-69970-5_30', '', '', ''], 'img_src': '', 'thumbnail': '', 'priority': '', 'engines': ['google scholar'], 'positions': [1], 'score': 1.0, 'category': 'science', 'query': 'what are methods for estimating the economic impacts of landslides in Nepal'}, {'template': 'paper.html', 'url': 'http://arxiv.org/abs/2211.09927v1', 'title': 'SAR-based landslide classification pretraining leads to better segmentation', 'publishedDate': '2022-11-17T22:57:18', 'content': 'Rapid assessment after a natural disaster is key for prioritizing emergency resources. In the case of landslides, rapid assessment involves determining the extent of the area affected and measuring the size and location of individual landslides. Synthetic Aperture Radar (SAR) is an active remote sensing technique that is unaffected by weather conditions. Deep Learning algorithms can be applied to SAR data, but training them requires large labeled datasets. In the case of landslides, these datasets are laborious to produce for segmentation, and often they are not available for the specific region in which the event occurred. Here, we study how deep learning algorithms for landslide segmentation on SAR products can benefit from pretraining on a simpler task and from data from different regions. The method we explore consists of two training stages. First, we learn the task of identifying whether a SAR image contains any landslides or not. Then, we learn to segment in a sparsely labeled scenario where half of the data do not contain landslides. We test whether the inclusion of feature embeddings derived from stage-1 helps with landslide detection in stage-2. We find that it leads to minor improvements in the Area Under the Precision-Recall Curve, but also to a significantly lower false positive rate in areas without landslides and an improved estimate of the average number of landslide pixels in a chip. A more accurate pixel count allows to identify the most affected areas with higher confidence. This could be valuable in rapid response scenarios where prioritization of resources at a global scale is important. We make our code publicly available at https://github.com/VMBoehm/SAR-landslide-detection-pretraining.', 'doi': 'None', 'authors': ['Vanessa Böhm', 'Wei Ji Leong', 'Ragini Bal Mahesh', 'Ioannis Prapas', 'Edoardo Nemni', 'Freddie Kalaitzis', 'Siddha Ganju', 'Raul Ramos-Pollan'], 'journal': None, 'tags': ['cs.CV', 'eess.IV', 'eess.SP'], 'comments': 'Accepted to the NeurIPS 2022 workshop Artificial Intelligence for\\n  Humanitarian Assistance and Disaster Response. This research was conducted as\\n  part of the Frontier Development Lab (FDL) 2022', 'pdf_url': 'http://arxiv.org/pdf/2211.09927v1', 'engine': 'arxiv', 'parsed_url': ['http', 'arxiv.org', '/abs/2211.09927v1', '', '', ''], 'img_src': '', 'thumbnail': '', 'priority': '', 'engines': ['arxiv'], 'positions': [1], 'score': 1.0, 'category': 'science', 'query': 'what are methods for estimating the economic impacts of landslides in Nepal'}, {'url': 'https://agupubs.onlinelibrary.wiley.com/doi/full/10.1029/2023EF004102', 'title': 'National‐Scale Rainfall‐Triggered Landslide Susceptibility ...', 'content': 'by ME Kincey · 2024 · Cited by 10 — To assess the agreement between modeled exposure to landslides and published landslide impact data across Nepal, we used landslide incidence ...', 'thumbnail': None, 'engine': 'google', 'template': 'default.html', 'parsed_url': ['https', 'agupubs.onlinelibrary.wiley.com', '/doi/full/10.1029/2023EF004102', '', '', ''], 'img_src': '', 'priority': '', 'engines': ['google'], 'positions': [1], 'score': 1.0, 'category': 'general', 'query': 'what are methods for estimating the economic impacts of landslides in Nepal'}, {'template': 'paper.html', 'type': 'pdf', 'url': 'https://nhess.copernicus.org/articles/18/3203/2018/', 'title': 'Roads and landslides in Nepal: how development affects environmental risk', 'authors': ['BG McAdoo', 'M Quak', 'KR Gnyawali…'], 'publisher': None, 'journal': '… Hazards and Earth …', 'publishedDate': '2018-01-01T00:00:00', 'content': '… trunk roads through the Nepali Himalaya that adjacent communities will … effect of these informal roads on generating landslides, we compare the distance between roads and landslides …', 'comments': '', 'html_url': None, 'pdf_url': 'https://nhess.copernicus.org/articles/18/3203/2018/nhess-18-3203-2018.pdf', 'engine': 'google scholar', 'parsed_url': ['https', 'nhess.copernicus.org', '/articles/18/3203/2018/', '', '', ''], 'img_src': '', 'thumbnail': '', 'priority': '', 'engines': ['google scholar'], 'positions': [2], 'score': 0.5, 'category': 'science', 'query': 'what are methods for estimating the economic impacts of landslides in Nepal'}, {'template': 'paper.html', 'url': 'http://arxiv.org/abs/2103.10939v1', 'title': 'The Landslide Velocity', 'publishedDate': '2021-03-15T09:37:17', 'content': \"Proper knowledge of velocity is required in accurately determining enormous destructive energy of a landslide. We present the first physics-based general analytical landslide velocity model that incorporates internal deformation and external forces: net driving force and viscous resistant. The model stands as a novel non-linear advective-dissipative system where classical Voellmy and inviscid Burgers' equation are specifications. Non-linear advection and external forcing fundamentally regulate the motion which substantially enhances our understanding of a coherently deforming landslide. Since analytical solutions provide fastest, cost-effective and best rigorous answer to the problem, we construct several new/general exact analytical solutions covering wider spectrum of landslide velocity. New solutions bridge existing gap between negligibly and massively deforming landslides. This provides a novel, rapid and consistent method for efficient coupling of different types of mass transports. Mechanism of landslide advection, stretching and approaching to steady-state has been explained. Shifting, up-lifting and stretching of velocity field stem from forcing and advection. Our solution describes fascinating breaking wave and emergence of landslide folding. This happens as the solution simultaneously introduces domain propagation, velocity up-lift and non-linear advection. Domain translation and stretching depends on net driving force and viscous drag controls shock wave generation, wave breaking, folding and velocity. Landslide dynamics are architectured by advection and reigned by system forcing. Analytically obtained velocities are close to observed values, constituting a new foundation of landslide velocity. This provides the practitioners with key information in instantly/accurately estimating impact force that is important in delineating hazard zones and mitigation of landslide hazards.\", 'doi': '10.5194/esurf-10-165-2022', 'authors': ['Shiva P. Pudasaini', 'Michael Krautblatter'], 'journal': 'Earth Surf. Dynam. 10, 165-189, 2022', 'tags': ['physics.geo-ph', 'physics.flu-dyn'], 'comments': None, 'pdf_url': 'http://arxiv.org/pdf/2103.10939v1', 'engine': 'arxiv', 'parsed_url': ['http', 'arxiv.org', '/abs/2103.10939v1', '', '', ''], 'img_src': '', 'thumbnail': '', 'priority': '', 'engines': ['arxiv'], 'positions': [2], 'score': 0.5, 'category': 'science', 'query': 'what are methods for estimating the economic impacts of landslides in Nepal'}, {'url': 'https://www.researchgate.net/publication/374768520_Socio-Economic_Impacts_of_Landslides_and_Applied_Mitigation_Techniques_A_Case_Study_in_Bagnaskali_Nepal', 'title': '(PDF) Socio-Economic Impacts of Landslides and Applied ...', 'content': 'This study aimed to estimate the socio-economic impacts of landslides and identify mitigation techniques being applied for landslide control in Bagnaskali rural ...', 'thumbnail': None, 'engine': 'google', 'template': 'default.html', 'parsed_url': ['https', 'www.researchgate.net', '/publication/374768520_Socio-Economic_Impacts_of_Landslides_and_Applied_Mitigation_Techniques_A_Case_Study_in_Bagnaskali_Nepal', '', '', ''], 'img_src': '', 'priority': '', 'engines': ['google'], 'positions': [2], 'score': 0.5, 'category': 'general', 'query': 'what are methods for estimating the economic impacts of landslides in Nepal'}, {'template': 'paper.html', 'type': 'pdf', 'url': 'https://www.jstor.org/stable/26269258', 'title': 'Community vulnerability to floods and landslides in Nepal', 'authors': ['S KC'], 'publisher': 'JSTOR', 'journal': 'Ecology and society', 'publishedDate': '2013-01-01T00:00:00', 'content': '… Apart from this economic effect, it may be reasonable to assume that educated people were more aware or better informed of the risks as well as the ways of mitigation and adaptation in …', 'comments': '', 'html_url': None, 'pdf_url': 'https://pure.iiasa.ac.at/id/eprint/10495/1/ES-2012-5095.pdf', 'engine': 'google scholar', 'parsed_url': ['https', 'www.jstor.org', '/stable/26269258', '', '', ''], 'img_src': '', 'thumbnail': '', 'priority': '', 'engines': ['google scholar'], 'positions': [2], 'score': 0.5, 'category': 'science', 'query': 'what are methods for estimating the economic impacts of landslides in Nepal'}]\u001b[0m\n"
     ]
    }
   ],
   "source": [
    "QUERY= \"what are methods for estimating the economic impacts of landslides in Nepal\"\n",
    "result = await SEARCH_TOOL.arun(\n",
    "    SearxNGSearchToolInputSchema(queries=[QUERY])\n",
    ")"
   ]
  },
  {
   "cell_type": "code",
   "execution_count": 4,
   "id": "18d41675",
   "metadata": {},
   "outputs": [
    {
     "name": "stdout",
     "output_type": "stream",
     "text": [
      "10\n",
      "dict_keys(['url', 'pdf_url', 'title', 'content', 'query', 'category', 'doi', 'published_date', 'engine', 'tags', 'extra', 'title_augmented'])\n"
     ]
    }
   ],
   "source": [
    "print(len(result.results))\n",
    "print(result.results[0].model_dump().keys())"
   ]
  },
  {
   "cell_type": "code",
   "execution_count": 5,
   "id": "bc7edb54",
   "metadata": {},
   "outputs": [
    {
     "name": "stdout",
     "output_type": "stream",
     "text": [
      "{'category': 'science',\n",
      " 'content': '… -economic effects of landslides to the particular locality. '\n",
      "            'Landslide has more broader and indirect impacts, … was to assess '\n",
      "            'the economic impacts of landslides. Specific objectives include: '\n",
      "            '…',\n",
      " 'doi': None,\n",
      " 'engine': 'google scholar',\n",
      " 'extra': {'authors': ['A Consultancy', 'PAS Asia'],\n",
      "           'comments': '',\n",
      "           'engines': ['google scholar'],\n",
      "           'html_url': None,\n",
      "           'img_src': '',\n",
      "           'journal': None,\n",
      "           'parsed_url': ['https',\n",
      "                          'infohub.practicalaction.org',\n",
      "                          '/bitstream/handle/11283/550259/Technical%20report.pdf',\n",
      "                          '',\n",
      "                          'sequence=1',\n",
      "                          ''],\n",
      "           'positions': [1],\n",
      "           'priority': '',\n",
      "           'publisher': None,\n",
      "           'score': 1.0,\n",
      "           'template': 'paper.html',\n",
      "           'thumbnail': '',\n",
      "           'type': ''},\n",
      " 'pdf_url': None,\n",
      " 'published_date': '2015-01-01T00:00:00',\n",
      " 'query': 'what are methods for estimating the economic impacts of landslides '\n",
      "          'in Nepal',\n",
      " 'tags': None,\n",
      " 'title': 'Technical report on economic impact of landslides in Nepal',\n",
      " 'title_augmented': 'Technical report on economic impact of landslides in '\n",
      "                    'Nepal - (Published 2015-01-01T00:00:00)',\n",
      " 'url': HttpUrl('https://infohub.practicalaction.org/bitstream/handle/11283/550259/Technical%20report.pdf?sequence=1')}\n"
     ]
    }
   ],
   "source": [
    "pprint.pprint(result.results[0].model_dump())"
   ]
  },
  {
   "cell_type": "code",
   "execution_count": 6,
   "id": "2408d851",
   "metadata": {},
   "outputs": [],
   "source": [
    "from deepeval.metrics.dag import (\n",
    "    DeepAcyclicGraph,\n",
    "    TaskNode,\n",
    "    BinaryJudgementNode,\n",
    "    NonBinaryJudgementNode,\n",
    "    VerdictNode,\n",
    ")\n",
    "from typing import List, Optional\n",
    "from deepeval.metrics.dag.nodes import BaseNode, decrement_indegree, construct_node_verbose_log\n",
    "from deepeval.metrics.base_metric import BaseMetric\n",
    "from deepeval.test_case import LLMTestCase, LLMTestCaseParams\n",
    "\n",
    "from deepeval.metrics.dag import (\n",
    "    DeepAcyclicGraph,\n",
    "    TaskNode,\n",
    "    BinaryJudgementNode,\n",
    "    NonBinaryJudgementNode,\n",
    "    VerdictNode,\n",
    ")\n",
    "import json\n",
    "\n",
    "\n",
    "class CustomTaskNode(TaskNode):\n",
    "    \"\"\"\n",
    "    Custom TaskNode that executes a task and generates output based on the provided\n",
    "    evaluation parameters and parents.\n",
    "    \"\"\"\n",
    "\n",
    "    output_label: str\n",
    "    children: List[BaseNode]\n",
    "    instructions:str = \"\"\n",
    "    evaluation_params: List[LLMTestCaseParams] = None\n",
    "    label: Optional[str] = None\n",
    "    _verbose_logs: Optional[str] = None\n",
    "    _output: Optional[str] = None\n",
    "    _parents: Optional[List[BaseNode]] = None\n",
    "\n",
    "    def __init__(\n",
    "            self, \n",
    "            output_label: str,\n",
    "            custom_task: callable,\n",
    "            children: List[BaseNode],\n",
    "            instructions: str = \"\",\n",
    "            evaluation_params: List[LLMTestCaseParams] = None,\n",
    "            label: Optional[str] = None,\n",
    "            _verbose_logs: Optional[str] = None,\n",
    "            _output: Optional[str] = None,\n",
    "            _parents: Optional[List[BaseNode]] = None\n",
    "        ):\n",
    "            super().__init__(\n",
    "                instructions=\"\", \n",
    "                output_label = output_label, \n",
    "                children=children,\n",
    "                evaluation_params=evaluation_params,\n",
    "                label=label,\n",
    "                _verbose_logs=_verbose_logs,\n",
    "                _output=_output,\n",
    "                _parents=_parents,\n",
    "                \n",
    "            )\n",
    "            self.custom_task = custom_task\n",
    "      \n",
    "\n",
    "    def _execute(self, metric: BaseMetric, test_case: LLMTestCase, depth: int):\n",
    "            self._depth = max(0, self._depth, depth)\n",
    "            decrement_indegree(self)\n",
    "            if self._indegree > 0:\n",
    "                return\n",
    "            \n",
    "            \n",
    "            params = {param_name: getattr(test_case, param_name) for param_name in self.evaluation_params}\n",
    "                 \n",
    "\n",
    "            result = self.custom_task(**params)\n",
    "            self._output = str(result)\n",
    "\n",
    "            metric._verbose_steps.append(\n",
    "                construct_node_verbose_log(self, self._depth)\n",
    "            )\n",
    "\n",
    "\n",
    "            for children in self.children:\n",
    "                children._execute(\n",
    "                    metric=metric, test_case=test_case, depth=self._depth + 1\n",
    "                )\n",
    "\n",
    "novel_insights_node = BinaryJudgementNode(\n",
    "      criteria=\"Does the content offer information, arguments, or perspectives that are likely new or non-obvious to the user?\", \n",
    "      children= [\n",
    "          VerdictNode(verdict = False, score=0),\n",
    "          VerdictNode(verdict = True, score=5, child=None)\n",
    "      ]\n",
    ")\n",
    "    \n",
    "usefullness_of_content_node = BinaryJudgementNode(\n",
    "    criteria=\"Does the content of the paper/set of papers directly address the primary research question or topic?\", \n",
    "    children = [\n",
    "        VerdictNode(verdict = False, score=0),\n",
    "        VerdictNode(verdict = True, score=5, child= None)\n",
    "    ]\n",
    ")\n",
    "\n",
    "\n",
    "extract_content_node = CustomTaskNode(\n",
    "    output_label = \"paper_content\", \n",
    "    instructions = \"\",\n",
    "    custom_task = lambda result: json.loads(result)[\"content\"],\n",
    "    evaluation_params=[LLMTestCaseParams.ACTUAL_OUTPUT],\n",
    "    children = [usefullness_of_content_node, novel_insights_node],\n",
    "    label=\"Extract content from search results\",\n",
    ")\n",
    "\n",
    "dag = DeepAcyclicGraph(root_nodes=[extract_content_node])"
   ]
  },
  {
   "cell_type": "code",
   "execution_count": 7,
   "id": "a0755b25",
   "metadata": {},
   "outputs": [
    {
     "data": {
      "application/vnd.jupyter.widget-view+json": {
       "model_id": "f8154d2c29c14506a0d5dc856a5a7707",
       "version_major": 2,
       "version_minor": 0
      },
      "text/plain": [
       "Output()"
      ]
     },
     "metadata": {},
     "output_type": "display_data"
    },
    {
     "data": {
      "text/html": [
       "<pre style=\"white-space:pre;overflow-x:auto;line-height:normal;font-family:Menlo,'DejaVu Sans Mono',consolas,'Courier New',monospace\">**************************************************\n",
       "</pre>\n"
      ],
      "text/plain": [
       "**************************************************\n"
      ]
     },
     "metadata": {},
     "output_type": "display_data"
    },
    {
     "data": {
      "text/html": [
       "<pre style=\"white-space:pre;overflow-x:auto;line-height:normal;font-family:Menlo,'DejaVu Sans Mono',consolas,'Courier New',monospace\">Evaluate quality of search result (DAG) Verbose Logs\n",
       "</pre>\n"
      ],
      "text/plain": [
       "Evaluate quality of search result (DAG) Verbose Logs\n"
      ]
     },
     "metadata": {},
     "output_type": "display_data"
    },
    {
     "data": {
      "text/html": [
       "<pre style=\"white-space:pre;overflow-x:auto;line-height:normal;font-family:Menlo,'DejaVu Sans Mono',consolas,'Courier New',monospace\">**************************************************\n",
       "</pre>\n"
      ],
      "text/plain": [
       "**************************************************\n"
      ]
     },
     "metadata": {},
     "output_type": "display_data"
    },
    {
     "data": {
      "text/html": [
       "<pre style=\"white-space:pre;overflow-x:auto;line-height:normal;font-family:Menlo,'DejaVu Sans Mono',consolas,'Courier New',monospace\">\n",
       "</pre>\n"
      ],
      "text/plain": [
       "\n"
      ]
     },
     "metadata": {},
     "output_type": "display_data"
    },
    {
     "data": {
      "text/html": [
       "<pre style=\"white-space:pre;overflow-x:auto;line-height:normal;font-family:Menlo,'DejaVu Sans Mono',consolas,'Courier New',monospace\">______________________\n",
       "| TaskNode | Level == 0 |\n",
       "*******************************\n",
       "Label: Extract content from search results\n",
       "\n",
       "Instructions:\n",
       "\n",
       "\n",
       "paper_content:\n",
       "The technical report on economic impact of landslides in Nepal, published in 2015, provides methods for estimating \n",
       "the economic impacts of landslides. The specific objectives include assessing the economic effects of landslides to\n",
       "a particular locality and understanding the broader and indirect impacts of landslides.\n",
       " \n",
       " \n",
       "__________________________________\n",
       "| BinaryJudgementNode | Level == 1 |\n",
       "************************************************\n",
       "Label: None\n",
       "\n",
       "Criteria:\n",
       "Does the content of the paper/set of papers directly address the primary research question or topic?\n",
       "\n",
       "Verdict: False\n",
       "Reason: The paper does not directly address the primary research question or topic as it focuses on estimating the \n",
       "economic impacts of landslides in Nepal and understanding their broader and indirect impacts, rather than \n",
       "addressing a specific primary research question or topic.\n",
       " \n",
       " \n",
       "________________________\n",
       "| VerdictNode | Level == 2 |\n",
       "**********************************\n",
       "Verdict: False\n",
       "Type: Deterministic \n",
       " \n",
       "__________________________________\n",
       "| BinaryJudgementNode | Level == 1 |\n",
       "************************************************\n",
       "Label: None\n",
       "\n",
       "Criteria:\n",
       "Does the content offer information, arguments, or perspectives that are likely new or non-obvious to the user?\n",
       "\n",
       "Verdict: False\n",
       "Reason: The content does not offer new or non-obvious information, arguments, or perspectives to the user. It \n",
       "simply states that a technical report on economic impact of landslides in Nepal was published in 2015 and provides \n",
       "methods for estimating the economic impacts of landslides.\n",
       " \n",
       " \n",
       "________________________\n",
       "| VerdictNode | Level == 2 |\n",
       "**********************************\n",
       "Verdict: False\n",
       "Type: Deterministic\n",
       " \n",
       "Score: 0.0\n",
       "Reason: The score for the metric 'Evaluate quality of search result (DAG)' is 0.0 because the content of the paper \n",
       "does not directly address the primary research question or topic, and it does not offer new or non-obvious \n",
       "information, arguments, or perspectives to the user.\n",
       "</pre>\n"
      ],
      "text/plain": [
       "______________________\n",
       "| TaskNode | Level == 0 |\n",
       "*******************************\n",
       "Label: Extract content from search results\n",
       "\n",
       "Instructions:\n",
       "\n",
       "\n",
       "paper_content:\n",
       "The technical report on economic impact of landslides in Nepal, published in 2015, provides methods for estimating \n",
       "the economic impacts of landslides. The specific objectives include assessing the economic effects of landslides to\n",
       "a particular locality and understanding the broader and indirect impacts of landslides.\n",
       " \n",
       " \n",
       "__________________________________\n",
       "| BinaryJudgementNode | Level == 1 |\n",
       "************************************************\n",
       "Label: None\n",
       "\n",
       "Criteria:\n",
       "Does the content of the paper/set of papers directly address the primary research question or topic?\n",
       "\n",
       "Verdict: False\n",
       "Reason: The paper does not directly address the primary research question or topic as it focuses on estimating the \n",
       "economic impacts of landslides in Nepal and understanding their broader and indirect impacts, rather than \n",
       "addressing a specific primary research question or topic.\n",
       " \n",
       " \n",
       "________________________\n",
       "| VerdictNode | Level == 2 |\n",
       "**********************************\n",
       "Verdict: False\n",
       "Type: Deterministic \n",
       " \n",
       "__________________________________\n",
       "| BinaryJudgementNode | Level == 1 |\n",
       "************************************************\n",
       "Label: None\n",
       "\n",
       "Criteria:\n",
       "Does the content offer information, arguments, or perspectives that are likely new or non-obvious to the user?\n",
       "\n",
       "Verdict: False\n",
       "Reason: The content does not offer new or non-obvious information, arguments, or perspectives to the user. It \n",
       "simply states that a technical report on economic impact of landslides in Nepal was published in 2015 and provides \n",
       "methods for estimating the economic impacts of landslides.\n",
       " \n",
       " \n",
       "________________________\n",
       "| VerdictNode | Level == 2 |\n",
       "**********************************\n",
       "Verdict: False\n",
       "Type: Deterministic\n",
       " \n",
       "Score: 0.0\n",
       "Reason: The score for the metric 'Evaluate quality of search result (DAG)' is 0.0 because the content of the paper \n",
       "does not directly address the primary research question or topic, and it does not offer new or non-obvious \n",
       "information, arguments, or perspectives to the user.\n"
      ]
     },
     "metadata": {},
     "output_type": "display_data"
    },
    {
     "data": {
      "text/html": [
       "<pre style=\"white-space:pre;overflow-x:auto;line-height:normal;font-family:Menlo,'DejaVu Sans Mono',consolas,'Courier New',monospace\">\n",
       "</pre>\n"
      ],
      "text/plain": [
       "\n"
      ]
     },
     "metadata": {},
     "output_type": "display_data"
    },
    {
     "data": {
      "text/html": [
       "<pre style=\"white-space:pre;overflow-x:auto;line-height:normal;font-family:Menlo,'DejaVu Sans Mono',consolas,'Courier New',monospace\">======================================================================\n",
       "</pre>\n"
      ],
      "text/plain": [
       "======================================================================\n"
      ]
     },
     "metadata": {},
     "output_type": "display_data"
    },
    {
     "data": {
      "text/html": [
       "<pre style=\"white-space:pre;overflow-x:auto;line-height:normal;font-family:Menlo,'DejaVu Sans Mono',consolas,'Courier New',monospace\"></pre>\n"
      ],
      "text/plain": []
     },
     "metadata": {},
     "output_type": "display_data"
    },
    {
     "name": "stdout",
     "output_type": "stream",
     "text": [
      "0.0\n",
      "The score for the metric 'Evaluate quality of search result (DAG)' is 0.0 because the content of the paper does not directly address the primary research question or topic, and it does not offer new or non-obvious information, arguments, or perspectives to the user.\n"
     ]
    }
   ],
   "source": [
    "from deepeval.metrics import DAGMetric\n",
    "\n",
    "result_eval = DAGMetric(name=\"Evaluate quality of search result\", dag=dag, verbose_mode=True)\n",
    "\n",
    "test_case = LLMTestCase(input=QUERY, actual_output=result.results[0].model_dump())\n",
    "\n",
    "result_eval.measure(test_case)\n",
    "print(result_eval.score)\n",
    "print(result_eval.reason)"
   ]
  },
  {
   "cell_type": "code",
   "execution_count": 8,
   "id": "e7d1d431",
   "metadata": {},
   "outputs": [
    {
     "data": {
      "image/svg+xml": [
       "<?xml version=\"1.0\" encoding=\"UTF-8\" standalone=\"no\"?>\n",
       "<!DOCTYPE svg PUBLIC \"-//W3C//DTD SVG 1.1//EN\"\n",
       " \"http://www.w3.org/Graphics/SVG/1.1/DTD/svg11.dtd\">\n",
       "<!-- Generated by graphviz version 12.2.1 (20241206.2353)\n",
       " -->\n",
       "<!-- Pages: 1 -->\n",
       "<svg width=\"596pt\" height=\"260pt\"\n",
       " viewBox=\"0.00 0.00 595.71 260.00\" xmlns=\"http://www.w3.org/2000/svg\" xmlns:xlink=\"http://www.w3.org/1999/xlink\">\n",
       "<g id=\"graph0\" class=\"graph\" transform=\"scale(1 1) rotate(0) translate(4 256)\">\n",
       "<polygon fill=\"white\" stroke=\"none\" points=\"-4,4 -4,-256 591.71,-256 591.71,4 -4,4\"/>\n",
       "<!-- 5156059712 -->\n",
       "<g id=\"node1\" class=\"node\">\n",
       "<title>5156059712</title>\n",
       "<ellipse fill=\"none\" stroke=\"black\" cx=\"288.49\" cy=\"-234\" rx=\"82.06\" ry=\"18\"/>\n",
       "<text text-anchor=\"middle\" x=\"288.49\" y=\"-228.95\" font-family=\"Times,serif\" font-size=\"14.00\">DeepAcyclicGraph</text>\n",
       "</g>\n",
       "<!-- 5156053136 -->\n",
       "<g id=\"node2\" class=\"node\">\n",
       "<title>5156053136</title>\n",
       "<ellipse fill=\"none\" stroke=\"black\" cx=\"288.49\" cy=\"-162\" rx=\"213.08\" ry=\"18\"/>\n",
       "<text text-anchor=\"middle\" x=\"288.49\" y=\"-156.95\" font-family=\"Times,serif\" font-size=\"14.00\">CustomTaskNode: Extract content from search results</text>\n",
       "</g>\n",
       "<!-- 5156059712&#45;&gt;5156053136 -->\n",
       "<g id=\"edge1\" class=\"edge\">\n",
       "<title>5156059712&#45;&gt;5156053136</title>\n",
       "<path fill=\"none\" stroke=\"black\" d=\"M288.49,-215.7C288.49,-208.41 288.49,-199.73 288.49,-191.54\"/>\n",
       "<polygon fill=\"black\" stroke=\"black\" points=\"291.99,-191.62 288.49,-181.62 284.99,-191.62 291.99,-191.62\"/>\n",
       "</g>\n",
       "<!-- 5156061056 -->\n",
       "<g id=\"node3\" class=\"node\">\n",
       "<title>5156061056</title>\n",
       "<ellipse fill=\"none\" stroke=\"black\" cx=\"183.49\" cy=\"-90\" rx=\"96.39\" ry=\"18\"/>\n",
       "<text text-anchor=\"middle\" x=\"183.49\" y=\"-84.95\" font-family=\"Times,serif\" font-size=\"14.00\">BinaryJudgementNode</text>\n",
       "</g>\n",
       "<!-- 5156053136&#45;&gt;5156061056 -->\n",
       "<g id=\"edge2\" class=\"edge\">\n",
       "<title>5156053136&#45;&gt;5156061056</title>\n",
       "<path fill=\"none\" stroke=\"black\" d=\"M262.54,-143.7C248.99,-134.66 232.24,-123.5 217.65,-113.77\"/>\n",
       "<polygon fill=\"black\" stroke=\"black\" points=\"219.95,-111.1 209.69,-108.46 216.06,-116.92 219.95,-111.1\"/>\n",
       "</g>\n",
       "<!-- 5170865616 -->\n",
       "<g id=\"node6\" class=\"node\">\n",
       "<title>5170865616</title>\n",
       "<ellipse fill=\"none\" stroke=\"black\" cx=\"394.49\" cy=\"-90\" rx=\"96.39\" ry=\"18\"/>\n",
       "<text text-anchor=\"middle\" x=\"394.49\" y=\"-84.95\" font-family=\"Times,serif\" font-size=\"14.00\">BinaryJudgementNode</text>\n",
       "</g>\n",
       "<!-- 5156053136&#45;&gt;5170865616 -->\n",
       "<g id=\"edge5\" class=\"edge\">\n",
       "<title>5156053136&#45;&gt;5170865616</title>\n",
       "<path fill=\"none\" stroke=\"black\" d=\"M314.7,-143.7C328.37,-134.66 345.29,-123.5 360.01,-113.77\"/>\n",
       "<polygon fill=\"black\" stroke=\"black\" points=\"361.64,-116.89 368.06,-108.46 357.79,-111.05 361.64,-116.89\"/>\n",
       "</g>\n",
       "<!-- 5156050832 -->\n",
       "<g id=\"node4\" class=\"node\">\n",
       "<title>5156050832</title>\n",
       "<ellipse fill=\"none\" stroke=\"black\" cx=\"57.49\" cy=\"-18\" rx=\"57.49\" ry=\"18\"/>\n",
       "<text text-anchor=\"middle\" x=\"57.49\" y=\"-12.95\" font-family=\"Times,serif\" font-size=\"14.00\">VerdictNode</text>\n",
       "</g>\n",
       "<!-- 5156061056&#45;&gt;5156050832 -->\n",
       "<g id=\"edge3\" class=\"edge\">\n",
       "<title>5156061056&#45;&gt;5156050832</title>\n",
       "<path fill=\"none\" stroke=\"black\" d=\"M153.63,-72.41C136.07,-62.65 113.71,-50.23 94.97,-39.82\"/>\n",
       "<polygon fill=\"black\" stroke=\"black\" points=\"96.75,-36.81 86.31,-35.01 93.35,-42.93 96.75,-36.81\"/>\n",
       "</g>\n",
       "<!-- 5156057984 -->\n",
       "<g id=\"node5\" class=\"node\">\n",
       "<title>5156057984</title>\n",
       "<ellipse fill=\"none\" stroke=\"black\" cx=\"200.49\" cy=\"-18\" rx=\"67.22\" ry=\"18\"/>\n",
       "<text text-anchor=\"middle\" x=\"200.49\" y=\"-12.95\" font-family=\"Times,serif\" font-size=\"14.00\">VerdictNode: 5</text>\n",
       "</g>\n",
       "<!-- 5156061056&#45;&gt;5156057984 -->\n",
       "<g id=\"edge4\" class=\"edge\">\n",
       "<title>5156061056&#45;&gt;5156057984</title>\n",
       "<path fill=\"none\" stroke=\"black\" d=\"M187.7,-71.7C189.49,-64.32 191.62,-55.52 193.63,-47.25\"/>\n",
       "<polygon fill=\"black\" stroke=\"black\" points=\"197.02,-48.12 195.98,-37.58 190.22,-46.47 197.02,-48.12\"/>\n",
       "</g>\n",
       "<!-- 5168698896 -->\n",
       "<g id=\"node7\" class=\"node\">\n",
       "<title>5168698896</title>\n",
       "<ellipse fill=\"none\" stroke=\"black\" cx=\"377.49\" cy=\"-18\" rx=\"57.49\" ry=\"18\"/>\n",
       "<text text-anchor=\"middle\" x=\"377.49\" y=\"-12.95\" font-family=\"Times,serif\" font-size=\"14.00\">VerdictNode</text>\n",
       "</g>\n",
       "<!-- 5170865616&#45;&gt;5168698896 -->\n",
       "<g id=\"edge6\" class=\"edge\">\n",
       "<title>5170865616&#45;&gt;5168698896</title>\n",
       "<path fill=\"none\" stroke=\"black\" d=\"M390.29,-71.7C388.5,-64.32 386.36,-55.52 384.35,-47.25\"/>\n",
       "<polygon fill=\"black\" stroke=\"black\" points=\"387.77,-46.47 382,-37.58 380.96,-48.12 387.77,-46.47\"/>\n",
       "</g>\n",
       "<!-- 5168369872 -->\n",
       "<g id=\"node8\" class=\"node\">\n",
       "<title>5168369872</title>\n",
       "<ellipse fill=\"none\" stroke=\"black\" cx=\"520.49\" cy=\"-18\" rx=\"67.22\" ry=\"18\"/>\n",
       "<text text-anchor=\"middle\" x=\"520.49\" y=\"-12.95\" font-family=\"Times,serif\" font-size=\"14.00\">VerdictNode: 5</text>\n",
       "</g>\n",
       "<!-- 5170865616&#45;&gt;5168369872 -->\n",
       "<g id=\"edge7\" class=\"edge\">\n",
       "<title>5170865616&#45;&gt;5168369872</title>\n",
       "<path fill=\"none\" stroke=\"black\" d=\"M424.35,-72.41C441.67,-62.79 463.65,-50.58 482.23,-40.26\"/>\n",
       "<polygon fill=\"black\" stroke=\"black\" points=\"483.78,-43.4 490.82,-35.48 480.38,-37.28 483.78,-43.4\"/>\n",
       "</g>\n",
       "</g>\n",
       "</svg>\n"
      ],
      "text/plain": [
       "<graphviz.graphs.Digraph at 0x13447d550>"
      ]
     },
     "execution_count": 8,
     "metadata": {},
     "output_type": "execute_result"
    }
   ],
   "source": [
    "from graphviz import Digraph\n",
    "\n",
    "def visualize_dag(root, get_label=lambda node: str(node)):\n",
    "    \"\"\"\n",
    "    Visualize a DAG given a root node.\n",
    "    - root: the root node of the DAG\n",
    "    - get_label: function to get a label for each node (default: str(node))\n",
    "    \"\"\"\n",
    "    dot = Digraph()\n",
    "    visited = set()\n",
    "\n",
    "\n",
    "    def add_edges(node):\n",
    "        node_id = id(node)\n",
    "        if node_id in visited:\n",
    "            return\n",
    "\n",
    "        dot.node(str(node_id), get_label(node))\n",
    "        \n",
    "        root_nodes = getattr(node, \"root_nodes\", None)\n",
    "        if root_nodes:\n",
    "            for root in root_nodes:\n",
    "                dot.edge(str(node_id), str(id(root)))\n",
    "                add_edges(root)\n",
    "        \n",
    "        # Handle 'child' (single node)\n",
    "        child = getattr(node, \"child\", None)\n",
    "        \n",
    "        if child is not None:\n",
    "            dot.edge(str(node_id), str(id(child)))\n",
    "            add_edges(child)\n",
    "        \n",
    "        \n",
    "        # Handle 'children' (list of nodes)\n",
    "        children = getattr(node, \"children\", None)\n",
    "        if children:\n",
    "            for c in children:\n",
    "                dot.edge(str(node_id), str(id(c)))\n",
    "                add_edges(c)\n",
    "\n",
    "    add_edges(root)\n",
    "    return dot\n",
    "\n",
    "def _get_label(node): \n",
    "    label = getattr(node, \"label\", getattr(node, \"score\", \"\"))\n",
    "    label = f\": {str(label)}\" if label else \"\"\n",
    "    return f\"{node.__class__.__name__}{label}\"\n",
    "dot = visualize_dag(dag, get_label=_get_label)\n",
    "dot  # This will render the graph inline"
   ]
  },
  {
   "cell_type": "code",
   "execution_count": null,
   "id": "80922711",
   "metadata": {},
   "outputs": [],
   "source": []
  }
 ],
 "metadata": {
  "kernelspec": {
   "display_name": "Python 3 (ipykernel)",
   "language": "python",
   "name": "python3"
  }
 },
 "nbformat": 4,
 "nbformat_minor": 5
}
