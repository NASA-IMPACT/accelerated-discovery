{
 "cells": [
  {
   "cell_type": "code",
   "execution_count": 1,
   "id": "0c6a6eb7-07b1-42bb-b2a6-27db6b0a5112",
   "metadata": {},
   "outputs": [],
   "source": [
    "%load_ext autoreload\n",
    "\n",
    "%autoreload 1"
   ]
  },
  {
   "cell_type": "code",
   "execution_count": 2,
   "id": "82512cbb-53ad-4e40-8319-f0734a239701",
   "metadata": {},
   "outputs": [],
   "source": [
    "import nest_asyncio\n",
    "nest_asyncio.apply()"
   ]
  },
  {
   "cell_type": "code",
   "execution_count": 3,
   "id": "76e590a6-0b42-4ca2-8a92-0cca9e6f33bf",
   "metadata": {},
   "outputs": [],
   "source": [
    "import os\n",
    "from pprint import pprint"
   ]
  },
  {
   "cell_type": "code",
   "execution_count": 4,
   "id": "2132ae44-c95d-4dbd-b427-33f28321695b",
   "metadata": {},
   "outputs": [
    {
     "name": "stderr",
     "output_type": "stream",
     "text": [
      "\u001b[32m2025-04-01 20:48:27.228\u001b[0m | \u001b[1mINFO    \u001b[0m | \u001b[36makd.config\u001b[0m:\u001b[36mget_config\u001b[0m:\u001b[36m78\u001b[0m - \u001b[1mLoading configuration for environment: LOCAL\u001b[0m\n"
     ]
    }
   ],
   "source": [
    "from akd.config import CONFIG"
   ]
  },
  {
   "cell_type": "code",
   "execution_count": 5,
   "id": "6d3562d0-3221-4c6e-b83d-97f3eef50c77",
   "metadata": {},
   "outputs": [],
   "source": [
    "# CONFIG"
   ]
  },
  {
   "cell_type": "markdown",
   "id": "ba9abaaf-4160-469e-b4b6-2c115d449750",
   "metadata": {},
   "source": [
    "# Import"
   ]
  },
  {
   "cell_type": "code",
   "execution_count": 6,
   "id": "eba1f0d7-b270-488d-9325-cedce0a1ca22",
   "metadata": {},
   "outputs": [],
   "source": [
    "from akd.tools.search import (\n",
    "    SearxNGSearchTool,\n",
    "    SearxNGSearchToolConfig,\n",
    "    SearxNGSearchToolInputSchema\n",
    ")"
   ]
  },
  {
   "cell_type": "code",
   "execution_count": 7,
   "id": "0373bce7-7bb2-4749-983f-d5fe29a8a44c",
   "metadata": {},
   "outputs": [],
   "source": [
    "from akd.tools.scrapers.web_scrapers import (\n",
    "    SimpleWebScraper,\n",
    "    WebpageScraperToolConfig,\n",
    "    WebpageScraperToolInputSchema,\n",
    "    Crawl4AIWebScraper\n",
    ")\n",
    "from akd.tools.scrapers.pdf_scrapers import (\n",
    "    SimplePDFScraper,\n",
    ")\n",
    "from akd.tools.scrapers.composite import CompositeWebScraper"
   ]
  },
  {
   "cell_type": "code",
   "execution_count": 8,
   "id": "7b2b8b8d-e4dc-4161-a13d-84001a275b7b",
   "metadata": {},
   "outputs": [],
   "source": [
    "from akd.tools.scrapers.resolvers import (\n",
    "    ArxivResolver,\n",
    "    ADSResolver,\n",
    "    IdentityResolver,\n",
    "    ResolverInputSchema\n",
    ")\n",
    "\n",
    "from akd.tools.scrapers.composite import ResearchArticleResolver"
   ]
  },
  {
   "cell_type": "code",
   "execution_count": 9,
   "id": "d619b0b7-41ce-4886-8001-f82d54fc6629",
   "metadata": {},
   "outputs": [],
   "source": [
    "from akd.agents.factory import (\n",
    "    create_intent_agent,\n",
    "    create_extraction_agent,\n",
    "    create_intent_agent,\n",
    "    create_query_agent\n",
    ")\n",
    "from akd.agents.extraction import (\n",
    "    IntentBasedExtractionSchemaMapper, \n",
    "    EstimationExtractionAgent,\n",
    "    ExtractionInputSchema,\n",
    ")"
   ]
  },
  {
   "cell_type": "code",
   "execution_count": 10,
   "id": "ab2ba24b-3d59-490c-918c-28287f1f70c3",
   "metadata": {},
   "outputs": [],
   "source": [
    "from akd.agents.litsearch import LitAgent, LitAgentInputSchema"
   ]
  },
  {
   "cell_type": "code",
   "execution_count": 11,
   "id": "bfe29ed6-837e-4902-8e1e-11278bac8248",
   "metadata": {},
   "outputs": [],
   "source": [
    "from akd.agents.intents import Intent, IntentInputSchema, IntentAgent\n",
    "from akd.agents._base import BaseAgentConfig"
   ]
  },
  {
   "cell_type": "code",
   "execution_count": 12,
   "id": "748db2ac-fa14-4395-a292-f57c2be05534",
   "metadata": {},
   "outputs": [],
   "source": [
    "import instructor\n",
    "import openai"
   ]
  },
  {
   "cell_type": "markdown",
   "id": "a45d79dc-a785-44b5-bc9d-471f00849cf6",
   "metadata": {},
   "source": [
    "# Build Tools and Agents"
   ]
  },
  {
   "cell_type": "code",
   "execution_count": 13,
   "id": "a2de477b-7313-4cd7-8f63-f81341aea006",
   "metadata": {},
   "outputs": [],
   "source": [
    "SEARCH_TOOL = SearxNGSearchTool(\n",
    "    config=SearxNGSearchToolConfig(\n",
    "        base_url=\"http://localhost:8080\",\n",
    "        max_results=5,\n",
    "        engines=[\"google\", \"arxiv\", \"google_scholar\"],\n",
    "        debug=True\n",
    "    )\n",
    ")"
   ]
  },
  {
   "cell_type": "code",
   "execution_count": 14,
   "id": "fec70c73-6cc2-4084-a884-f2491c7fe9ba",
   "metadata": {},
   "outputs": [
    {
     "name": "stderr",
     "output_type": "stream",
     "text": [
      "\u001b[32m2025-04-01 20:48:29.084\u001b[0m | \u001b[34m\u001b[1mDEBUG   \u001b[0m | \u001b[36makd.tools.search\u001b[0m:\u001b[36marun\u001b[0m:\u001b[36m259\u001b[0m - \u001b[34m\u001b[1m[{'template': 'paper.html', 'type': 'pdf', 'url': 'https://nhess.copernicus.org/articles/18/3203/2018/', 'title': 'Roads and landslides in Nepal: how development affects environmental risk - (Published 2018-01-01T00:00:00)', 'authors': ['BG McAdoo', 'M Quak', 'KR Gnyawali…'], 'publisher': None, 'journal': '… Hazards and Earth …', 'publishedDate': '2018-01-01T00:00:00', 'content': '… and landslides in the Sindhupalchok District of central Nepal (Fig. 3). The 2015 Gorkha earthquake heavily impacted Sindhupalchok, where over 95 % of the houses were severely …', 'comments': '', 'html_url': None, 'pdf_url': 'https://nhess.copernicus.org/articles/18/3203/2018/nhess-18-3203-2018.pdf', 'engine': 'google scholar', 'parsed_url': ['https', 'nhess.copernicus.org', '/articles/18/3203/2018/', '', '', ''], 'engines': ['google scholar'], 'positions': [1], 'score': 1.0, 'category': 'science', 'query': 'landslides nepal'}, {'template': 'paper.html', 'url': 'http://arxiv.org/abs/2401.14210v1', 'title': 'At the junction between deep learning and statistics of extremes: formalizing the landslide hazard definition - (Published 2024-01-25T14:48:08)', 'publishedDate': '2024-01-25T14:48:08', 'content': 'The most adopted definition of landslide hazard combines spatial information about landslide location (susceptibility), threat (intensity), and frequency (return period). Only the first two elements are usually considered and estimated when working over vast areas. Even then, separate models constitute the standard, with frequency being rarely investigated. Frequency and intensity are intertwined and depend on each other because larger events occur less frequently and vice versa. However, due to the lack of multi-temporal inventories and joint statistical models, modelling such properties via a unified hazard model has always been challenging and has yet to be attempted. Here, we develop a unified model to estimate landslide hazard at the slope unit level to address such gaps. We employed deep learning, combined with a model motivated by extreme-value theory to analyse an inventory of 30 years of observed rainfall-triggered landslides in Nepal and assess landslide hazard for multiple return periods. We also use our model to further explore landslide hazard for the same return periods under different climate change scenarios up to the end of the century. Our results show that the proposed model performs excellently and can be used to model landslide hazard in a unified manner. Geomorphologically, we find that under both climate change scenarios (SSP245 and SSP885), landslide hazard is likely to increase up to two times on average in the lower Himalayan regions while remaining the same in the middle Himalayan region whilst decreasing slightly in the upper Himalayan region areas.', 'doi': None, 'authors': ['Ashok Dahal', 'Raphaël Huser', 'Luigi Lombardo'], 'journal': None, 'tags': ['cs.LG', 'physics.geo-ph', 'stat.AP', 'stat.ML'], 'comments': None, 'pdf_url': 'http://arxiv.org/pdf/2401.14210v1', 'engine': 'arxiv', 'parsed_url': ['http', 'arxiv.org', '/abs/2401.14210v1', '', '', ''], 'engines': ['arxiv'], 'positions': [1], 'score': 1.0, 'category': 'science', 'query': 'landslides nepal'}, {'url': 'http://dx.doi.org/10.5281/zenodo.3688363', 'title': 'Nepal landslide dataset for semantic segmentation', 'content': 'This database contains images used for the semantic segmentation of landslide scars from a fully convolutional neural network U-Net. 1. Training dataset: it contains 230 GeoTIFF 8 bits images and associated PNG masks (scars indicated in white and background in black color). 2. Validation dataset: it contains 35 GeoTIFF 8 bits images and associated PNG masks used for U-Net validation step. 3. Test dataset: it contains 10 GeoTIFF 8 bits images and associated PNG masks for testing. Also, the \"SHAPEFILES_LANDSLIDES.rar\" file contains the vector layers of the masked images in .shp format.', 'engine': 'openairedatasets', 'template': 'default.html', 'parsed_url': ['http', 'dx.doi.org', '/10.5281/zenodo.3688363', '', '', ''], 'engines': ['openairedatasets'], 'positions': [1], 'score': 1.0, 'category': 'science', 'query': 'landslides nepal'}, {'url': 'https://pure.iiasa.ac.at/id/eprint/10495/', 'title': 'Community Vulnerability to Floods and Landslides in Nepal', 'content': 'We addressed the issue of differential vulnerability to natural disasters at the level of village communities in Nepal. The focus lay on the relative importance of different dimensions of socioeconomic status and in particular, we tried to differentiate between the effects of education and income/wealth, the latter being measured through the existence of permanent housing structures. We studied damage due to floods and landslides in terms of human lives lost, animals lost, and other registered damage to households. The statistical analysis was carried out through several alternative models applied separately to the Terai and the Hill and Mountain Regions, as well as all of Nepal. At all levels and under all models, the results showed consistently significant effects of more education on lowering the number of human and animal deaths as well as the number of households otherwise affected. With respect to the wealth indicator, the picture was less clear and particularly with respect to losses in human lives, the estimated coefficients tended to have the wrong signs. We concluded that the effects of education on reducing disaster vulnerability tended to be more pervasive than those of income/wealth in the case of floods and landslides in Nepal.', 'engine': 'openairepublications', 'template': 'default.html', 'parsed_url': ['https', 'pure.iiasa.ac.at', '/id/eprint/10495/', '', '', ''], 'engines': ['openairepublications'], 'positions': [1], 'score': 1.0, 'category': 'science', 'query': 'landslides nepal'}, {'template': 'paper.html', 'type': 'html', 'url': 'https://idp.springer.com/authorize/casa?redirect_uri=https://link.springer.com/article/10.1007/s11069-006-9100-3&casa_token=B44APfLJpRAAAAAA:0j-tutvNTc80Cq4whlwR4vOOdxREY5Zoxk8-UJ0oM_4ynY0DEMZiWHB5xYI8FBezjXwW7ao4LxxpTxs', 'title': 'Trends in landslide occurrence in Nepal - (Published 2007-01-01T00:00:00)', 'authors': ['DN Petley', 'GJ Hearn', 'A Hart', 'NJ Rosser', 'SA Dunning…'], 'publisher': 'Springer', 'journal': 'Natural hazards', 'publishedDate': '2007-01-01T00:00:00', 'content': '… In Nepal, landslides represent a major constraint on … impacts of landslides in countries such as Nepal are increasing … In this paper, a database of landslide fatalities in Nepal has been …', 'comments': '', 'html_url': 'https://idp.springer.com/authorize/casa?redirect_uri=https://link.springer.com/article/10.1007/s11069-006-9100-3&casa_token=B44APfLJpRAAAAAA:0j-tutvNTc80Cq4whlwR4vOOdxREY5Zoxk8-UJ0oM_4ynY0DEMZiWHB5xYI8FBezjXwW7ao4LxxpTxs', 'pdf_url': None, 'engine': 'google scholar', 'parsed_url': ['https', 'idp.springer.com', '/authorize/casa', '', 'redirect_uri=https://link.springer.com/article/10.1007/s11069-006-9100-3&casa_token=B44APfLJpRAAAAAA:0j-tutvNTc80Cq4whlwR4vOOdxREY5Zoxk8-UJ0oM_4ynY0DEMZiWHB5xYI8FBezjXwW7ao4LxxpTxs', ''], 'engines': ['google scholar'], 'positions': [2], 'score': 0.5, 'category': 'science', 'query': 'landslides nepal'}]\u001b[0m\n"
     ]
    },
    {
     "data": {
      "text/plain": [
       "SearxNGSearchToolOutputSchema(results=[SearchResultItem(url=HttpUrl('https://nhess.copernicus.org/articles/18/3203/2018/'), pdf_url=HttpUrl('https://nhess.copernicus.org/articles/18/3203/2018/nhess-18-3203-2018.pdf'), title='Roads and landslides in Nepal: how development affects environmental risk - (Published 2018-01-01T00:00:00)', content='… and landslides in the Sindhupalchok District of central Nepal (Fig. 3). The 2015 Gorkha earthquake heavily impacted Sindhupalchok, where over 95 % of the houses were severely …', query='landslides nepal', category='science', doi=None, published_date='2018-01-01T00:00:00', engine='google scholar', tags=None, extra={'template': 'paper.html', 'type': 'pdf', 'authors': ['BG McAdoo', 'M Quak', 'KR Gnyawali…'], 'publisher': None, 'journal': '… Hazards and Earth …', 'comments': '', 'html_url': None, 'parsed_url': ['https', 'nhess.copernicus.org', '/articles/18/3203/2018/', '', '', ''], 'engines': ['google scholar'], 'positions': [1], 'score': 1.0}), SearchResultItem(url=HttpUrl('http://arxiv.org/abs/2401.14210v1'), pdf_url=HttpUrl('http://arxiv.org/pdf/2401.14210v1'), title='At the junction between deep learning and statistics of extremes: formalizing the landslide hazard definition - (Published 2024-01-25T14:48:08)', content='The most adopted definition of landslide hazard combines spatial information about landslide location (susceptibility), threat (intensity), and frequency (return period). Only the first two elements are usually considered and estimated when working over vast areas. Even then, separate models constitute the standard, with frequency being rarely investigated. Frequency and intensity are intertwined and depend on each other because larger events occur less frequently and vice versa. However, due to the lack of multi-temporal inventories and joint statistical models, modelling such properties via a unified hazard model has always been challenging and has yet to be attempted. Here, we develop a unified model to estimate landslide hazard at the slope unit level to address such gaps. We employed deep learning, combined with a model motivated by extreme-value theory to analyse an inventory of 30 years of observed rainfall-triggered landslides in Nepal and assess landslide hazard for multiple return periods. We also use our model to further explore landslide hazard for the same return periods under different climate change scenarios up to the end of the century. Our results show that the proposed model performs excellently and can be used to model landslide hazard in a unified manner. Geomorphologically, we find that under both climate change scenarios (SSP245 and SSP885), landslide hazard is likely to increase up to two times on average in the lower Himalayan regions while remaining the same in the middle Himalayan region whilst decreasing slightly in the upper Himalayan region areas.', query='landslides nepal', category='science', doi=None, published_date='2024-01-25T14:48:08', engine='arxiv', tags=['cs.LG', 'physics.geo-ph', 'stat.AP', 'stat.ML'], extra={'template': 'paper.html', 'authors': ['Ashok Dahal', 'Raphaël Huser', 'Luigi Lombardo'], 'journal': None, 'comments': None, 'parsed_url': ['http', 'arxiv.org', '/abs/2401.14210v1', '', '', ''], 'engines': ['arxiv'], 'positions': [1], 'score': 1.0}), SearchResultItem(url=HttpUrl('http://dx.doi.org/10.5281/zenodo.3688363'), pdf_url=None, title='Nepal landslide dataset for semantic segmentation', content='This database contains images used for the semantic segmentation of landslide scars from a fully convolutional neural network U-Net. 1. Training dataset: it contains 230 GeoTIFF 8 bits images and associated PNG masks (scars indicated in white and background in black color). 2. Validation dataset: it contains 35 GeoTIFF 8 bits images and associated PNG masks used for U-Net validation step. 3. Test dataset: it contains 10 GeoTIFF 8 bits images and associated PNG masks for testing. Also, the \"SHAPEFILES_LANDSLIDES.rar\" file contains the vector layers of the masked images in .shp format.', query='landslides nepal', category='science', doi=None, published_date=None, engine='openairedatasets', tags=None, extra={'template': 'default.html', 'parsed_url': ['http', 'dx.doi.org', '/10.5281/zenodo.3688363', '', '', ''], 'engines': ['openairedatasets'], 'positions': [1], 'score': 1.0}), SearchResultItem(url=HttpUrl('https://pure.iiasa.ac.at/id/eprint/10495/'), pdf_url=None, title='Community Vulnerability to Floods and Landslides in Nepal', content='We addressed the issue of differential vulnerability to natural disasters at the level of village communities in Nepal. The focus lay on the relative importance of different dimensions of socioeconomic status and in particular, we tried to differentiate between the effects of education and income/wealth, the latter being measured through the existence of permanent housing structures. We studied damage due to floods and landslides in terms of human lives lost, animals lost, and other registered damage to households. The statistical analysis was carried out through several alternative models applied separately to the Terai and the Hill and Mountain Regions, as well as all of Nepal. At all levels and under all models, the results showed consistently significant effects of more education on lowering the number of human and animal deaths as well as the number of households otherwise affected. With respect to the wealth indicator, the picture was less clear and particularly with respect to losses in human lives, the estimated coefficients tended to have the wrong signs. We concluded that the effects of education on reducing disaster vulnerability tended to be more pervasive than those of income/wealth in the case of floods and landslides in Nepal.', query='landslides nepal', category='science', doi=None, published_date=None, engine='openairepublications', tags=None, extra={'template': 'default.html', 'parsed_url': ['https', 'pure.iiasa.ac.at', '/id/eprint/10495/', '', '', ''], 'engines': ['openairepublications'], 'positions': [1], 'score': 1.0}), SearchResultItem(url=HttpUrl('https://idp.springer.com/authorize/casa?redirect_uri=https://link.springer.com/article/10.1007/s11069-006-9100-3&casa_token=B44APfLJpRAAAAAA:0j-tutvNTc80Cq4whlwR4vOOdxREY5Zoxk8-UJ0oM_4ynY0DEMZiWHB5xYI8FBezjXwW7ao4LxxpTxs'), pdf_url=None, title='Trends in landslide occurrence in Nepal - (Published 2007-01-01T00:00:00)', content='… In Nepal, landslides represent a major constraint on … impacts of landslides in countries such as Nepal are increasing … In this paper, a database of landslide fatalities in Nepal has been …', query='landslides nepal', category='science', doi=None, published_date='2007-01-01T00:00:00', engine='google scholar', tags=None, extra={'template': 'paper.html', 'type': 'html', 'authors': ['DN Petley', 'GJ Hearn', 'A Hart', 'NJ Rosser', 'SA Dunning…'], 'publisher': 'Springer', 'journal': 'Natural hazards', 'comments': '', 'html_url': 'https://idp.springer.com/authorize/casa?redirect_uri=https://link.springer.com/article/10.1007/s11069-006-9100-3&casa_token=B44APfLJpRAAAAAA:0j-tutvNTc80Cq4whlwR4vOOdxREY5Zoxk8-UJ0oM_4ynY0DEMZiWHB5xYI8FBezjXwW7ao4LxxpTxs', 'parsed_url': ['https', 'idp.springer.com', '/authorize/casa', '', 'redirect_uri=https://link.springer.com/article/10.1007/s11069-006-9100-3&casa_token=B44APfLJpRAAAAAA:0j-tutvNTc80Cq4whlwR4vOOdxREY5Zoxk8-UJ0oM_4ynY0DEMZiWHB5xYI8FBezjXwW7ao4LxxpTxs', ''], 'engines': ['google scholar'], 'positions': [2], 'score': 0.5})], category='science')"
      ]
     },
     "execution_count": 14,
     "metadata": {},
     "output_type": "execute_result"
    }
   ],
   "source": [
    "await SEARCH_TOOL.arun(\n",
    "    SearxNGSearchToolInputSchema(\n",
    "        queries=[\n",
    "            \"landslides nepal\"\n",
    "        ]\n",
    "    )\n",
    ")"
   ]
  },
  {
   "cell_type": "code",
   "execution_count": 15,
   "id": "4d214e22-4e83-4e59-bf96-9f26ade9c1ca",
   "metadata": {},
   "outputs": [],
   "source": [
    "scraper_cfg = WebpageScraperToolConfig()\n",
    "SCRAPER = CompositeWebScraper(\n",
    "    SimpleWebScraper(scraper_cfg),\n",
    "    Crawl4AIWebScraper(scraper_cfg),\n",
    "    SimplePDFScraper(scraper_cfg),\n",
    "    debug=True\n",
    ")"
   ]
  },
  {
   "cell_type": "code",
   "execution_count": 16,
   "id": "720cba42-5d4c-482a-b26a-3d4638f36031",
   "metadata": {},
   "outputs": [
    {
     "name": "stderr",
     "output_type": "stream",
     "text": [
      "\u001b[32m2025-04-01 20:48:29.106\u001b[0m | \u001b[34m\u001b[1mDEBUG   \u001b[0m | \u001b[36makd.tools.scrapers.composite\u001b[0m:\u001b[36marun\u001b[0m:\u001b[36m39\u001b[0m - \u001b[34m\u001b[1mRunning scraper=SimpleWebScraper for {\"url\":\"https://www.wordstemplates.org/wp-content/uploads/2021/06/Statement-of-Purpose-Format.pdf\",\"include_links\":true}\u001b[0m\n",
      "\u001b[32m2025-04-01 20:48:29.107\u001b[0m | \u001b[31m\u001b[1mERROR   \u001b[0m | \u001b[36makd.tools.scrapers.composite\u001b[0m:\u001b[36marun\u001b[0m:\u001b[36m48\u001b[0m - \u001b[31m\u001b[1mError running SimpleWebScraper\n",
      "Can't parse url with PDF :: https://www.wordstemplates.org/wp-content/uploads/2021/06/Statement-of-Purpose-Format.pdf\u001b[0m\n",
      "\u001b[32m2025-04-01 20:48:29.108\u001b[0m | \u001b[34m\u001b[1mDEBUG   \u001b[0m | \u001b[36makd.tools.scrapers.composite\u001b[0m:\u001b[36marun\u001b[0m:\u001b[36m39\u001b[0m - \u001b[34m\u001b[1mRunning scraper=Crawl4AIWebScraper for {\"url\":\"https://www.wordstemplates.org/wp-content/uploads/2021/06/Statement-of-Purpose-Format.pdf\",\"include_links\":true}\u001b[0m\n",
      "\u001b[32m2025-04-01 20:48:29.108\u001b[0m | \u001b[31m\u001b[1mERROR   \u001b[0m | \u001b[36makd.tools.scrapers.composite\u001b[0m:\u001b[36marun\u001b[0m:\u001b[36m48\u001b[0m - \u001b[31m\u001b[1mError running Crawl4AIWebScraper\n",
      "Can't parse url with PDF :: https://www.wordstemplates.org/wp-content/uploads/2021/06/Statement-of-Purpose-Format.pdf\u001b[0m\n",
      "\u001b[32m2025-04-01 20:48:29.109\u001b[0m | \u001b[34m\u001b[1mDEBUG   \u001b[0m | \u001b[36makd.tools.scrapers.composite\u001b[0m:\u001b[36marun\u001b[0m:\u001b[36m39\u001b[0m - \u001b[34m\u001b[1mRunning scraper=SimplePDFScraper for {\"url\":\"https://www.wordstemplates.org/wp-content/uploads/2021/06/Statement-of-Purpose-Format.pdf\",\"include_links\":true}\u001b[0m\n",
      "\u001b[32m2025-04-01 20:48:29.336\u001b[0m | \u001b[34m\u001b[1mDEBUG   \u001b[0m | \u001b[36makd.tools.scrapers.pdf_scrapers\u001b[0m:\u001b[36m_download_pdf_from_url\u001b[0m:\u001b[36m180\u001b[0m - \u001b[34m\u001b[1mDownloading PDF at /var/folders/_y/xn9wmmrx1_s68jvjw4gzmxfm0000gn/T/tmp7u0b79yu.pdf\u001b[0m\n"
     ]
    }
   ],
   "source": [
    "_result = await SCRAPER.arun(\n",
    "    WebpageScraperToolInputSchema(\n",
    "        # url=\"https://www.sciencedirect.com/science/article/pii/S0048969722074824\"\n",
    "        url=\"https://www.wordstemplates.org/wp-content/uploads/2021/06/Statement-of-Purpose-Format.pdf\"\n",
    "    )\n",
    ")"
   ]
  },
  {
   "cell_type": "code",
   "execution_count": 17,
   "id": "008aa7a7-7322-4f54-91b5-1776a5b6019b",
   "metadata": {},
   "outputs": [
    {
     "data": {
      "text/plain": [
       "'Statement of Purpose\\nPhilip Guo (pgbovine@mit.edu)\\nI want to pursue a Ph.D. in Computer Science, and my career aspiration is to become\\na professor. My research interests include program analysis, software engineering, operating\\nsystems, and human-computer interaction (HCI).\\nMy motivation for pursuing research related to program analysis stems from learning\\nabout the challenges of software development during 3 summers spent as a software engi-\\nneering intern (1 at Codehost, a start-up, and 2 at Teradyne, a large corporation). Although\\nI found the actual development work to be educational, what really sparked my interest in\\nresearch was experiencing ﬁrst-hand the challenges that software engineers face daily.\\nI aspire to create tools that can increase programmer productivity and improve software\\nquality and security. As a ﬁrst step towards this goal, for the past 2 years I have been working\\nwith Prof. Michael Ernst in the MIT Program Analysis Group. The research problem that\\nmy work addresses is the diﬃculty of building dynamic analysis tools that work reliably\\non large C and C++ programs, due to the presence of complex constructs and the lack\\nof memory and type safety. I have developed a framework named Fjalar that enables the\\nconstruction of scalable and robust dynamic analyses for C and C++ programs. It operates\\non unmodiﬁed x86 binaries of programs as large as 1 million lines of code, and it provides\\nrich language- and machine-level information at run time. I have used Fjalar to build two\\ndynamic analysis tools. The ﬁrst, Kvasir, records a detailed trace of data structure contents\\nduring execution. The second, DynComp, performs dynamic type inference to ﬁnd sets of\\nrelated variables whose values interact at run time. My Master’s thesis is based on Fjalar\\nand the tools built upon it. I also have experience with static analysis. I am currently\\nworking on type inference of unit types (e.g., physics units) for C programs.\\nMy research has been directly applied to several projects and produced visible results.\\nProf. Ernst has used Kvasir to extend the Daikon dynamic invariant detector to analyze\\nlarge C and C++ programs, and he has used DynComp to improve Daikon’s performance\\nand the quality of inferred invariants. We collaborated with Prof. Martin Rinard to use\\nDaikon together with Kvasir and DynComp to generate constraints for performing run time\\ndata structure repair. This research was funded by DARPA, and they recently evaluated its\\neﬀectiveness by hiring an external company to try to attack and crash a speciﬁc program:\\nthe Freeciv multiplayer game server. Our repair system successfully protected the server\\nfrom a high percentage of their attacks. In another assessment, we were able to use this\\nrepair system to mitigate the eﬀects of several real security ﬂaws in the BIND DNS server.\\nIt is very encouraging to see my research applied to real-world problems.\\nTaking an Operating Systems Engineering course has inspired me to explore OS-related\\nresearch.\\nIn particular, I am interested in applying program analysis to make low-level\\nsoftware such as operating systems more reliable and secure. In addition, I have worked on\\n2 research projects that have stimulated my interest in user interfaces and HCI: I created\\na suite of 5 educational games for Palm OS devices for the Teacher Education Program\\n(2002-2003) and an image editing tool for the Computer Graphics Group (Fall 2003).\\nAlthough I am open to a variety of research, there are several professors at Stanford whose\\nprojects are especially appealing to me: Profs. Aiken, Engler, and Lam (program analysis);\\nProfs. Fox and Mazieres (OS and distributed systems); Prof. Klemmer (HCI). Studying\\nsome of these professors’ papers for classes and for my research and reading project websites\\nhave given me a sense that Stanford’s Ph.D. program is a great match for my interests.\\n1\\nFjalar project: pag.csail.mit.edu/fjalar/\\nSee Additional Information page for publications and additional details\\n2\\n'"
      ]
     },
     "execution_count": 17,
     "metadata": {},
     "output_type": "execute_result"
    }
   ],
   "source": [
    "_result.content"
   ]
  },
  {
   "cell_type": "code",
   "execution_count": 18,
   "id": "6371cfec-0678-45c0-8d12-37777a2ab896",
   "metadata": {},
   "outputs": [],
   "source": [
    "ARTICLE_RESOLVER = ResearchArticleResolver(\n",
    "    ArxivResolver(),\n",
    "    ADSResolver(),\n",
    "    IdentityResolver()\n",
    ")"
   ]
  },
  {
   "cell_type": "code",
   "execution_count": 19,
   "id": "c5dd173a-cf73-482c-9e25-be1f3565fbd7",
   "metadata": {},
   "outputs": [
    {
     "name": "stderr",
     "output_type": "stream",
     "text": [
      "\u001b[32m2025-04-01 20:48:29.451\u001b[0m | \u001b[34m\u001b[1mDEBUG   \u001b[0m | \u001b[36makd.tools.scrapers.composite\u001b[0m:\u001b[36mresolve\u001b[0m:\u001b[36m69\u001b[0m - \u001b[34m\u001b[1mUsing resolver=ArxivResolver for url=https://arxiv.org/abs/2411.08181\u001b[0m\n"
     ]
    },
    {
     "data": {
      "text/plain": [
       "ResolverOutputSchema(url=HttpUrl('https://arxiv.org/pdf/2411.08181.pdf'), resolver='ArxivResolver')"
      ]
     },
     "execution_count": 19,
     "metadata": {},
     "output_type": "execute_result"
    }
   ],
   "source": [
    "await ARTICLE_RESOLVER.arun(\n",
    "    ResolverInputSchema(url=\"https://arxiv.org/abs/2411.08181\")\n",
    ")"
   ]
  },
  {
   "cell_type": "code",
   "execution_count": 20,
   "id": "fe0d370c-ae77-4b5b-a378-413281f019ba",
   "metadata": {},
   "outputs": [],
   "source": [
    "# INTENT_AGENT = create_intent_agent()\n",
    "\n",
    "INTENT_AGENT = IntentAgent(\n",
    "    config=BaseAgentConfig(\n",
    "        client=instructor.from_openai(openai.AsyncOpenAI())\n",
    "    )\n",
    ")"
   ]
  },
  {
   "cell_type": "code",
   "execution_count": 21,
   "id": "1e3ece5b-5d24-4d78-a6af-e1ed3dc7b180",
   "metadata": {},
   "outputs": [
    {
     "data": {
      "text/plain": [
       "True"
      ]
     },
     "execution_count": 21,
     "metadata": {},
     "output_type": "execute_result"
    }
   ],
   "source": [
    "isinstance(INTENT_AGENT.client, instructor.client.AsyncInstructor)"
   ]
  },
  {
   "cell_type": "code",
   "execution_count": 22,
   "id": "6a05d627-d47f-4293-a6fc-02a8650aab14",
   "metadata": {},
   "outputs": [
    {
     "data": {
      "text/plain": [
       "IntentOutputSchema(intent=<Intent.GENERAL: 'General'>)"
      ]
     },
     "execution_count": 22,
     "metadata": {},
     "output_type": "execute_result"
    }
   ],
   "source": [
    "await INTENT_AGENT.arun(\n",
    "    IntentInputSchema(\n",
    "        query=\"landslide nepal\"\n",
    "    )\n",
    ")"
   ]
  },
  {
   "cell_type": "code",
   "execution_count": 23,
   "id": "3e510d99-f1cb-46c0-b108-621090549e48",
   "metadata": {},
   "outputs": [
    {
     "data": {
      "text/plain": [
       "IntentOutputSchema(intent=<Intent.GENERAL: 'General'>)"
      ]
     },
     "execution_count": 23,
     "metadata": {},
     "output_type": "execute_result"
    }
   ],
   "source": [
    "await INTENT_AGENT.arun(\n",
    "    IntentInputSchema(\n",
    "        query=\"landslide nepal\"\n",
    "    )\n",
    ")"
   ]
  },
  {
   "cell_type": "code",
   "execution_count": 24,
   "id": "1005b2bc-5ac6-49b2-81ca-b98cb449c1bb",
   "metadata": {},
   "outputs": [],
   "source": [
    "QUERY_AGENT = create_query_agent()"
   ]
  },
  {
   "cell_type": "code",
   "execution_count": 25,
   "id": "b0116b34-24ac-4140-9c35-9a2ce02eb710",
   "metadata": {},
   "outputs": [],
   "source": [
    "SCHEMA_MAPPER = IntentBasedExtractionSchemaMapper()"
   ]
  },
  {
   "cell_type": "code",
   "execution_count": 26,
   "id": "ee729b3b-3a75-4a27-ac8d-7d0a05d7717a",
   "metadata": {},
   "outputs": [
    {
     "data": {
      "text/plain": [
       "typing.List[akd.structures.SingleEstimation]"
      ]
     },
     "execution_count": 26,
     "metadata": {},
     "output_type": "execute_result"
    }
   ],
   "source": [
    "await SCHEMA_MAPPER.arun(Intent.ESTIMATION)"
   ]
  },
  {
   "cell_type": "code",
   "execution_count": 27,
   "id": "1b359658-989b-4d51-b950-33169c937e92",
   "metadata": {},
   "outputs": [],
   "source": [
    "EXTRACTION_AGENT = EstimationExtractionAgent()"
   ]
  },
  {
   "cell_type": "code",
   "execution_count": 30,
   "id": "faaa4945-7d28-4d76-aa90-8fec397cccfe",
   "metadata": {},
   "outputs": [],
   "source": [
    "# _result = EXTRACTION_AGENT.run(\n",
    "#     ExtractionInputSchema(\n",
    "#         query=\"Hello i am nishan pantha.\",\n",
    "#         content=\"I am nishan. But call me Nish. You can find me at example.com\"\n",
    "#     )\n",
    "# )"
   ]
  },
  {
   "cell_type": "code",
   "execution_count": 31,
   "id": "c6a91b47-8b6d-4b0e-92aa-ae44b1d3ec04",
   "metadata": {},
   "outputs": [],
   "source": [
    "# _result.estimations"
   ]
  },
  {
   "cell_type": "code",
   "execution_count": 32,
   "id": "ecf3fab7-516f-451a-9563-9e67dc6f1822",
   "metadata": {},
   "outputs": [
    {
     "name": "stderr",
     "output_type": "stream",
     "text": [
      "\u001b[32m2025-04-01 20:49:28.953\u001b[0m | \u001b[33m\u001b[1mWARNING \u001b[0m | \u001b[36makd.agents.litsearch\u001b[0m:\u001b[36mclear_history\u001b[0m:\u001b[36m141\u001b[0m - \u001b[33m\u001b[1mClearing history for all the agents\u001b[0m\n"
     ]
    }
   ],
   "source": [
    "lit_agent = LitAgent(\n",
    "    intent_agent=INTENT_AGENT,\n",
    "    schema_mapper=IntentBasedExtractionSchemaMapper(),\n",
    "    query_agent=QUERY_AGENT,\n",
    "    extraction_agent=EXTRACTION_AGENT,\n",
    "    search_tool=SEARCH_TOOL,\n",
    "    web_scraper=SCRAPER,\n",
    "    article_resolver=ARTICLE_RESOLVER,\n",
    ")\n",
    "lit_agent.clear_history()"
   ]
  },
  {
   "cell_type": "code",
   "execution_count": 33,
   "id": "c57684f8-7408-4c54-a47a-58da3710853f",
   "metadata": {},
   "outputs": [
    {
     "data": {
      "text/plain": [
       "<atomic_agents.lib.components.agent_memory.AgentMemory at 0x12253f230>"
      ]
     },
     "execution_count": 33,
     "metadata": {},
     "output_type": "execute_result"
    }
   ],
   "source": [
    "lit_agent.memory"
   ]
  },
  {
   "cell_type": "code",
   "execution_count": 34,
   "id": "eeab2e71-afc7-4197-a094-7f349518cd62",
   "metadata": {},
   "outputs": [],
   "source": [
    "# query = \"mangrove forest statuses in cameroon\"\n",
    "# query = \"flash flood in south east asia land cover\"\n",
    "query = \"methods and estimation to map landslides in Nepal\""
   ]
  },
  {
   "cell_type": "code",
   "execution_count": 35,
   "id": "a127870d-4a42-4b37-ba33-0d4ae176d221",
   "metadata": {
    "scrolled": true
   },
   "outputs": [
    {
     "name": "stderr",
     "output_type": "stream",
     "text": [
      "\u001b[32m2025-04-01 20:49:33.937\u001b[0m | \u001b[1mINFO    \u001b[0m | \u001b[36makd.agents.litsearch\u001b[0m:\u001b[36marun\u001b[0m:\u001b[36m83\u001b[0m - \u001b[1mAnalyzing input query to generate relevant search queries...\u001b[0m\n",
      "\u001b[32m2025-04-01 20:49:35.066\u001b[0m | \u001b[34m\u001b[1mDEBUG   \u001b[0m | \u001b[36makd.agents.litsearch\u001b[0m:\u001b[36marun\u001b[0m:\u001b[36m88\u001b[0m - \u001b[34m\u001b[1mGenerated search queries:\u001b[0m\n",
      "\u001b[32m2025-04-01 20:49:35.068\u001b[0m | \u001b[34m\u001b[1mDEBUG   \u001b[0m | \u001b[36makd.agents.litsearch\u001b[0m:\u001b[36marun\u001b[0m:\u001b[36m90\u001b[0m - \u001b[34m\u001b[1mQuery 1: methods and estimation to map landslides in Nepal\u001b[0m\n",
      "\u001b[32m2025-04-01 20:49:35.068\u001b[0m | \u001b[34m\u001b[1mDEBUG   \u001b[0m | \u001b[36makd.agents.litsearch\u001b[0m:\u001b[36marun\u001b[0m:\u001b[36m90\u001b[0m - \u001b[34m\u001b[1mQuery 2: methods for mapping landslides in Nepal\u001b[0m\n",
      "\u001b[32m2025-04-01 20:49:35.069\u001b[0m | \u001b[34m\u001b[1mDEBUG   \u001b[0m | \u001b[36makd.agents.litsearch\u001b[0m:\u001b[36marun\u001b[0m:\u001b[36m90\u001b[0m - \u001b[34m\u001b[1mQuery 3: landslide estimation techniques Nepal\u001b[0m\n",
      "\u001b[32m2025-04-01 20:49:35.070\u001b[0m | \u001b[34m\u001b[1mDEBUG   \u001b[0m | \u001b[36makd.agents.litsearch\u001b[0m:\u001b[36marun\u001b[0m:\u001b[36m90\u001b[0m - \u001b[34m\u001b[1mQuery 4: remote sensing landslide mapping Nepal\u001b[0m\n",
      "\u001b[32m2025-04-01 20:49:35.071\u001b[0m | \u001b[1mINFO    \u001b[0m | \u001b[36makd.agents.litsearch\u001b[0m:\u001b[36marun\u001b[0m:\u001b[36m93\u001b[0m - \u001b[1mSearching across the web using SearxNG...\u001b[0m\n",
      "\u001b[32m2025-04-01 20:49:40.104\u001b[0m | \u001b[34m\u001b[1mDEBUG   \u001b[0m | \u001b[36makd.tools.search\u001b[0m:\u001b[36marun\u001b[0m:\u001b[36m259\u001b[0m - \u001b[34m\u001b[1m[{'template': 'paper.html', 'type': 'html', 'url': 'https://idp.springer.com/authorize/casa?redirect_uri=https://link.springer.com/article/10.1007/s12665-021-09650-2&casa_token=H7T6_At-PnYAAAAA:WVHQdzme1Mai1_VW1CJ5grwxbwuy9McmgOuCEq0B8OUyFFUPKiTTMNSPld6vvQa905gOH1Wbhp-BBFk', 'title': 'Landslide susceptibility mapping with GIS in high mountain area of Nepal: a comparison of four methods - (Published 2021-01-01T00:00:00)', 'authors': ['P Gautam', 'T Kubota', 'LM Sapkota…'], 'publisher': 'Springer', 'journal': 'Environmental Earth …', 'publishedDate': '2021-01-01T00:00:00', 'content': '… approach to be the second-best method… approach for susceptibility mapping in high mountainous region of Hindu-Kush Himalaya. The findings of this study might be useful for landslide …', 'comments': '', 'html_url': 'https://idp.springer.com/authorize/casa?redirect_uri=https://link.springer.com/article/10.1007/s12665-021-09650-2&casa_token=H7T6_At-PnYAAAAA:WVHQdzme1Mai1_VW1CJ5grwxbwuy9McmgOuCEq0B8OUyFFUPKiTTMNSPld6vvQa905gOH1Wbhp-BBFk', 'pdf_url': None, 'engine': 'google scholar', 'parsed_url': ['https', 'idp.springer.com', '/authorize/casa', '', 'redirect_uri=https://link.springer.com/article/10.1007/s12665-021-09650-2&casa_token=H7T6_At-PnYAAAAA:WVHQdzme1Mai1_VW1CJ5grwxbwuy9McmgOuCEq0B8OUyFFUPKiTTMNSPld6vvQa905gOH1Wbhp-BBFk', ''], 'engines': ['google scholar'], 'positions': [1], 'score': 1.0, 'category': 'science', 'query': 'methods and estimation to map landslides in Nepal'}, {'url': 'https://www.bib.irb.hr/1067869', 'title': 'Systematic updates of the agglutinated foraminiferal genus Colominella Popescu, 1998: insights from sectioned specimens', 'content': 'Abstract The occurrence of agglutinated foraminiferal specimens belonging to the Badenian (middle Miocene) genus Colominella Popescu, 1998 was recently documented for the first time in a lower Pliocene succession of the western Mediterranean area. Direct comparisons with topotype specimens of Colominella paalzowi (Cushman 1936), sampled in the Badenian type section of Lăpugiu de Sus (Transylvania), show that the Pliocene individuals from the western Mediterranean morphologically resemble the type species C. paalzowi, but they also differ in possessing a longer biserial chamber arrangement with a higher number of internal chamber partitions, in lacking a clear early triserial stage and in having a more complex microstructure of the agglutinated wall, thereby supporting the idea that the Pliocene Mediterranean specimens represent a new, more highly evolved species. The fact that the Pliocene individuals from the Mediterranean appear to be more evolved with respect to the Badenian specimens from Paratethys represents an interesting evolutionary development of the genus Colominella that also permits the known stratigraphical and geographical range of the genus, previously limited to the middle Miocene (Badenian) of the Paratethys, to be extended.', 'engine': 'openairepublications', 'template': 'default.html', 'parsed_url': ['https', 'www.bib.irb.hr', '/1067869', '', '', ''], 'engines': ['openairepublications'], 'positions': [1], 'score': 1.0, 'category': 'science', 'query': 'methods and estimation to map landslides in Nepal'}, {'template': 'paper.html', 'type': 'html', 'url': 'https://idp.springer.com/authorize/casa?redirect_uri=https://link.springer.com/article/10.1007/s12665-021-09650-2&casa_token=Vaedhacc1N0AAAAA:E9_Iu-vHdMlj3qUaLywbffcp8GEm1xX0Ukrjc_qIdP4D9KBRgtLKDPbMSdz9eR8j5z0iFlQeQDbuFy0', 'title': 'Landslide susceptibility mapping with GIS in high mountain area of Nepal: a comparison of four methods - (Published 2021-01-01T00:00:00)', 'authors': ['P Gautam', 'T Kubota', 'LM Sapkota…'], 'publisher': 'Springer', 'journal': 'Environmental Earth …', 'publishedDate': '2021-01-01T00:00:00', 'content': '… Indrawati Watershed in Nepal to find the best suited method for LSM in high mountainous regions. Landslides together with floods during monsoon are a major hazard in Nepal and are …', 'comments': '', 'html_url': 'https://idp.springer.com/authorize/casa?redirect_uri=https://link.springer.com/article/10.1007/s12665-021-09650-2&casa_token=Vaedhacc1N0AAAAA:E9_Iu-vHdMlj3qUaLywbffcp8GEm1xX0Ukrjc_qIdP4D9KBRgtLKDPbMSdz9eR8j5z0iFlQeQDbuFy0', 'pdf_url': None, 'engine': 'google scholar', 'parsed_url': ['https', 'idp.springer.com', '/authorize/casa', '', 'redirect_uri=https://link.springer.com/article/10.1007/s12665-021-09650-2&casa_token=Vaedhacc1N0AAAAA:E9_Iu-vHdMlj3qUaLywbffcp8GEm1xX0Ukrjc_qIdP4D9KBRgtLKDPbMSdz9eR8j5z0iFlQeQDbuFy0', ''], 'engines': ['google scholar'], 'positions': [1], 'score': 1.0, 'category': 'science', 'query': 'methods for mapping landslides in Nepal'}, {'url': 'https://hdl.handle.net/20.500.14017/8df80ddb-1fa4-4abd-929e-79249a9b579a', 'title': 'Landslide susceptibility mapping using the weight of evidence method in the Tinau watershed, Nepal', 'content': 'Mountainous areas in Nepal are prone to landslides, resulting in an enormous loss of life and property every year. As a first step towards mitigating or controlling such problems, it is necessary to prepare landslide susceptibility maps. Various methodologies have been proposed for landslide susceptibility mapping. This study applies the weight of evidence method to the Tinau watershed in west Nepal. A landslide susceptibility map is prepared on the basis of field observations and available data of geology, land use, topography and hydrology. Predicted susceptibility levels are found to be in good agreement with the locations of past landslides. The results show that about 30 % of the area is highly susceptible to landsliding. The present results provide useful information to the authorities concerning the landslide susceptibility zones and possible improvements for disaster management activities and sustainable development.', 'engine': 'openairepublications', 'template': 'default.html', 'parsed_url': ['https', 'hdl.handle.net', '/20.500.14017/8df80ddb-1fa4-4abd-929e-79249a9b579a', '', '', ''], 'engines': ['openairepublications'], 'positions': [1], 'score': 1.0, 'category': 'science', 'query': 'methods for mapping landslides in Nepal'}, {'template': 'paper.html', 'type': 'html', 'url': 'https://idp.springer.com/authorize/casa?redirect_uri=https://link.springer.com/article/10.1007/s12665-021-09650-2&casa_token=KyT2vJyOo1MAAAAA:edXp_J36TuFD_zii4p_L2xrTIgN25ty01l0AMHaXCvN4QSRv46JzXS9Al6m0W-TT3MiutGFvxIkYFhE', 'title': 'Landslide susceptibility mapping with GIS in high mountain area of Nepal: a comparison of four methods - (Published 2021-01-01T00:00:00)', 'authors': ['P Gautam', 'T Kubota', 'LM Sapkota…'], 'publisher': 'Springer', 'journal': 'Environmental Earth …', 'publishedDate': '2021-01-01T00:00:00', 'content': '… difficult to identify the landslides in Google Earth based satellite imageries. The focus of this study is on rainfall-induced landslides to be specific as most of the landslide occurs in the …', 'comments': '', 'html_url': 'https://idp.springer.com/authorize/casa?redirect_uri=https://link.springer.com/article/10.1007/s12665-021-09650-2&casa_token=KyT2vJyOo1MAAAAA:edXp_J36TuFD_zii4p_L2xrTIgN25ty01l0AMHaXCvN4QSRv46JzXS9Al6m0W-TT3MiutGFvxIkYFhE', 'pdf_url': None, 'engine': 'google scholar', 'parsed_url': ['https', 'idp.springer.com', '/authorize/casa', '', 'redirect_uri=https://link.springer.com/article/10.1007/s12665-021-09650-2&casa_token=KyT2vJyOo1MAAAAA:edXp_J36TuFD_zii4p_L2xrTIgN25ty01l0AMHaXCvN4QSRv46JzXS9Al6m0W-TT3MiutGFvxIkYFhE', ''], 'engines': ['google scholar'], 'positions': [1], 'score': 1.0, 'category': 'science', 'query': 'landslide estimation techniques Nepal'}]\u001b[0m\n",
      "\u001b[32m2025-04-01 20:49:40.106\u001b[0m | \u001b[1mINFO    \u001b[0m | \u001b[36makd.agents.litsearch\u001b[0m:\u001b[36marun\u001b[0m:\u001b[36m102\u001b[0m - \u001b[1mFound 5 relevant web pages:\u001b[0m\n",
      "\u001b[32m2025-04-01 20:49:40.107\u001b[0m | \u001b[34m\u001b[1mDEBUG   \u001b[0m | \u001b[36makd.agents.litsearch\u001b[0m:\u001b[36marun\u001b[0m:\u001b[36m105\u001b[0m - \u001b[34m\u001b[1mResult 1 : Scraping the url https://idp.springer.com/authorize/casa?redirect_uri=https://link.springer.com/article/10.1007/s12665-021-09650-2&casa_token=H7T6_At-PnYAAAAA:WVHQdzme1Mai1_VW1CJ5grwxbwuy9McmgOuCEq0B8OUyFFUPKiTTMNSPld6vvQa905gOH1Wbhp-BBFk\u001b[0m\n",
      "\u001b[32m2025-04-01 20:49:40.107\u001b[0m | \u001b[34m\u001b[1mDEBUG   \u001b[0m | \u001b[36makd.tools.scrapers.composite\u001b[0m:\u001b[36mresolve\u001b[0m:\u001b[36m69\u001b[0m - \u001b[34m\u001b[1mUsing resolver=ArxivResolver for url=https://idp.springer.com/authorize/casa?redirect_uri=https://link.springer.com/article/10.1007/s12665-021-09650-2&casa_token=H7T6_At-PnYAAAAA:WVHQdzme1Mai1_VW1CJ5grwxbwuy9McmgOuCEq0B8OUyFFUPKiTTMNSPld6vvQa905gOH1Wbhp-BBFk\u001b[0m\n",
      "\u001b[32m2025-04-01 20:49:40.108\u001b[0m | \u001b[31m\u001b[1mERROR   \u001b[0m | \u001b[36makd.tools.scrapers.composite\u001b[0m:\u001b[36mresolve\u001b[0m:\u001b[36m76\u001b[0m - \u001b[31m\u001b[1mError using resolver=ArxivResolver\u001b[0m\n",
      "\u001b[32m2025-04-01 20:49:40.109\u001b[0m | \u001b[34m\u001b[1mDEBUG   \u001b[0m | \u001b[36makd.tools.scrapers.composite\u001b[0m:\u001b[36mresolve\u001b[0m:\u001b[36m69\u001b[0m - \u001b[34m\u001b[1mUsing resolver=ADSResolver for url=https://idp.springer.com/authorize/casa?redirect_uri=https://link.springer.com/article/10.1007/s12665-021-09650-2&casa_token=H7T6_At-PnYAAAAA:WVHQdzme1Mai1_VW1CJ5grwxbwuy9McmgOuCEq0B8OUyFFUPKiTTMNSPld6vvQa905gOH1Wbhp-BBFk\u001b[0m\n",
      "\u001b[32m2025-04-01 20:49:40.109\u001b[0m | \u001b[31m\u001b[1mERROR   \u001b[0m | \u001b[36makd.tools.scrapers.composite\u001b[0m:\u001b[36mresolve\u001b[0m:\u001b[36m76\u001b[0m - \u001b[31m\u001b[1mError using resolver=ADSResolver\u001b[0m\n",
      "\u001b[32m2025-04-01 20:49:40.110\u001b[0m | \u001b[34m\u001b[1mDEBUG   \u001b[0m | \u001b[36makd.tools.scrapers.composite\u001b[0m:\u001b[36mresolve\u001b[0m:\u001b[36m69\u001b[0m - \u001b[34m\u001b[1mUsing resolver=IdentityResolver for url=https://idp.springer.com/authorize/casa?redirect_uri=https://link.springer.com/article/10.1007/s12665-021-09650-2&casa_token=H7T6_At-PnYAAAAA:WVHQdzme1Mai1_VW1CJ5grwxbwuy9McmgOuCEq0B8OUyFFUPKiTTMNSPld6vvQa905gOH1Wbhp-BBFk\u001b[0m\n",
      "\u001b[32m2025-04-01 20:49:40.111\u001b[0m | \u001b[31m\u001b[1mERROR   \u001b[0m | \u001b[36makd.tools.scrapers.composite\u001b[0m:\u001b[36mresolve\u001b[0m:\u001b[36m76\u001b[0m - \u001b[31m\u001b[1mError using resolver=IdentityResolver\u001b[0m\n",
      "\u001b[32m2025-04-01 20:49:40.114\u001b[0m | \u001b[34m\u001b[1mDEBUG   \u001b[0m | \u001b[36makd.tools.scrapers.composite\u001b[0m:\u001b[36marun\u001b[0m:\u001b[36m39\u001b[0m - \u001b[34m\u001b[1mRunning scraper=SimpleWebScraper for {\"url\":\"https://idp.springer.com/authorize/casa?redirect_uri=https://link.springer.com/article/10.1007/s12665-021-09650-2&casa_token=H7T6_At-PnYAAAAA:WVHQdzme1Mai1_VW1CJ5grwxbwuy9McmgOuCEq0B8OUyFFUPKiTTMNSPld6vvQa905gOH1Wbhp-BBFk\",\"include_links\":true}\u001b[0m\n",
      "\u001b[32m2025-04-01 20:49:41.581\u001b[0m | \u001b[34m\u001b[1mDEBUG   \u001b[0m | \u001b[36makd.agents.litsearch\u001b[0m:\u001b[36marun\u001b[0m:\u001b[36m122\u001b[0m - \u001b[34m\u001b[1mResult 1: Landslide susceptibility mapping with GIS in high mountain area of Nepal: a comparison of four methods - (Published 2021-01-01T00:00:00) | https://idp.springer.com/authorize/casa?redirect_uri=https://link.springer.com/article/10.1007/s12665-021-09650-2&casa_token=H7T6_At-PnYAAAAA:WVHQdzme1Mai1_VW1CJ5grwxbwuy9McmgOuCEq0B8OUyFFUPKiTTMNSPld6vvQa905gOH1Wbhp-BBFk | Landslide susceptibility mapping with GIS in high mountain area of Nepal: a comparison of four metho.. | words=17802\u001b[0m\n",
      "\u001b[32m2025-04-01 20:49:41.582\u001b[0m | \u001b[34m\u001b[1mDEBUG   \u001b[0m | \u001b[36makd.agents.litsearch\u001b[0m:\u001b[36marun\u001b[0m:\u001b[36m105\u001b[0m - \u001b[34m\u001b[1mResult 2 : Scraping the url https://www.bib.irb.hr/1067869\u001b[0m\n",
      "\u001b[32m2025-04-01 20:49:41.582\u001b[0m | \u001b[34m\u001b[1mDEBUG   \u001b[0m | \u001b[36makd.tools.scrapers.composite\u001b[0m:\u001b[36mresolve\u001b[0m:\u001b[36m69\u001b[0m - \u001b[34m\u001b[1mUsing resolver=ArxivResolver for url=https://www.bib.irb.hr/1067869\u001b[0m\n",
      "\u001b[32m2025-04-01 20:49:41.582\u001b[0m | \u001b[31m\u001b[1mERROR   \u001b[0m | \u001b[36makd.tools.scrapers.composite\u001b[0m:\u001b[36mresolve\u001b[0m:\u001b[36m76\u001b[0m - \u001b[31m\u001b[1mError using resolver=ArxivResolver\u001b[0m\n",
      "\u001b[32m2025-04-01 20:49:41.582\u001b[0m | \u001b[34m\u001b[1mDEBUG   \u001b[0m | \u001b[36makd.tools.scrapers.composite\u001b[0m:\u001b[36mresolve\u001b[0m:\u001b[36m69\u001b[0m - \u001b[34m\u001b[1mUsing resolver=ADSResolver for url=https://www.bib.irb.hr/1067869\u001b[0m\n",
      "\u001b[32m2025-04-01 20:49:41.582\u001b[0m | \u001b[31m\u001b[1mERROR   \u001b[0m | \u001b[36makd.tools.scrapers.composite\u001b[0m:\u001b[36mresolve\u001b[0m:\u001b[36m76\u001b[0m - \u001b[31m\u001b[1mError using resolver=ADSResolver\u001b[0m\n",
      "\u001b[32m2025-04-01 20:49:41.582\u001b[0m | \u001b[34m\u001b[1mDEBUG   \u001b[0m | \u001b[36makd.tools.scrapers.composite\u001b[0m:\u001b[36mresolve\u001b[0m:\u001b[36m69\u001b[0m - \u001b[34m\u001b[1mUsing resolver=IdentityResolver for url=https://www.bib.irb.hr/1067869\u001b[0m\n",
      "\u001b[32m2025-04-01 20:49:41.583\u001b[0m | \u001b[31m\u001b[1mERROR   \u001b[0m | \u001b[36makd.tools.scrapers.composite\u001b[0m:\u001b[36mresolve\u001b[0m:\u001b[36m76\u001b[0m - \u001b[31m\u001b[1mError using resolver=IdentityResolver\u001b[0m\n",
      "\u001b[32m2025-04-01 20:49:41.583\u001b[0m | \u001b[34m\u001b[1mDEBUG   \u001b[0m | \u001b[36makd.tools.scrapers.composite\u001b[0m:\u001b[36marun\u001b[0m:\u001b[36m39\u001b[0m - \u001b[34m\u001b[1mRunning scraper=SimpleWebScraper for {\"url\":\"https://www.bib.irb.hr/1067869\",\"include_links\":true}\u001b[0m\n",
      "\u001b[32m2025-04-01 20:49:43.319\u001b[0m | \u001b[34m\u001b[1mDEBUG   \u001b[0m | \u001b[36makd.agents.litsearch\u001b[0m:\u001b[36marun\u001b[0m:\u001b[36m122\u001b[0m - \u001b[34m\u001b[1mResult 2: Systematic updates of the agglutinated foraminiferal genus Colominella Popescu, 1998: insights from sectioned specimens | https://www.bib.irb.hr/1067869 | 1. [Publikacije](/crosbi/publikacija/vrsta)\n",
      "2. [Exceedance probability of some arsenic threshold val.. | words=688\u001b[0m\n",
      "\u001b[32m2025-04-01 20:49:43.320\u001b[0m | \u001b[34m\u001b[1mDEBUG   \u001b[0m | \u001b[36makd.agents.litsearch\u001b[0m:\u001b[36marun\u001b[0m:\u001b[36m105\u001b[0m - \u001b[34m\u001b[1mResult 3 : Scraping the url https://idp.springer.com/authorize/casa?redirect_uri=https://link.springer.com/article/10.1007/s12665-021-09650-2&casa_token=Vaedhacc1N0AAAAA:E9_Iu-vHdMlj3qUaLywbffcp8GEm1xX0Ukrjc_qIdP4D9KBRgtLKDPbMSdz9eR8j5z0iFlQeQDbuFy0\u001b[0m\n",
      "\u001b[32m2025-04-01 20:49:43.320\u001b[0m | \u001b[34m\u001b[1mDEBUG   \u001b[0m | \u001b[36makd.tools.scrapers.composite\u001b[0m:\u001b[36mresolve\u001b[0m:\u001b[36m69\u001b[0m - \u001b[34m\u001b[1mUsing resolver=ArxivResolver for url=https://idp.springer.com/authorize/casa?redirect_uri=https://link.springer.com/article/10.1007/s12665-021-09650-2&casa_token=Vaedhacc1N0AAAAA:E9_Iu-vHdMlj3qUaLywbffcp8GEm1xX0Ukrjc_qIdP4D9KBRgtLKDPbMSdz9eR8j5z0iFlQeQDbuFy0\u001b[0m\n",
      "\u001b[32m2025-04-01 20:49:43.320\u001b[0m | \u001b[31m\u001b[1mERROR   \u001b[0m | \u001b[36makd.tools.scrapers.composite\u001b[0m:\u001b[36mresolve\u001b[0m:\u001b[36m76\u001b[0m - \u001b[31m\u001b[1mError using resolver=ArxivResolver\u001b[0m\n",
      "\u001b[32m2025-04-01 20:49:43.321\u001b[0m | \u001b[34m\u001b[1mDEBUG   \u001b[0m | \u001b[36makd.tools.scrapers.composite\u001b[0m:\u001b[36mresolve\u001b[0m:\u001b[36m69\u001b[0m - \u001b[34m\u001b[1mUsing resolver=ADSResolver for url=https://idp.springer.com/authorize/casa?redirect_uri=https://link.springer.com/article/10.1007/s12665-021-09650-2&casa_token=Vaedhacc1N0AAAAA:E9_Iu-vHdMlj3qUaLywbffcp8GEm1xX0Ukrjc_qIdP4D9KBRgtLKDPbMSdz9eR8j5z0iFlQeQDbuFy0\u001b[0m\n",
      "\u001b[32m2025-04-01 20:49:43.321\u001b[0m | \u001b[31m\u001b[1mERROR   \u001b[0m | \u001b[36makd.tools.scrapers.composite\u001b[0m:\u001b[36mresolve\u001b[0m:\u001b[36m76\u001b[0m - \u001b[31m\u001b[1mError using resolver=ADSResolver\u001b[0m\n",
      "\u001b[32m2025-04-01 20:49:43.321\u001b[0m | \u001b[34m\u001b[1mDEBUG   \u001b[0m | \u001b[36makd.tools.scrapers.composite\u001b[0m:\u001b[36mresolve\u001b[0m:\u001b[36m69\u001b[0m - \u001b[34m\u001b[1mUsing resolver=IdentityResolver for url=https://idp.springer.com/authorize/casa?redirect_uri=https://link.springer.com/article/10.1007/s12665-021-09650-2&casa_token=Vaedhacc1N0AAAAA:E9_Iu-vHdMlj3qUaLywbffcp8GEm1xX0Ukrjc_qIdP4D9KBRgtLKDPbMSdz9eR8j5z0iFlQeQDbuFy0\u001b[0m\n",
      "\u001b[32m2025-04-01 20:49:43.321\u001b[0m | \u001b[31m\u001b[1mERROR   \u001b[0m | \u001b[36makd.tools.scrapers.composite\u001b[0m:\u001b[36mresolve\u001b[0m:\u001b[36m76\u001b[0m - \u001b[31m\u001b[1mError using resolver=IdentityResolver\u001b[0m\n",
      "\u001b[32m2025-04-01 20:49:43.322\u001b[0m | \u001b[34m\u001b[1mDEBUG   \u001b[0m | \u001b[36makd.tools.scrapers.composite\u001b[0m:\u001b[36marun\u001b[0m:\u001b[36m39\u001b[0m - \u001b[34m\u001b[1mRunning scraper=SimpleWebScraper for {\"url\":\"https://idp.springer.com/authorize/casa?redirect_uri=https://link.springer.com/article/10.1007/s12665-021-09650-2&casa_token=Vaedhacc1N0AAAAA:E9_Iu-vHdMlj3qUaLywbffcp8GEm1xX0Ukrjc_qIdP4D9KBRgtLKDPbMSdz9eR8j5z0iFlQeQDbuFy0\",\"include_links\":true}\u001b[0m\n",
      "\u001b[32m2025-04-01 20:49:44.875\u001b[0m | \u001b[34m\u001b[1mDEBUG   \u001b[0m | \u001b[36makd.agents.litsearch\u001b[0m:\u001b[36marun\u001b[0m:\u001b[36m122\u001b[0m - \u001b[34m\u001b[1mResult 3: Landslide susceptibility mapping with GIS in high mountain area of Nepal: a comparison of four methods - (Published 2021-01-01T00:00:00) | https://idp.springer.com/authorize/casa?redirect_uri=https://link.springer.com/article/10.1007/s12665-021-09650-2&casa_token=Vaedhacc1N0AAAAA:E9_Iu-vHdMlj3qUaLywbffcp8GEm1xX0Ukrjc_qIdP4D9KBRgtLKDPbMSdz9eR8j5z0iFlQeQDbuFy0 | Landslide susceptibility mapping with GIS in high mountain area of Nepal: a comparison of four metho.. | words=17802\u001b[0m\n",
      "\u001b[32m2025-04-01 20:49:44.875\u001b[0m | \u001b[34m\u001b[1mDEBUG   \u001b[0m | \u001b[36makd.agents.litsearch\u001b[0m:\u001b[36marun\u001b[0m:\u001b[36m105\u001b[0m - \u001b[34m\u001b[1mResult 4 : Scraping the url https://hdl.handle.net/20.500.14017/8df80ddb-1fa4-4abd-929e-79249a9b579a\u001b[0m\n",
      "\u001b[32m2025-04-01 20:49:44.875\u001b[0m | \u001b[34m\u001b[1mDEBUG   \u001b[0m | \u001b[36makd.tools.scrapers.composite\u001b[0m:\u001b[36mresolve\u001b[0m:\u001b[36m69\u001b[0m - \u001b[34m\u001b[1mUsing resolver=ArxivResolver for url=https://hdl.handle.net/20.500.14017/8df80ddb-1fa4-4abd-929e-79249a9b579a\u001b[0m\n",
      "\u001b[32m2025-04-01 20:49:44.876\u001b[0m | \u001b[31m\u001b[1mERROR   \u001b[0m | \u001b[36makd.tools.scrapers.composite\u001b[0m:\u001b[36mresolve\u001b[0m:\u001b[36m76\u001b[0m - \u001b[31m\u001b[1mError using resolver=ArxivResolver\u001b[0m\n",
      "\u001b[32m2025-04-01 20:49:44.876\u001b[0m | \u001b[34m\u001b[1mDEBUG   \u001b[0m | \u001b[36makd.tools.scrapers.composite\u001b[0m:\u001b[36mresolve\u001b[0m:\u001b[36m69\u001b[0m - \u001b[34m\u001b[1mUsing resolver=ADSResolver for url=https://hdl.handle.net/20.500.14017/8df80ddb-1fa4-4abd-929e-79249a9b579a\u001b[0m\n",
      "\u001b[32m2025-04-01 20:49:44.876\u001b[0m | \u001b[31m\u001b[1mERROR   \u001b[0m | \u001b[36makd.tools.scrapers.composite\u001b[0m:\u001b[36mresolve\u001b[0m:\u001b[36m76\u001b[0m - \u001b[31m\u001b[1mError using resolver=ADSResolver\u001b[0m\n",
      "\u001b[32m2025-04-01 20:49:44.876\u001b[0m | \u001b[34m\u001b[1mDEBUG   \u001b[0m | \u001b[36makd.tools.scrapers.composite\u001b[0m:\u001b[36mresolve\u001b[0m:\u001b[36m69\u001b[0m - \u001b[34m\u001b[1mUsing resolver=IdentityResolver for url=https://hdl.handle.net/20.500.14017/8df80ddb-1fa4-4abd-929e-79249a9b579a\u001b[0m\n",
      "\u001b[32m2025-04-01 20:49:44.876\u001b[0m | \u001b[31m\u001b[1mERROR   \u001b[0m | \u001b[36makd.tools.scrapers.composite\u001b[0m:\u001b[36mresolve\u001b[0m:\u001b[36m76\u001b[0m - \u001b[31m\u001b[1mError using resolver=IdentityResolver\u001b[0m\n",
      "\u001b[32m2025-04-01 20:49:44.876\u001b[0m | \u001b[34m\u001b[1mDEBUG   \u001b[0m | \u001b[36makd.tools.scrapers.composite\u001b[0m:\u001b[36marun\u001b[0m:\u001b[36m39\u001b[0m - \u001b[34m\u001b[1mRunning scraper=SimpleWebScraper for {\"url\":\"https://hdl.handle.net/20.500.14017/8df80ddb-1fa4-4abd-929e-79249a9b579a\",\"include_links\":true}\u001b[0m\n",
      "\u001b[32m2025-04-01 20:49:49.740\u001b[0m | \u001b[31m\u001b[1mERROR   \u001b[0m | \u001b[36makd.tools.scrapers.composite\u001b[0m:\u001b[36marun\u001b[0m:\u001b[36m48\u001b[0m - \u001b[31m\u001b[1mError running SimpleWebScraper\n",
      "HTTP error occurred: 403 Client Error: Forbidden for url: https://researchportal.vub.be/en/publications/landslide-susceptibility-mapping-using-the-weight-of-evidence-method-in-the-tinau-watershed-nepal(8df80ddb-1fa4-4abd-929e-79249a9b579a).html\u001b[0m\n",
      "\u001b[32m2025-04-01 20:49:49.743\u001b[0m | \u001b[34m\u001b[1mDEBUG   \u001b[0m | \u001b[36makd.tools.scrapers.composite\u001b[0m:\u001b[36marun\u001b[0m:\u001b[36m39\u001b[0m - \u001b[34m\u001b[1mRunning scraper=Crawl4AIWebScraper for {\"url\":\"https://hdl.handle.net/20.500.14017/8df80ddb-1fa4-4abd-929e-79249a9b579a\",\"include_links\":true}\u001b[0m\n"
     ]
    },
    {
     "name": "stdout",
     "output_type": "stream",
     "text": [
      "[INIT].... → Crawl4AI 0.5.0.post4\n",
      "[FETCH]... ↓ https://hdl.handle.net/20.500.14017/8df80ddb-1fa4-... | Status: True | Time: 4.81s\n",
      "[SCRAPE].. ◆ https://hdl.handle.net/20.500.14017/8df80ddb-1fa4-... | Time: 0.013s\n",
      "[COMPLETE] ● https://hdl.handle.net/20.500.14017/8df80ddb-1fa4-... | Status: True | Total: 4.83s\n"
     ]
    },
    {
     "name": "stderr",
     "output_type": "stream",
     "text": [
      "/Users/npantha/dev/impact/projects/accelerated-discovery/.venv/lib/python3.12/site-packages/bs4/builder/__init__.py:409: RuntimeWarning: coroutine 'AsyncInstructor.create' was never awaited\n",
      "  universal: Set[str] = self.cdata_list_attributes.get(\"*\", set())\n",
      "RuntimeWarning: Enable tracemalloc to get the object allocation traceback\n",
      "\u001b[32m2025-04-01 20:49:55.708\u001b[0m | \u001b[34m\u001b[1mDEBUG   \u001b[0m | \u001b[36makd.agents.litsearch\u001b[0m:\u001b[36marun\u001b[0m:\u001b[36m122\u001b[0m - \u001b[34m\u001b[1mResult 4: Landslide susceptibility mapping using the weight of evidence method in the Tinau watershed, Nepal | https://hdl.handle.net/20.500.14017/8df80ddb-1fa4-4abd-929e-79249a9b579a |   * [Skip to main navigation](https://hdl.handle.net/20.500.14017/8df80ddb-1fa4-4abd-929e-79249a9b57.. | words=1265\u001b[0m\n",
      "\u001b[32m2025-04-01 20:49:55.709\u001b[0m | \u001b[34m\u001b[1mDEBUG   \u001b[0m | \u001b[36makd.agents.litsearch\u001b[0m:\u001b[36marun\u001b[0m:\u001b[36m105\u001b[0m - \u001b[34m\u001b[1mResult 5 : Scraping the url https://idp.springer.com/authorize/casa?redirect_uri=https://link.springer.com/article/10.1007/s12665-021-09650-2&casa_token=KyT2vJyOo1MAAAAA:edXp_J36TuFD_zii4p_L2xrTIgN25ty01l0AMHaXCvN4QSRv46JzXS9Al6m0W-TT3MiutGFvxIkYFhE\u001b[0m\n",
      "\u001b[32m2025-04-01 20:49:55.709\u001b[0m | \u001b[34m\u001b[1mDEBUG   \u001b[0m | \u001b[36makd.tools.scrapers.composite\u001b[0m:\u001b[36mresolve\u001b[0m:\u001b[36m69\u001b[0m - \u001b[34m\u001b[1mUsing resolver=ArxivResolver for url=https://idp.springer.com/authorize/casa?redirect_uri=https://link.springer.com/article/10.1007/s12665-021-09650-2&casa_token=KyT2vJyOo1MAAAAA:edXp_J36TuFD_zii4p_L2xrTIgN25ty01l0AMHaXCvN4QSRv46JzXS9Al6m0W-TT3MiutGFvxIkYFhE\u001b[0m\n",
      "\u001b[32m2025-04-01 20:49:55.709\u001b[0m | \u001b[31m\u001b[1mERROR   \u001b[0m | \u001b[36makd.tools.scrapers.composite\u001b[0m:\u001b[36mresolve\u001b[0m:\u001b[36m76\u001b[0m - \u001b[31m\u001b[1mError using resolver=ArxivResolver\u001b[0m\n",
      "\u001b[32m2025-04-01 20:49:55.709\u001b[0m | \u001b[34m\u001b[1mDEBUG   \u001b[0m | \u001b[36makd.tools.scrapers.composite\u001b[0m:\u001b[36mresolve\u001b[0m:\u001b[36m69\u001b[0m - \u001b[34m\u001b[1mUsing resolver=ADSResolver for url=https://idp.springer.com/authorize/casa?redirect_uri=https://link.springer.com/article/10.1007/s12665-021-09650-2&casa_token=KyT2vJyOo1MAAAAA:edXp_J36TuFD_zii4p_L2xrTIgN25ty01l0AMHaXCvN4QSRv46JzXS9Al6m0W-TT3MiutGFvxIkYFhE\u001b[0m\n",
      "\u001b[32m2025-04-01 20:49:55.709\u001b[0m | \u001b[31m\u001b[1mERROR   \u001b[0m | \u001b[36makd.tools.scrapers.composite\u001b[0m:\u001b[36mresolve\u001b[0m:\u001b[36m76\u001b[0m - \u001b[31m\u001b[1mError using resolver=ADSResolver\u001b[0m\n",
      "\u001b[32m2025-04-01 20:49:55.710\u001b[0m | \u001b[34m\u001b[1mDEBUG   \u001b[0m | \u001b[36makd.tools.scrapers.composite\u001b[0m:\u001b[36mresolve\u001b[0m:\u001b[36m69\u001b[0m - \u001b[34m\u001b[1mUsing resolver=IdentityResolver for url=https://idp.springer.com/authorize/casa?redirect_uri=https://link.springer.com/article/10.1007/s12665-021-09650-2&casa_token=KyT2vJyOo1MAAAAA:edXp_J36TuFD_zii4p_L2xrTIgN25ty01l0AMHaXCvN4QSRv46JzXS9Al6m0W-TT3MiutGFvxIkYFhE\u001b[0m\n",
      "\u001b[32m2025-04-01 20:49:55.710\u001b[0m | \u001b[31m\u001b[1mERROR   \u001b[0m | \u001b[36makd.tools.scrapers.composite\u001b[0m:\u001b[36mresolve\u001b[0m:\u001b[36m76\u001b[0m - \u001b[31m\u001b[1mError using resolver=IdentityResolver\u001b[0m\n",
      "\u001b[32m2025-04-01 20:49:55.710\u001b[0m | \u001b[34m\u001b[1mDEBUG   \u001b[0m | \u001b[36makd.tools.scrapers.composite\u001b[0m:\u001b[36marun\u001b[0m:\u001b[36m39\u001b[0m - \u001b[34m\u001b[1mRunning scraper=SimpleWebScraper for {\"url\":\"https://idp.springer.com/authorize/casa?redirect_uri=https://link.springer.com/article/10.1007/s12665-021-09650-2&casa_token=KyT2vJyOo1MAAAAA:edXp_J36TuFD_zii4p_L2xrTIgN25ty01l0AMHaXCvN4QSRv46JzXS9Al6m0W-TT3MiutGFvxIkYFhE\",\"include_links\":true}\u001b[0m\n",
      "\u001b[32m2025-04-01 20:49:57.223\u001b[0m | \u001b[34m\u001b[1mDEBUG   \u001b[0m | \u001b[36makd.agents.litsearch\u001b[0m:\u001b[36marun\u001b[0m:\u001b[36m122\u001b[0m - \u001b[34m\u001b[1mResult 5: Landslide susceptibility mapping with GIS in high mountain area of Nepal: a comparison of four methods - (Published 2021-01-01T00:00:00) | https://idp.springer.com/authorize/casa?redirect_uri=https://link.springer.com/article/10.1007/s12665-021-09650-2&casa_token=KyT2vJyOo1MAAAAA:edXp_J36TuFD_zii4p_L2xrTIgN25ty01l0AMHaXCvN4QSRv46JzXS9Al6m0W-TT3MiutGFvxIkYFhE | Landslide susceptibility mapping with GIS in high mountain area of Nepal: a comparison of four metho.. | words=17802\u001b[0m\n",
      "\u001b[32m2025-04-01 20:50:16.738\u001b[0m | \u001b[34m\u001b[1mDEBUG   \u001b[0m | \u001b[36makd.agents.litsearch\u001b[0m:\u001b[36marun\u001b[0m:\u001b[36m134\u001b[0m - \u001b[34m\u001b[1mSource=https://idp.springer.com/authorize/casa?redirect_uri=https://link.springer.com/article/10.1007/s12665-021-09650-2&casa_token=H7T6_At-PnYAAAAA:WVHQdzme1Mai1_VW1CJ5grwxbwuy9McmgOuCEq0B8OUyFFUPKiTTMNSPld6vvQa905gOH1Wbhp-BBFk | Answer={\"estimations\":[{\"answer\":\"The artificial neural network approach yielded the best prediction capability with an AUC value of 86.9% for landslide susceptibility mapping in the high mountainous region of Nepal.\",\"related_knowledge\":[\"Landslide susceptibility mapping (LSM) helps identify landslide-prone areas.\",\"The study compared four methods: frequency ratio, logistic regression, artificial neural network, and support vector machine.\"],\"research_data\":{\"data_format\":\"PDF\",\"origin\":\"Landslide susceptibility mapping with GIS in high mountain area of Nepal: a comparison of four methods\",\"data_url\":\"https://doi.org/10.1007/s12665-021-09650-2\"},\"methodology\":\"The study employed four approaches for LSM: frequency ratio, logistic regression, artificial neural network, and support vector machine, using various landslide causal factors.\",\"assumptions\":[\"The conditions that led to past landslides will similarly affect future landslides.\"],\"confidence_level\":86.9,\"validation_method\":\"The models were validated using area under curve (AUC), kappa index, and statistical inferences.\"}]}\u001b[0m\n",
      "\u001b[32m2025-04-01 20:50:19.624\u001b[0m | \u001b[34m\u001b[1mDEBUG   \u001b[0m | \u001b[36makd.agents.litsearch\u001b[0m:\u001b[36marun\u001b[0m:\u001b[36m134\u001b[0m - \u001b[34m\u001b[1mSource=https://www.bib.irb.hr/1067869 | Answer={\"estimations\":[{\"answer\":\"Remote sensing techniques can be effectively used for landslide mapping in Nepal, leveraging satellite imagery and geospatial analysis to identify and monitor landslide-prone areas.\",\"related_knowledge\":[\"Remote sensing applications in landslide detection\",\"Geospatial analysis for hazard assessment in Nepal\",\"Satellite imagery for environmental monitoring\"],\"research_data\":{\"data_format\":\"HDF5\",\"origin\":\"Landsat 8\",\"data_url\":\"https://landsat.usgs.gov/\"},\"methodology\":\"Utilization of satellite imagery and geospatial analysis techniques to identify landslide occurrences and assess risk areas.\",\"assumptions\":[\"Landslides can be detected through changes in land cover and topography as observed in satellite images.\",\"Historical data on landslides can inform predictive models.\"],\"confidence_level\":85.0,\"validation_method\":\"Cross-referencing satellite data with ground truth observations and historical landslide records.\"}]}\u001b[0m\n",
      "\u001b[32m2025-04-01 20:50:36.997\u001b[0m | \u001b[34m\u001b[1mDEBUG   \u001b[0m | \u001b[36makd.agents.litsearch\u001b[0m:\u001b[36marun\u001b[0m:\u001b[36m134\u001b[0m - \u001b[34m\u001b[1mSource=https://idp.springer.com/authorize/casa?redirect_uri=https://link.springer.com/article/10.1007/s12665-021-09650-2&casa_token=Vaedhacc1N0AAAAA:E9_Iu-vHdMlj3qUaLywbffcp8GEm1xX0Ukrjc_qIdP4D9KBRgtLKDPbMSdz9eR8j5z0iFlQeQDbuFy0 | Answer={\"estimations\":[{\"answer\":\"The artificial neural network approach yielded the best prediction capability with an AUC value of 86.9% for landslide susceptibility mapping in high mountainous regions of Nepal.\",\"related_knowledge\":[\"Landslide susceptibility mapping (LSM) helps identify landslide-prone areas.\",\"The study compared four methods: frequency ratio, logistic regression, artificial neural network, and support vector machine.\"],\"research_data\":{\"data_format\":\"PDF\",\"origin\":\"Landslide susceptibility mapping study in the Indrawati watershed, Nepal\",\"data_url\":\"https://doi.org/10.1007/s12665-021-09650-2\"},\"methodology\":\"Comparison of four methods for landslide susceptibility mapping using GIS and remote sensing data.\",\"assumptions\":[\"The conditions favoring past landslides will also favor future landslides.\"],\"confidence_level\":86.9,\"validation_method\":\"Validation using area under curve (AUC), kappa index, and statistical inferences.\"}]}\u001b[0m\n",
      "\u001b[32m2025-04-01 20:50:39.881\u001b[0m | \u001b[34m\u001b[1mDEBUG   \u001b[0m | \u001b[36makd.agents.litsearch\u001b[0m:\u001b[36marun\u001b[0m:\u001b[36m134\u001b[0m - \u001b[34m\u001b[1mSource=https://hdl.handle.net/20.500.14017/8df80ddb-1fa4-4abd-929e-79249a9b579a | Answer={\"estimations\":[{\"answer\":\"About 30% of the area in the Tinau watershed is highly susceptible to landsliding.\",\"related_knowledge\":[\"Landslide susceptibility mapping\",\"Weight of evidence method\",\"Tinau watershed, Nepal\"],\"research_data\":{\"data_format\":\"Not specified\",\"origin\":\"Field observations and available data of geology, land use, topography, and hydrology\",\"data_url\":null},\"methodology\":\"Weight of evidence method\",\"assumptions\":[\"Field observations are accurate\",\"Available data is representative of the area\"],\"confidence_level\":null,\"validation_method\":\"Predicted susceptibility levels are in good agreement with the locations of past landslides.\"}]}\u001b[0m\n",
      "\u001b[32m2025-04-01 20:51:05.174\u001b[0m | \u001b[34m\u001b[1mDEBUG   \u001b[0m | \u001b[36makd.agents.litsearch\u001b[0m:\u001b[36marun\u001b[0m:\u001b[36m134\u001b[0m - \u001b[34m\u001b[1mSource=https://idp.springer.com/authorize/casa?redirect_uri=https://link.springer.com/article/10.1007/s12665-021-09650-2&casa_token=KyT2vJyOo1MAAAAA:edXp_J36TuFD_zii4p_L2xrTIgN25ty01l0AMHaXCvN4QSRv46JzXS9Al6m0W-TT3MiutGFvxIkYFhE | Answer={\"estimations\":[{\"answer\":\"The artificial neural network approach yielded the best prediction capability with an AUC value of 86.9% for landslide susceptibility mapping in high mountainous regions of Nepal.\",\"related_knowledge\":[\"Landslide susceptibility mapping (LSM) helps identify landslide-prone areas.\",\"The study compared four methods: frequency ratio, logistic regression, artificial neural network, and support vector machine.\"],\"research_data\":{\"data_format\":\"PDF\",\"origin\":\"Landslide susceptibility mapping study in the Indrawati watershed, Nepal\",\"data_url\":\"https://doi.org/10.1007/s12665-021-09650-2\"},\"methodology\":\"Comparison of four methods for landslide susceptibility mapping using GIS and remote sensing data.\",\"assumptions\":[\"The conditions favoring past landslides will also favor future landslides.\"],\"confidence_level\":86.9,\"validation_method\":\"Validation using area under curve (AUC), kappa index, and statistical inferences.\"}]}\u001b[0m\n"
     ]
    }
   ],
   "source": [
    "result = await lit_agent.arun(\n",
    "    LitAgentInputSchema(query=query)\n",
    ")"
   ]
  },
  {
   "cell_type": "code",
   "execution_count": 39,
   "id": "708703e6-7d24-47e0-9db8-2bd202650099",
   "metadata": {},
   "outputs": [
    {
     "data": {
      "text/plain": [
       "5"
      ]
     },
     "execution_count": 39,
     "metadata": {},
     "output_type": "execute_result"
    }
   ],
   "source": [
    "len(result)"
   ]
  },
  {
   "cell_type": "code",
   "execution_count": 40,
   "id": "c062c14a-f81f-48c6-bec8-96741ed4fb26",
   "metadata": {},
   "outputs": [
    {
     "data": {
      "text/plain": [
       "[ExtractionDTO(source='https://idp.springer.com/authorize/casa?redirect_uri=https://link.springer.com/article/10.1007/s12665-021-09650-2&casa_token=H7T6_At-PnYAAAAA:WVHQdzme1Mai1_VW1CJ5grwxbwuy9McmgOuCEq0B8OUyFFUPKiTTMNSPld6vvQa905gOH1Wbhp-BBFk', result=EstimationExtractionOutputSchema(estimations=[SingleEstimation(answer='The artificial neural network approach yielded the best prediction capability with an AUC value of 86.9% for landslide susceptibility mapping in the high mountainous region of Nepal.', related_knowledge=['Landslide susceptibility mapping (LSM) helps identify landslide-prone areas.', 'The study compared four methods: frequency ratio, logistic regression, artificial neural network, and support vector machine.'], research_data=ResearchData(data_format='PDF', origin='Landslide susceptibility mapping with GIS in high mountain area of Nepal: a comparison of four methods', data_url=HttpUrl('https://doi.org/10.1007/s12665-021-09650-2')), methodology='The study employed four approaches for LSM: frequency ratio, logistic regression, artificial neural network, and support vector machine, using various landslide causal factors.', assumptions=['The conditions that led to past landslides will similarly affect future landslides.'], confidence_level=86.9, validation_method='The models were validated using area under curve (AUC), kappa index, and statistical inferences.')])),\n",
       " ExtractionDTO(source='https://www.bib.irb.hr/1067869', result=EstimationExtractionOutputSchema(estimations=[SingleEstimation(answer='Remote sensing techniques can be effectively used for landslide mapping in Nepal, leveraging satellite imagery and geospatial analysis to identify and monitor landslide-prone areas.', related_knowledge=['Remote sensing applications in landslide detection', 'Geospatial analysis for hazard assessment in Nepal', 'Satellite imagery for environmental monitoring'], research_data=ResearchData(data_format='HDF5', origin='Landsat 8', data_url=HttpUrl('https://landsat.usgs.gov/')), methodology='Utilization of satellite imagery and geospatial analysis techniques to identify landslide occurrences and assess risk areas.', assumptions=['Landslides can be detected through changes in land cover and topography as observed in satellite images.', 'Historical data on landslides can inform predictive models.'], confidence_level=85.0, validation_method='Cross-referencing satellite data with ground truth observations and historical landslide records.')])),\n",
       " ExtractionDTO(source='https://idp.springer.com/authorize/casa?redirect_uri=https://link.springer.com/article/10.1007/s12665-021-09650-2&casa_token=Vaedhacc1N0AAAAA:E9_Iu-vHdMlj3qUaLywbffcp8GEm1xX0Ukrjc_qIdP4D9KBRgtLKDPbMSdz9eR8j5z0iFlQeQDbuFy0', result=EstimationExtractionOutputSchema(estimations=[SingleEstimation(answer='The artificial neural network approach yielded the best prediction capability with an AUC value of 86.9% for landslide susceptibility mapping in high mountainous regions of Nepal.', related_knowledge=['Landslide susceptibility mapping (LSM) helps identify landslide-prone areas.', 'The study compared four methods: frequency ratio, logistic regression, artificial neural network, and support vector machine.'], research_data=ResearchData(data_format='PDF', origin='Landslide susceptibility mapping study in the Indrawati watershed, Nepal', data_url=HttpUrl('https://doi.org/10.1007/s12665-021-09650-2')), methodology='Comparison of four methods for landslide susceptibility mapping using GIS and remote sensing data.', assumptions=['The conditions favoring past landslides will also favor future landslides.'], confidence_level=86.9, validation_method='Validation using area under curve (AUC), kappa index, and statistical inferences.')])),\n",
       " ExtractionDTO(source='https://hdl.handle.net/20.500.14017/8df80ddb-1fa4-4abd-929e-79249a9b579a', result=EstimationExtractionOutputSchema(estimations=[SingleEstimation(answer='About 30% of the area in the Tinau watershed is highly susceptible to landsliding.', related_knowledge=['Landslide susceptibility mapping', 'Weight of evidence method', 'Tinau watershed, Nepal'], research_data=ResearchData(data_format='Not specified', origin='Field observations and available data of geology, land use, topography, and hydrology', data_url=None), methodology='Weight of evidence method', assumptions=['Field observations are accurate', 'Available data is representative of the area'], confidence_level=None, validation_method='Predicted susceptibility levels are in good agreement with the locations of past landslides.')])),\n",
       " ExtractionDTO(source='https://idp.springer.com/authorize/casa?redirect_uri=https://link.springer.com/article/10.1007/s12665-021-09650-2&casa_token=KyT2vJyOo1MAAAAA:edXp_J36TuFD_zii4p_L2xrTIgN25ty01l0AMHaXCvN4QSRv46JzXS9Al6m0W-TT3MiutGFvxIkYFhE', result=EstimationExtractionOutputSchema(estimations=[SingleEstimation(answer='The artificial neural network approach yielded the best prediction capability with an AUC value of 86.9% for landslide susceptibility mapping in high mountainous regions of Nepal.', related_knowledge=['Landslide susceptibility mapping (LSM) helps identify landslide-prone areas.', 'The study compared four methods: frequency ratio, logistic regression, artificial neural network, and support vector machine.'], research_data=ResearchData(data_format='PDF', origin='Landslide susceptibility mapping study in the Indrawati watershed, Nepal', data_url=HttpUrl('https://doi.org/10.1007/s12665-021-09650-2')), methodology='Comparison of four methods for landslide susceptibility mapping using GIS and remote sensing data.', assumptions=['The conditions favoring past landslides will also favor future landslides.'], confidence_level=86.9, validation_method='Validation using area under curve (AUC), kappa index, and statistical inferences.')]))]"
      ]
     },
     "execution_count": 40,
     "metadata": {},
     "output_type": "execute_result"
    }
   ],
   "source": [
    "result"
   ]
  },
  {
   "cell_type": "code",
   "execution_count": 41,
   "id": "21431805-7c34-474e-86a7-1bebb69c4289",
   "metadata": {},
   "outputs": [
    {
     "data": {
      "text/plain": [
       "[SingleEstimation(answer='The artificial neural network approach yielded the best prediction capability with an AUC value of 86.9% for landslide susceptibility mapping in the high mountainous region of Nepal.', related_knowledge=['Landslide susceptibility mapping (LSM) helps identify landslide-prone areas.', 'The study compared four methods: frequency ratio, logistic regression, artificial neural network, and support vector machine.'], research_data=ResearchData(data_format='PDF', origin='Landslide susceptibility mapping with GIS in high mountain area of Nepal: a comparison of four methods', data_url=HttpUrl('https://doi.org/10.1007/s12665-021-09650-2')), methodology='The study employed four approaches for LSM: frequency ratio, logistic regression, artificial neural network, and support vector machine, using various landslide causal factors.', assumptions=['The conditions that led to past landslides will similarly affect future landslides.'], confidence_level=86.9, validation_method='The models were validated using area under curve (AUC), kappa index, and statistical inferences.')]"
      ]
     },
     "execution_count": 41,
     "metadata": {},
     "output_type": "execute_result"
    }
   ],
   "source": [
    "result[0].result.estimations"
   ]
  },
  {
   "cell_type": "markdown",
   "id": "3df07c35-0416-4bb0-9dd0-82e0c230a830",
   "metadata": {},
   "source": [
    "# Display result"
   ]
  },
  {
   "cell_type": "code",
   "execution_count": 42,
   "id": "784f0f9a-8b46-4e56-afcb-13cf2b25bfcb",
   "metadata": {},
   "outputs": [],
   "source": [
    "from typing import List, TypeVar, Any\n",
    "from pydantic import BaseModel\n",
    "import json\n",
    "from pprint import pformat\n",
    "\n",
    "T = TypeVar('T', bound=BaseModel)"
   ]
  },
  {
   "cell_type": "code",
   "execution_count": 43,
   "id": "c72cf5e8-5624-4566-86e9-cb0b4c8a0dcf",
   "metadata": {},
   "outputs": [],
   "source": [
    "def display_result(models_list: List[T], indent: int = 2) -> None:\n",
    "    \"\"\"\n",
    "    Alternative version using model_dump_json method directly.\n",
    "    \n",
    "    Args:\n",
    "        models_list: A list of Pydantic model instances\n",
    "        indent: Number of spaces for indentation (default: 2)\n",
    "    \"\"\"\n",
    "    if not models_list:\n",
    "        print(\"[]\")\n",
    "        return\n",
    "    \n",
    "    print(f\"[{len(models_list)} items]\")\n",
    "    \n",
    "    for i, model in enumerate(models_list):\n",
    "        # Use Pydantic's built-in JSON serialization\n",
    "        formatted_model = model.model_dump_json(indent=indent)\n",
    "        \n",
    "        print(f\"\\nItem {i + 1}:\")\n",
    "        print(formatted_model)"
   ]
  },
  {
   "cell_type": "code",
   "execution_count": 44,
   "id": "6470cb1e-a778-4dc6-8d58-5028c03b8b96",
   "metadata": {},
   "outputs": [
    {
     "name": "stdout",
     "output_type": "stream",
     "text": [
      "https://idp.springer.com/authorize/casa?redirect_uri=https://link.springer.com/article/10.1007/s12665-021-09650-2&casa_token=H7T6_At-PnYAAAAA:WVHQdzme1Mai1_VW1CJ5grwxbwuy9McmgOuCEq0B8OUyFFUPKiTTMNSPld6vvQa905gOH1Wbhp-BBFk\n",
      "[1 items]\n",
      "\n",
      "Item 1:\n",
      "{\n",
      "  \"answer\": \"The artificial neural network approach yielded the best prediction capability with an AUC value of 86.9% for landslide susceptibility mapping in the high mountainous region of Nepal.\",\n",
      "  \"related_knowledge\": [\n",
      "    \"Landslide susceptibility mapping (LSM) helps identify landslide-prone areas.\",\n",
      "    \"The study compared four methods: frequency ratio, logistic regression, artificial neural network, and support vector machine.\"\n",
      "  ],\n",
      "  \"research_data\": {\n",
      "    \"data_format\": \"PDF\",\n",
      "    \"origin\": \"Landslide susceptibility mapping with GIS in high mountain area of Nepal: a comparison of four methods\",\n",
      "    \"data_url\": \"https://doi.org/10.1007/s12665-021-09650-2\"\n",
      "  },\n",
      "  \"methodology\": \"The study employed four approaches for LSM: frequency ratio, logistic regression, artificial neural network, and support vector machine, using various landslide causal factors.\",\n",
      "  \"assumptions\": [\n",
      "    \"The conditions that led to past landslides will similarly affect future landslides.\"\n",
      "  ],\n",
      "  \"confidence_level\": 86.9,\n",
      "  \"validation_method\": \"The models were validated using area under curve (AUC), kappa index, and statistical inferences.\"\n",
      "}\n",
      "------------------------------------------\n",
      "https://www.bib.irb.hr/1067869\n",
      "[1 items]\n",
      "\n",
      "Item 1:\n",
      "{\n",
      "  \"answer\": \"Remote sensing techniques can be effectively used for landslide mapping in Nepal, leveraging satellite imagery and geospatial analysis to identify and monitor landslide-prone areas.\",\n",
      "  \"related_knowledge\": [\n",
      "    \"Remote sensing applications in landslide detection\",\n",
      "    \"Geospatial analysis for hazard assessment in Nepal\",\n",
      "    \"Satellite imagery for environmental monitoring\"\n",
      "  ],\n",
      "  \"research_data\": {\n",
      "    \"data_format\": \"HDF5\",\n",
      "    \"origin\": \"Landsat 8\",\n",
      "    \"data_url\": \"https://landsat.usgs.gov/\"\n",
      "  },\n",
      "  \"methodology\": \"Utilization of satellite imagery and geospatial analysis techniques to identify landslide occurrences and assess risk areas.\",\n",
      "  \"assumptions\": [\n",
      "    \"Landslides can be detected through changes in land cover and topography as observed in satellite images.\",\n",
      "    \"Historical data on landslides can inform predictive models.\"\n",
      "  ],\n",
      "  \"confidence_level\": 85.0,\n",
      "  \"validation_method\": \"Cross-referencing satellite data with ground truth observations and historical landslide records.\"\n",
      "}\n",
      "------------------------------------------\n",
      "https://idp.springer.com/authorize/casa?redirect_uri=https://link.springer.com/article/10.1007/s12665-021-09650-2&casa_token=Vaedhacc1N0AAAAA:E9_Iu-vHdMlj3qUaLywbffcp8GEm1xX0Ukrjc_qIdP4D9KBRgtLKDPbMSdz9eR8j5z0iFlQeQDbuFy0\n",
      "[1 items]\n",
      "\n",
      "Item 1:\n",
      "{\n",
      "  \"answer\": \"The artificial neural network approach yielded the best prediction capability with an AUC value of 86.9% for landslide susceptibility mapping in high mountainous regions of Nepal.\",\n",
      "  \"related_knowledge\": [\n",
      "    \"Landslide susceptibility mapping (LSM) helps identify landslide-prone areas.\",\n",
      "    \"The study compared four methods: frequency ratio, logistic regression, artificial neural network, and support vector machine.\"\n",
      "  ],\n",
      "  \"research_data\": {\n",
      "    \"data_format\": \"PDF\",\n",
      "    \"origin\": \"Landslide susceptibility mapping study in the Indrawati watershed, Nepal\",\n",
      "    \"data_url\": \"https://doi.org/10.1007/s12665-021-09650-2\"\n",
      "  },\n",
      "  \"methodology\": \"Comparison of four methods for landslide susceptibility mapping using GIS and remote sensing data.\",\n",
      "  \"assumptions\": [\n",
      "    \"The conditions favoring past landslides will also favor future landslides.\"\n",
      "  ],\n",
      "  \"confidence_level\": 86.9,\n",
      "  \"validation_method\": \"Validation using area under curve (AUC), kappa index, and statistical inferences.\"\n",
      "}\n",
      "------------------------------------------\n",
      "https://hdl.handle.net/20.500.14017/8df80ddb-1fa4-4abd-929e-79249a9b579a\n",
      "[1 items]\n",
      "\n",
      "Item 1:\n",
      "{\n",
      "  \"answer\": \"About 30% of the area in the Tinau watershed is highly susceptible to landsliding.\",\n",
      "  \"related_knowledge\": [\n",
      "    \"Landslide susceptibility mapping\",\n",
      "    \"Weight of evidence method\",\n",
      "    \"Tinau watershed, Nepal\"\n",
      "  ],\n",
      "  \"research_data\": {\n",
      "    \"data_format\": \"Not specified\",\n",
      "    \"origin\": \"Field observations and available data of geology, land use, topography, and hydrology\",\n",
      "    \"data_url\": null\n",
      "  },\n",
      "  \"methodology\": \"Weight of evidence method\",\n",
      "  \"assumptions\": [\n",
      "    \"Field observations are accurate\",\n",
      "    \"Available data is representative of the area\"\n",
      "  ],\n",
      "  \"confidence_level\": null,\n",
      "  \"validation_method\": \"Predicted susceptibility levels are in good agreement with the locations of past landslides.\"\n",
      "}\n",
      "------------------------------------------\n",
      "https://idp.springer.com/authorize/casa?redirect_uri=https://link.springer.com/article/10.1007/s12665-021-09650-2&casa_token=KyT2vJyOo1MAAAAA:edXp_J36TuFD_zii4p_L2xrTIgN25ty01l0AMHaXCvN4QSRv46JzXS9Al6m0W-TT3MiutGFvxIkYFhE\n",
      "[1 items]\n",
      "\n",
      "Item 1:\n",
      "{\n",
      "  \"answer\": \"The artificial neural network approach yielded the best prediction capability with an AUC value of 86.9% for landslide susceptibility mapping in high mountainous regions of Nepal.\",\n",
      "  \"related_knowledge\": [\n",
      "    \"Landslide susceptibility mapping (LSM) helps identify landslide-prone areas.\",\n",
      "    \"The study compared four methods: frequency ratio, logistic regression, artificial neural network, and support vector machine.\"\n",
      "  ],\n",
      "  \"research_data\": {\n",
      "    \"data_format\": \"PDF\",\n",
      "    \"origin\": \"Landslide susceptibility mapping study in the Indrawati watershed, Nepal\",\n",
      "    \"data_url\": \"https://doi.org/10.1007/s12665-021-09650-2\"\n",
      "  },\n",
      "  \"methodology\": \"Comparison of four methods for landslide susceptibility mapping using GIS and remote sensing data.\",\n",
      "  \"assumptions\": [\n",
      "    \"The conditions favoring past landslides will also favor future landslides.\"\n",
      "  ],\n",
      "  \"confidence_level\": 86.9,\n",
      "  \"validation_method\": \"Validation using area under curve (AUC), kappa index, and statistical inferences.\"\n",
      "}\n",
      "------------------------------------------\n"
     ]
    }
   ],
   "source": [
    "for res in result:\n",
    "    print(f\"{res.source}\")\n",
    "    display_result(res.result.estimations)\n",
    "    print(\"-\"*42)"
   ]
  },
  {
   "cell_type": "markdown",
   "id": "4a18f949-37f6-4c6b-8a63-c45d2990e594",
   "metadata": {},
   "source": [
    "# Relevancy Check"
   ]
  },
  {
   "cell_type": "code",
   "execution_count": 45,
   "id": "c2a1061e-3a36-4092-9b20-7a43ac49d6b5",
   "metadata": {},
   "outputs": [],
   "source": [
    "from akd.tools.relevancy import (\n",
    "    RelevancyChecker,\n",
    "    RelevancyCheckerConfig,\n",
    "    RelevancyCheckerInputSchema,\n",
    "    _RelevancyCheckerSwappedInputSchema\n",
    ")\n",
    "from akd.agents.relevancy import RelevancyAgent"
   ]
  },
  {
   "cell_type": "code",
   "execution_count": 46,
   "id": "26075c09-291e-4f1e-a074-12374da8fb1d",
   "metadata": {},
   "outputs": [],
   "source": [
    "relevancy_checker = RelevancyChecker(\n",
    "    RelevancyCheckerConfig(\n",
    "        debug=True,\n",
    "    )\n",
    ")"
   ]
  },
  {
   "cell_type": "code",
   "execution_count": 47,
   "id": "f870cf7f-ef82-4775-93c1-b2080b4f6c13",
   "metadata": {},
   "outputs": [
    {
     "name": "stderr",
     "output_type": "stream",
     "text": [
      "\u001b[32m2025-04-01 20:51:22.825\u001b[0m | \u001b[1mINFO    \u001b[0m | \u001b[36makd.tools.relevancy\u001b[0m:\u001b[36marun\u001b[0m:\u001b[36m90\u001b[0m - \u001b[1mRunning relevancy check for query: methods and estimation to map landslides in Nepal\u001b[0m\n",
      "\u001b[32m2025-04-01 20:51:24.634\u001b[0m | \u001b[34m\u001b[1mDEBUG   \u001b[0m | \u001b[36makd.tools.relevancy\u001b[0m:\u001b[36m_run\u001b[0m:\u001b[36m110\u001b[0m - \u001b[34m\u001b[1mRelevancy check 1: {\"label\":\"Relevant\",\"reasoning_steps\":[\"The query specifically asks about methods and estimation for mapping landslides in Nepal.\",\"The content provides detailed information about a study that compares different methods for landslide susceptibility mapping in Nepal.\",\"It includes specific methodologies, estimations, and validation methods relevant to the query.\"]}\u001b[0m\n",
      "\u001b[32m2025-04-01 20:51:25.963\u001b[0m | \u001b[34m\u001b[1mDEBUG   \u001b[0m | \u001b[36makd.tools.relevancy\u001b[0m:\u001b[36m_run\u001b[0m:\u001b[36m110\u001b[0m - \u001b[34m\u001b[1mRelevancy check 2: {\"label\":\"Relevant\",\"reasoning_steps\":[\"The query specifically asks about methods and estimation for mapping landslides in Nepal.\",\"The content provides detailed information about a study that compares different methods for landslide susceptibility mapping in Nepal.\",\"It includes specific methodologies, estimations, and validation methods relevant to the query.\"]}\u001b[0m\n",
      "\u001b[32m2025-04-01 20:51:25.964\u001b[0m | \u001b[1mINFO    \u001b[0m | \u001b[36makd.tools.relevancy\u001b[0m:\u001b[36marun\u001b[0m:\u001b[36m93\u001b[0m - \u001b[1mRunning swapping pass. Query and Content swapped\u001b[0m\n",
      "\u001b[32m2025-04-01 20:51:28.393\u001b[0m | \u001b[34m\u001b[1mDEBUG   \u001b[0m | \u001b[36makd.tools.relevancy\u001b[0m:\u001b[36m_run\u001b[0m:\u001b[36m110\u001b[0m - \u001b[34m\u001b[1mRelevancy check 1: {\"label\":\"Relevant\",\"reasoning_steps\":[\"The content discusses methods for landslide susceptibility mapping in Nepal, which directly relates to the query about methods and estimation for mapping landslides.\",\"It provides specific estimations and methodologies used in the study, including the artificial neural network approach and its AUC value, which are relevant to the query.\",\"The mention of various methods (frequency ratio, logistic regression, artificial neural network, and support vector machine) aligns with the request for information on methods for mapping landslides.\"]}\u001b[0m\n",
      "\u001b[32m2025-04-01 20:51:30.460\u001b[0m | \u001b[34m\u001b[1mDEBUG   \u001b[0m | \u001b[36makd.tools.relevancy\u001b[0m:\u001b[36m_run\u001b[0m:\u001b[36m110\u001b[0m - \u001b[34m\u001b[1mRelevancy check 2: {\"label\":\"Relevant\",\"reasoning_steps\":[\"The content discusses methods for landslide susceptibility mapping in Nepal, which directly relates to the query about methods and estimation for mapping landslides.\",\"It provides specific estimations and methodologies used in the study, including the artificial neural network approach and its AUC value, which are relevant to the query.\",\"The mention of various methods (frequency ratio, logistic regression, artificial neural network, and support vector machine) aligns with the request for information on methods used for mapping landslides.\"]}\u001b[0m\n",
      "\u001b[32m2025-04-01 20:51:30.462\u001b[0m | \u001b[1mINFO    \u001b[0m | \u001b[36makd.tools.relevancy\u001b[0m:\u001b[36m_ensemble\u001b[0m:\u001b[36m119\u001b[0m - \u001b[1mEnsembling 4 outputs\u001b[0m\n"
     ]
    }
   ],
   "source": [
    "relevancy_result = await relevancy_checker.arun(\n",
    "    RelevancyCheckerInputSchema(\n",
    "        query=query,\n",
    "        content=str(result[0])\n",
    "    )\n",
    ")"
   ]
  },
  {
   "cell_type": "code",
   "execution_count": 48,
   "id": "5811e67b-656d-44e0-b017-9e1f9742885c",
   "metadata": {},
   "outputs": [
    {
     "name": "stdout",
     "output_type": "stream",
     "text": [
      "{'reasoning_steps': ['The query specifically asks about methods and estimation '\n",
      "                     'for mapping landslides in Nepal.',\n",
      "                     'The content provides detailed information about a study '\n",
      "                     'that compares different methods for landslide '\n",
      "                     'susceptibility mapping in Nepal.',\n",
      "                     'It includes specific methodologies, estimations, and '\n",
      "                     'validation methods relevant to the query.',\n",
      "                     'The query specifically asks about methods and estimation '\n",
      "                     'for mapping landslides in Nepal.',\n",
      "                     'The content provides detailed information about a study '\n",
      "                     'that compares different methods for landslide '\n",
      "                     'susceptibility mapping in Nepal.',\n",
      "                     'It includes specific methodologies, estimations, and '\n",
      "                     'validation methods relevant to the query.',\n",
      "                     'The content discusses methods for landslide '\n",
      "                     'susceptibility mapping in Nepal, which directly relates '\n",
      "                     'to the query about methods and estimation for mapping '\n",
      "                     'landslides.',\n",
      "                     'It provides specific estimations and methodologies used '\n",
      "                     'in the study, including the artificial neural network '\n",
      "                     'approach and its AUC value, which are relevant to the '\n",
      "                     'query.',\n",
      "                     'The mention of various methods (frequency ratio, '\n",
      "                     'logistic regression, artificial neural network, and '\n",
      "                     'support vector machine) aligns with the request for '\n",
      "                     'information on methods for mapping landslides.',\n",
      "                     'The content discusses methods for landslide '\n",
      "                     'susceptibility mapping in Nepal, which directly relates '\n",
      "                     'to the query about methods and estimation for mapping '\n",
      "                     'landslides.',\n",
      "                     'It provides specific estimations and methodologies used '\n",
      "                     'in the study, including the artificial neural network '\n",
      "                     'approach and its AUC value, which are relevant to the '\n",
      "                     'query.',\n",
      "                     'The mention of various methods (frequency ratio, '\n",
      "                     'logistic regression, artificial neural network, and '\n",
      "                     'support vector machine) aligns with the request for '\n",
      "                     'information on methods used for mapping landslides.'],\n",
      " 'score': 1.0}\n"
     ]
    }
   ],
   "source": [
    "pprint(relevancy_result.model_dump())"
   ]
  },
  {
   "cell_type": "code",
   "execution_count": null,
   "id": "d9d4cee5-cafd-4e49-8d1f-ecd9993b1615",
   "metadata": {},
   "outputs": [],
   "source": []
  }
 ],
 "metadata": {
  "kernelspec": {
   "display_name": "Python 3 (ipykernel)",
   "language": "python",
   "name": "python3"
  },
  "language_info": {
   "codemirror_mode": {
    "name": "ipython",
    "version": 3
   },
   "file_extension": ".py",
   "mimetype": "text/x-python",
   "name": "python",
   "nbconvert_exporter": "python",
   "pygments_lexer": "ipython3",
   "version": "3.12.10"
  },
  "widgets": {
   "application/vnd.jupyter.widget-state+json": {
    "state": {},
    "version_major": 2,
    "version_minor": 0
   }
  }
 },
 "nbformat": 4,
 "nbformat_minor": 5
}
