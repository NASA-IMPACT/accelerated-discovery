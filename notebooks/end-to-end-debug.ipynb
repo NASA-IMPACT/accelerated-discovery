{
 "cells": [
  {
   "cell_type": "code",
   "execution_count": 1,
   "id": "0c6a6eb7-07b1-42bb-b2a6-27db6b0a5112",
   "metadata": {},
   "outputs": [],
   "source": [
    "%load_ext autoreload\n",
    "\n",
    "%autoreload 1"
   ]
  },
  {
   "cell_type": "code",
   "execution_count": 2,
   "id": "82512cbb-53ad-4e40-8319-f0734a239701",
   "metadata": {},
   "outputs": [],
   "source": [
    "import nest_asyncio\n",
    "nest_asyncio.apply()"
   ]
  },
  {
   "cell_type": "code",
   "execution_count": 28,
   "id": "76e590a6-0b42-4ca2-8a92-0cca9e6f33bf",
   "metadata": {},
   "outputs": [],
   "source": [
    "import os\n",
    "from pprint import pprint"
   ]
  },
  {
   "cell_type": "code",
   "execution_count": 29,
   "id": "2132ae44-c95d-4dbd-b427-33f28321695b",
   "metadata": {},
   "outputs": [],
   "source": [
    "from akd.config import CONFIG"
   ]
  },
  {
   "cell_type": "code",
   "execution_count": 44,
   "id": "6d3562d0-3221-4c6e-b83d-97f3eef50c77",
   "metadata": {},
   "outputs": [],
   "source": [
    "# CONFIG"
   ]
  },
  {
   "cell_type": "markdown",
   "id": "ba9abaaf-4160-469e-b4b6-2c115d449750",
   "metadata": {},
   "source": [
    "# Import"
   ]
  },
  {
   "cell_type": "code",
   "execution_count": 6,
   "id": "eba1f0d7-b270-488d-9325-cedce0a1ca22",
   "metadata": {},
   "outputs": [],
   "source": [
    "from akd.tools.search import (\n",
    "    SearxNGSearchTool,\n",
    "    SearxNGSearchToolConfig,\n",
    "    SearxNGSearchToolInputSchema\n",
    ")"
   ]
  },
  {
   "cell_type": "code",
   "execution_count": 7,
   "id": "0373bce7-7bb2-4749-983f-d5fe29a8a44c",
   "metadata": {},
   "outputs": [],
   "source": [
    "from akd.tools.scrapers.web_scrapers import (\n",
    "    SimpleWebScraper,\n",
    "    WebpageScraperToolConfig,\n",
    "    WebpageScraperToolInputSchema,\n",
    "    Crawl4AIWebScraper\n",
    ")\n",
    "from akd.tools.scrapers.pdf_scrapers import (\n",
    "    SimplePDFScraper,\n",
    ")\n",
    "from akd.tools.scrapers.composite import CompositeWebScraper"
   ]
  },
  {
   "cell_type": "code",
   "execution_count": 8,
   "id": "7b2b8b8d-e4dc-4161-a13d-84001a275b7b",
   "metadata": {},
   "outputs": [],
   "source": [
    "from akd.tools.scrapers.resolvers import (\n",
    "    ArxivResolver,\n",
    "    ADSResolver,\n",
    "    IdentityResolver,\n",
    ")\n",
    "\n",
    "from akd.tools.scrapers.composite import ResearchArticleResolver"
   ]
  },
  {
   "cell_type": "code",
   "execution_count": 9,
   "id": "d619b0b7-41ce-4886-8001-f82d54fc6629",
   "metadata": {},
   "outputs": [],
   "source": [
    "from akd.agents.factory import (\n",
    "    create_intent_agent,\n",
    "    create_extraction_agent,\n",
    "    create_intent_agent,\n",
    "    create_query_agent\n",
    ")\n",
    "from akd.agents.extraction import IntentBasedExtractionSchemaMapper"
   ]
  },
  {
   "cell_type": "code",
   "execution_count": 10,
   "id": "ab2ba24b-3d59-490c-918c-28287f1f70c3",
   "metadata": {},
   "outputs": [],
   "source": [
    "from akd.agents.litsearch import LitAgent"
   ]
  },
  {
   "cell_type": "markdown",
   "id": "a45d79dc-a785-44b5-bc9d-471f00849cf6",
   "metadata": {},
   "source": [
    "# Build Tools and Agents"
   ]
  },
  {
   "cell_type": "code",
   "execution_count": 13,
   "id": "a2de477b-7313-4cd7-8f63-f81341aea006",
   "metadata": {},
   "outputs": [],
   "source": [
    "SEARCH_TOOL = SearxNGSearchTool(\n",
    "    config=SearxNGSearchToolConfig(\n",
    "        base_url=\"http://localhost:8080\",\n",
    "        max_results=5,\n",
    "        engines=[\"google\", \"arxiv\", \"google_scholar\"],\n",
    "        debug=False\n",
    "    )\n",
    ")"
   ]
  },
  {
   "cell_type": "code",
   "execution_count": 14,
   "id": "45b4b98c-ef37-4396-99f9-ed05bc7dd455",
   "metadata": {},
   "outputs": [],
   "source": [
    "scraper_cfg = WebpageScraperToolConfig()\n",
    "SCRAPER = CompositeWebScraper(\n",
    "    SimpleWebScraper(scraper_cfg),\n",
    "    Crawl4AIWebScraper(scraper_cfg),\n",
    "    SimplePDFScraper(scraper_cfg),\n",
    "    debug=True\n",
    ")"
   ]
  },
  {
   "cell_type": "code",
   "execution_count": 15,
   "id": "6371cfec-0678-45c0-8d12-37777a2ab896",
   "metadata": {},
   "outputs": [],
   "source": [
    "ARTICLE_RESOLVER = ResearchArticleResolver(\n",
    "    ArxivResolver(),\n",
    "    ADSResolver(),\n",
    "    IdentityResolver()\n",
    ")"
   ]
  },
  {
   "cell_type": "code",
   "execution_count": 16,
   "id": "c5dd173a-cf73-482c-9e25-be1f3565fbd7",
   "metadata": {},
   "outputs": [],
   "source": [
    "# ARTICLE_RESOLVER.run(\"https://arxiv.org\")"
   ]
  },
  {
   "cell_type": "code",
   "execution_count": 17,
   "id": "fe0d370c-ae77-4b5b-a378-413281f019ba",
   "metadata": {},
   "outputs": [],
   "source": [
    "INTENT_AGENT = create_intent_agent()"
   ]
  },
  {
   "cell_type": "code",
   "execution_count": 18,
   "id": "1005b2bc-5ac6-49b2-81ca-b98cb449c1bb",
   "metadata": {},
   "outputs": [],
   "source": [
    "QUERY_AGENT = create_query_agent()"
   ]
  },
  {
   "cell_type": "code",
   "execution_count": 19,
   "id": "ecf3fab7-516f-451a-9563-9e67dc6f1822",
   "metadata": {},
   "outputs": [
    {
     "name": "stderr",
     "output_type": "stream",
     "text": [
      "\u001b[32m2025-03-20 10:31:01.531\u001b[0m | \u001b[33m\u001b[1mWARNING \u001b[0m | \u001b[36makd.agents.litsearch\u001b[0m:\u001b[36mclear_history\u001b[0m:\u001b[36m106\u001b[0m - \u001b[33m\u001b[1mClearing history for all the agents\u001b[0m\n"
     ]
    }
   ],
   "source": [
    "lit_agent = LitAgent(\n",
    "    intent_agent=INTENT_AGENT,\n",
    "    schema_mapper=IntentBasedExtractionSchemaMapper(),\n",
    "    query_agent=QUERY_AGENT,\n",
    "    search_tool=SEARCH_TOOL,\n",
    "    web_scraper=SCRAPER,\n",
    "    article_resolver=ARTICLE_RESOLVER,\n",
    ")\n",
    "lit_agent.clear_history()"
   ]
  },
  {
   "cell_type": "code",
   "execution_count": 20,
   "id": "eeab2e71-afc7-4197-a094-7f349518cd62",
   "metadata": {},
   "outputs": [],
   "source": [
    "# query = \"mangrove forest statuses in cameroon\"\n",
    "# query = \"flash flood in south east asia land cover\"\n",
    "query = \"methods and estimation to map landslides in Nepal\""
   ]
  },
  {
   "cell_type": "code",
   "execution_count": 21,
   "id": "a127870d-4a42-4b37-ba33-0d4ae176d221",
   "metadata": {
    "scrolled": true
   },
   "outputs": [
    {
     "name": "stderr",
     "output_type": "stream",
     "text": [
      "\u001b[32m2025-03-20 10:31:03.382\u001b[0m | \u001b[34m\u001b[1mDEBUG   \u001b[0m | \u001b[36makd.agents.litsearch\u001b[0m:\u001b[36mrun\u001b[0m:\u001b[36m43\u001b[0m - \u001b[34m\u001b[1mquery=methods and estimation to map landslides in Nepal | intent=Intent.ESTIMATION\u001b[0m\n",
      "\u001b[32m2025-03-20 10:31:03.383\u001b[0m | \u001b[34m\u001b[1mDEBUG   \u001b[0m | \u001b[36makd.agents.litsearch\u001b[0m:\u001b[36mrun\u001b[0m:\u001b[36m46\u001b[0m - \u001b[34m\u001b[1mExtraction schema=typing.List[akd.structures.SingleEstimation]\u001b[0m\n",
      "\u001b[32m2025-03-20 10:31:03.408\u001b[0m | \u001b[1mINFO    \u001b[0m | \u001b[36makd.agents.litsearch\u001b[0m:\u001b[36mrun\u001b[0m:\u001b[36m50\u001b[0m - \u001b[1mAnalyzing input query to generate relevant search queries...\u001b[0m\n",
      "\u001b[32m2025-03-20 10:31:05.010\u001b[0m | \u001b[34m\u001b[1mDEBUG   \u001b[0m | \u001b[36makd.agents.litsearch\u001b[0m:\u001b[36mrun\u001b[0m:\u001b[36m55\u001b[0m - \u001b[34m\u001b[1mGenerated search queries:\u001b[0m\n",
      "\u001b[32m2025-03-20 10:31:05.012\u001b[0m | \u001b[34m\u001b[1mDEBUG   \u001b[0m | \u001b[36makd.agents.litsearch\u001b[0m:\u001b[36mrun\u001b[0m:\u001b[36m57\u001b[0m - \u001b[34m\u001b[1mQuery 1: methods and estimation to map landslides in Nepal\u001b[0m\n",
      "\u001b[32m2025-03-20 10:31:05.013\u001b[0m | \u001b[34m\u001b[1mDEBUG   \u001b[0m | \u001b[36makd.agents.litsearch\u001b[0m:\u001b[36mrun\u001b[0m:\u001b[36m57\u001b[0m - \u001b[34m\u001b[1mQuery 2: landslide mapping methods Nepal\u001b[0m\n",
      "\u001b[32m2025-03-20 10:31:05.014\u001b[0m | \u001b[34m\u001b[1mDEBUG   \u001b[0m | \u001b[36makd.agents.litsearch\u001b[0m:\u001b[36mrun\u001b[0m:\u001b[36m57\u001b[0m - \u001b[34m\u001b[1mQuery 3: landslide estimation techniques Nepal\u001b[0m\n",
      "\u001b[32m2025-03-20 10:31:05.015\u001b[0m | \u001b[34m\u001b[1mDEBUG   \u001b[0m | \u001b[36makd.agents.litsearch\u001b[0m:\u001b[36mrun\u001b[0m:\u001b[36m57\u001b[0m - \u001b[34m\u001b[1mQuery 4: remote sensing landslide detection Nepal\u001b[0m\n",
      "\u001b[32m2025-03-20 10:31:05.016\u001b[0m | \u001b[1mINFO    \u001b[0m | \u001b[36makd.agents.litsearch\u001b[0m:\u001b[36mrun\u001b[0m:\u001b[36m60\u001b[0m - \u001b[1mSearching across the web using SearxNG...\u001b[0m\n",
      "\u001b[32m2025-03-20 10:31:07.967\u001b[0m | \u001b[1mINFO    \u001b[0m | \u001b[36makd.agents.litsearch\u001b[0m:\u001b[36mrun\u001b[0m:\u001b[36m69\u001b[0m - \u001b[1mFound 5 relevant web pages:\u001b[0m\n",
      "\u001b[32m2025-03-20 10:31:07.969\u001b[0m | \u001b[34m\u001b[1mDEBUG   \u001b[0m | \u001b[36makd.agents.litsearch\u001b[0m:\u001b[36mrun\u001b[0m:\u001b[36m72\u001b[0m - \u001b[34m\u001b[1mResult 1 : Scraping the url https://link.springer.com/article/10.1007/s12665-021-09650-2\u001b[0m\n",
      "\u001b[32m2025-03-20 10:31:07.970\u001b[0m | \u001b[34m\u001b[1mDEBUG   \u001b[0m | \u001b[36makd.tools.scrapers.composite\u001b[0m:\u001b[36mresolve\u001b[0m:\u001b[36m65\u001b[0m - \u001b[34m\u001b[1mUsing resolver=ArxivResolver for url=https://link.springer.com/article/10.1007/s12665-021-09650-2\u001b[0m\n",
      "\u001b[32m2025-03-20 10:31:07.971\u001b[0m | \u001b[31m\u001b[1mERROR   \u001b[0m | \u001b[36makd.tools.scrapers.composite\u001b[0m:\u001b[36mresolve\u001b[0m:\u001b[36m70\u001b[0m - \u001b[31m\u001b[1mError using resolver=ArxivResolver\u001b[0m\n",
      "\u001b[32m2025-03-20 10:31:07.972\u001b[0m | \u001b[34m\u001b[1mDEBUG   \u001b[0m | \u001b[36makd.tools.scrapers.composite\u001b[0m:\u001b[36mresolve\u001b[0m:\u001b[36m65\u001b[0m - \u001b[34m\u001b[1mUsing resolver=ADSResolver for url=https://link.springer.com/article/10.1007/s12665-021-09650-2\u001b[0m\n",
      "\u001b[32m2025-03-20 10:31:07.973\u001b[0m | \u001b[31m\u001b[1mERROR   \u001b[0m | \u001b[36makd.tools.scrapers.composite\u001b[0m:\u001b[36mresolve\u001b[0m:\u001b[36m70\u001b[0m - \u001b[31m\u001b[1mError using resolver=ADSResolver\u001b[0m\n",
      "\u001b[32m2025-03-20 10:31:07.974\u001b[0m | \u001b[34m\u001b[1mDEBUG   \u001b[0m | \u001b[36makd.tools.scrapers.composite\u001b[0m:\u001b[36mresolve\u001b[0m:\u001b[36m65\u001b[0m - \u001b[34m\u001b[1mUsing resolver=IdentityResolver for url=https://link.springer.com/article/10.1007/s12665-021-09650-2\u001b[0m\n",
      "\u001b[32m2025-03-20 10:31:07.974\u001b[0m | \u001b[34m\u001b[1mDEBUG   \u001b[0m | \u001b[36makd.tools.scrapers.composite\u001b[0m:\u001b[36mrun\u001b[0m:\u001b[36m39\u001b[0m - \u001b[34m\u001b[1mRunning scraper=SimpleWebScraper for {\"url\":\"https://link.springer.com/article/10.1007/s12665-021-09650-2\",\"include_links\":true}\u001b[0m\n",
      "\u001b[32m2025-03-20 10:31:09.035\u001b[0m | \u001b[34m\u001b[1mDEBUG   \u001b[0m | \u001b[36makd.agents.litsearch\u001b[0m:\u001b[36mrun\u001b[0m:\u001b[36m86\u001b[0m - \u001b[34m\u001b[1mResult 1: Landslide susceptibility mapping with GIS in high mountain area of Nepal: a comparison of four methods - (Published 2021-01-01T00:00:00) | https://link.springer.com/article/10.1007/s12665-021-09650-2 | ## Abstract\n",
      "\n",
      "Landslide susceptibility mapping (LSM) assists identifying and targeting\n",
      "landslide prev.. | words=3581\u001b[0m\n",
      "\u001b[32m2025-03-20 10:31:09.035\u001b[0m | \u001b[34m\u001b[1mDEBUG   \u001b[0m | \u001b[36makd.agents.litsearch\u001b[0m:\u001b[36mrun\u001b[0m:\u001b[36m72\u001b[0m - \u001b[34m\u001b[1mResult 2 : Scraping the url http://arxiv.org/abs/2401.14210v1\u001b[0m\n",
      "\u001b[32m2025-03-20 10:31:09.035\u001b[0m | \u001b[34m\u001b[1mDEBUG   \u001b[0m | \u001b[36makd.tools.scrapers.composite\u001b[0m:\u001b[36mresolve\u001b[0m:\u001b[36m65\u001b[0m - \u001b[34m\u001b[1mUsing resolver=ArxivResolver for url=http://arxiv.org/abs/2401.14210v1\u001b[0m\n",
      "\u001b[32m2025-03-20 10:31:09.036\u001b[0m | \u001b[34m\u001b[1mDEBUG   \u001b[0m | \u001b[36makd.tools.scrapers.composite\u001b[0m:\u001b[36mrun\u001b[0m:\u001b[36m39\u001b[0m - \u001b[34m\u001b[1mRunning scraper=SimpleWebScraper for {\"url\":\"https://arxiv.org/pdf/2401.14210v1.pdf\",\"include_links\":true}\u001b[0m\n",
      "\u001b[32m2025-03-20 10:31:09.036\u001b[0m | \u001b[31m\u001b[1mERROR   \u001b[0m | \u001b[36makd.tools.scrapers.composite\u001b[0m:\u001b[36mrun\u001b[0m:\u001b[36m48\u001b[0m - \u001b[31m\u001b[1mError running SimpleWebScraper\n",
      "Can't parse url with PDF :: https://arxiv.org/pdf/2401.14210v1.pdf\u001b[0m\n",
      "\u001b[32m2025-03-20 10:31:09.036\u001b[0m | \u001b[34m\u001b[1mDEBUG   \u001b[0m | \u001b[36makd.tools.scrapers.composite\u001b[0m:\u001b[36mrun\u001b[0m:\u001b[36m39\u001b[0m - \u001b[34m\u001b[1mRunning scraper=Crawl4AIWebScraper for {\"url\":\"https://arxiv.org/pdf/2401.14210v1.pdf\",\"include_links\":true}\u001b[0m\n",
      "\u001b[32m2025-03-20 10:31:09.037\u001b[0m | \u001b[31m\u001b[1mERROR   \u001b[0m | \u001b[36makd.tools.scrapers.composite\u001b[0m:\u001b[36mrun\u001b[0m:\u001b[36m48\u001b[0m - \u001b[31m\u001b[1mError running Crawl4AIWebScraper\n",
      "Can't parse url with PDF :: https://arxiv.org/pdf/2401.14210v1.pdf\u001b[0m\n",
      "\u001b[32m2025-03-20 10:31:09.037\u001b[0m | \u001b[34m\u001b[1mDEBUG   \u001b[0m | \u001b[36makd.tools.scrapers.composite\u001b[0m:\u001b[36mrun\u001b[0m:\u001b[36m39\u001b[0m - \u001b[34m\u001b[1mRunning scraper=SimplePDFScraper for {\"url\":\"https://arxiv.org/pdf/2401.14210v1.pdf\",\"include_links\":true}\u001b[0m\n",
      "\u001b[32m2025-03-20 10:31:09.207\u001b[0m | \u001b[34m\u001b[1mDEBUG   \u001b[0m | \u001b[36makd.tools.scrapers.pdf_scrapers\u001b[0m:\u001b[36m_download_pdf_from_url\u001b[0m:\u001b[36m179\u001b[0m - \u001b[34m\u001b[1mDownloading PDF at /var/folders/_y/xn9wmmrx1_s68jvjw4gzmxfm0000gn/T/tmp7qa8yji8.pdf\u001b[0m\n",
      "\u001b[32m2025-03-20 10:31:10.524\u001b[0m | \u001b[34m\u001b[1mDEBUG   \u001b[0m | \u001b[36makd.agents.litsearch\u001b[0m:\u001b[36mrun\u001b[0m:\u001b[36m86\u001b[0m - \u001b[34m\u001b[1mResult 2: At the junction between deep learning and statistics of extremes: formalizing the landslide hazard definition - (Published 2024-01-25T14:48:08) | https://arxiv.org/pdf/2401.14210v1.pdf | At the junction between deep learning and statistics of\n",
      "extremes: formalizing the landslide hazard d.. | words=12668\u001b[0m\n",
      "\u001b[32m2025-03-20 10:31:10.525\u001b[0m | \u001b[34m\u001b[1mDEBUG   \u001b[0m | \u001b[36makd.agents.litsearch\u001b[0m:\u001b[36mrun\u001b[0m:\u001b[36m72\u001b[0m - \u001b[34m\u001b[1mResult 3 : Scraping the url https://www.bib.irb.hr/1067869\u001b[0m\n",
      "\u001b[32m2025-03-20 10:31:10.525\u001b[0m | \u001b[34m\u001b[1mDEBUG   \u001b[0m | \u001b[36makd.tools.scrapers.composite\u001b[0m:\u001b[36mresolve\u001b[0m:\u001b[36m65\u001b[0m - \u001b[34m\u001b[1mUsing resolver=ArxivResolver for url=https://www.bib.irb.hr/1067869\u001b[0m\n",
      "\u001b[32m2025-03-20 10:31:10.525\u001b[0m | \u001b[31m\u001b[1mERROR   \u001b[0m | \u001b[36makd.tools.scrapers.composite\u001b[0m:\u001b[36mresolve\u001b[0m:\u001b[36m70\u001b[0m - \u001b[31m\u001b[1mError using resolver=ArxivResolver\u001b[0m\n",
      "\u001b[32m2025-03-20 10:31:10.525\u001b[0m | \u001b[34m\u001b[1mDEBUG   \u001b[0m | \u001b[36makd.tools.scrapers.composite\u001b[0m:\u001b[36mresolve\u001b[0m:\u001b[36m65\u001b[0m - \u001b[34m\u001b[1mUsing resolver=ADSResolver for url=https://www.bib.irb.hr/1067869\u001b[0m\n",
      "\u001b[32m2025-03-20 10:31:10.525\u001b[0m | \u001b[31m\u001b[1mERROR   \u001b[0m | \u001b[36makd.tools.scrapers.composite\u001b[0m:\u001b[36mresolve\u001b[0m:\u001b[36m70\u001b[0m - \u001b[31m\u001b[1mError using resolver=ADSResolver\u001b[0m\n",
      "\u001b[32m2025-03-20 10:31:10.526\u001b[0m | \u001b[34m\u001b[1mDEBUG   \u001b[0m | \u001b[36makd.tools.scrapers.composite\u001b[0m:\u001b[36mresolve\u001b[0m:\u001b[36m65\u001b[0m - \u001b[34m\u001b[1mUsing resolver=IdentityResolver for url=https://www.bib.irb.hr/1067869\u001b[0m\n",
      "\u001b[32m2025-03-20 10:31:10.526\u001b[0m | \u001b[34m\u001b[1mDEBUG   \u001b[0m | \u001b[36makd.tools.scrapers.composite\u001b[0m:\u001b[36mrun\u001b[0m:\u001b[36m39\u001b[0m - \u001b[34m\u001b[1mRunning scraper=SimpleWebScraper for {\"url\":\"https://www.bib.irb.hr/1067869\",\"include_links\":true}\u001b[0m\n",
      "\u001b[32m2025-03-20 10:31:12.620\u001b[0m | \u001b[34m\u001b[1mDEBUG   \u001b[0m | \u001b[36makd.agents.litsearch\u001b[0m:\u001b[36mrun\u001b[0m:\u001b[36m86\u001b[0m - \u001b[34m\u001b[1mResult 3: Systematic updates of the agglutinated foraminiferal genus Colominella Popescu, 1998: insights from sectioned specimens | https://www.bib.irb.hr/1067869 | 1. [Publikacije](/crosbi/publikacija/vrsta)\n",
      "2. [Exceedance probability of some arsenic threshold val.. | words=688\u001b[0m\n",
      "\u001b[32m2025-03-20 10:31:12.620\u001b[0m | \u001b[34m\u001b[1mDEBUG   \u001b[0m | \u001b[36makd.agents.litsearch\u001b[0m:\u001b[36mrun\u001b[0m:\u001b[36m72\u001b[0m - \u001b[34m\u001b[1mResult 4 : Scraping the url http://arxiv.org/abs/2502.19866v1\u001b[0m\n",
      "\u001b[32m2025-03-20 10:31:12.621\u001b[0m | \u001b[34m\u001b[1mDEBUG   \u001b[0m | \u001b[36makd.tools.scrapers.composite\u001b[0m:\u001b[36mresolve\u001b[0m:\u001b[36m65\u001b[0m - \u001b[34m\u001b[1mUsing resolver=ArxivResolver for url=http://arxiv.org/abs/2502.19866v1\u001b[0m\n",
      "\u001b[32m2025-03-20 10:31:12.621\u001b[0m | \u001b[34m\u001b[1mDEBUG   \u001b[0m | \u001b[36makd.tools.scrapers.composite\u001b[0m:\u001b[36mrun\u001b[0m:\u001b[36m39\u001b[0m - \u001b[34m\u001b[1mRunning scraper=SimpleWebScraper for {\"url\":\"https://arxiv.org/pdf/2502.19866v1.pdf\",\"include_links\":true}\u001b[0m\n",
      "\u001b[32m2025-03-20 10:31:12.621\u001b[0m | \u001b[31m\u001b[1mERROR   \u001b[0m | \u001b[36makd.tools.scrapers.composite\u001b[0m:\u001b[36mrun\u001b[0m:\u001b[36m48\u001b[0m - \u001b[31m\u001b[1mError running SimpleWebScraper\n",
      "Can't parse url with PDF :: https://arxiv.org/pdf/2502.19866v1.pdf\u001b[0m\n",
      "\u001b[32m2025-03-20 10:31:12.622\u001b[0m | \u001b[34m\u001b[1mDEBUG   \u001b[0m | \u001b[36makd.tools.scrapers.composite\u001b[0m:\u001b[36mrun\u001b[0m:\u001b[36m39\u001b[0m - \u001b[34m\u001b[1mRunning scraper=Crawl4AIWebScraper for {\"url\":\"https://arxiv.org/pdf/2502.19866v1.pdf\",\"include_links\":true}\u001b[0m\n",
      "\u001b[32m2025-03-20 10:31:12.622\u001b[0m | \u001b[31m\u001b[1mERROR   \u001b[0m | \u001b[36makd.tools.scrapers.composite\u001b[0m:\u001b[36mrun\u001b[0m:\u001b[36m48\u001b[0m - \u001b[31m\u001b[1mError running Crawl4AIWebScraper\n",
      "Can't parse url with PDF :: https://arxiv.org/pdf/2502.19866v1.pdf\u001b[0m\n",
      "\u001b[32m2025-03-20 10:31:12.622\u001b[0m | \u001b[34m\u001b[1mDEBUG   \u001b[0m | \u001b[36makd.tools.scrapers.composite\u001b[0m:\u001b[36mrun\u001b[0m:\u001b[36m39\u001b[0m - \u001b[34m\u001b[1mRunning scraper=SimplePDFScraper for {\"url\":\"https://arxiv.org/pdf/2502.19866v1.pdf\",\"include_links\":true}\u001b[0m\n",
      "\u001b[32m2025-03-20 10:31:12.723\u001b[0m | \u001b[34m\u001b[1mDEBUG   \u001b[0m | \u001b[36makd.tools.scrapers.pdf_scrapers\u001b[0m:\u001b[36m_download_pdf_from_url\u001b[0m:\u001b[36m179\u001b[0m - \u001b[34m\u001b[1mDownloading PDF at /var/folders/_y/xn9wmmrx1_s68jvjw4gzmxfm0000gn/T/tmpgupgf9c2.pdf\u001b[0m\n",
      "\u001b[32m2025-03-20 10:31:13.427\u001b[0m | \u001b[34m\u001b[1mDEBUG   \u001b[0m | \u001b[36makd.agents.litsearch\u001b[0m:\u001b[36mrun\u001b[0m:\u001b[36m86\u001b[0m - \u001b[34m\u001b[1mResult 4: LMHLD: A Large-scale Multi-source High-resolution Landslide Dataset for Landslide Detection based on Deep Learning - (Published 2025-02-27T08:19:42) | https://arxiv.org/pdf/2502.19866v1.pdf | LMHLD: A Large-scale Multi-source High-resolution Landslide Dataset for\n",
      "Landslide Detection based on.. | words=11949\u001b[0m\n",
      "\u001b[32m2025-03-20 10:31:13.428\u001b[0m | \u001b[34m\u001b[1mDEBUG   \u001b[0m | \u001b[36makd.agents.litsearch\u001b[0m:\u001b[36mrun\u001b[0m:\u001b[36m72\u001b[0m - \u001b[34m\u001b[1mResult 5 : Scraping the url https://hdl.handle.net/20.500.14017/8df80ddb-1fa4-4abd-929e-79249a9b579a\u001b[0m\n",
      "\u001b[32m2025-03-20 10:31:13.428\u001b[0m | \u001b[34m\u001b[1mDEBUG   \u001b[0m | \u001b[36makd.tools.scrapers.composite\u001b[0m:\u001b[36mresolve\u001b[0m:\u001b[36m65\u001b[0m - \u001b[34m\u001b[1mUsing resolver=ArxivResolver for url=https://hdl.handle.net/20.500.14017/8df80ddb-1fa4-4abd-929e-79249a9b579a\u001b[0m\n",
      "\u001b[32m2025-03-20 10:31:13.428\u001b[0m | \u001b[31m\u001b[1mERROR   \u001b[0m | \u001b[36makd.tools.scrapers.composite\u001b[0m:\u001b[36mresolve\u001b[0m:\u001b[36m70\u001b[0m - \u001b[31m\u001b[1mError using resolver=ArxivResolver\u001b[0m\n",
      "\u001b[32m2025-03-20 10:31:13.428\u001b[0m | \u001b[34m\u001b[1mDEBUG   \u001b[0m | \u001b[36makd.tools.scrapers.composite\u001b[0m:\u001b[36mresolve\u001b[0m:\u001b[36m65\u001b[0m - \u001b[34m\u001b[1mUsing resolver=ADSResolver for url=https://hdl.handle.net/20.500.14017/8df80ddb-1fa4-4abd-929e-79249a9b579a\u001b[0m\n",
      "\u001b[32m2025-03-20 10:31:13.428\u001b[0m | \u001b[31m\u001b[1mERROR   \u001b[0m | \u001b[36makd.tools.scrapers.composite\u001b[0m:\u001b[36mresolve\u001b[0m:\u001b[36m70\u001b[0m - \u001b[31m\u001b[1mError using resolver=ADSResolver\u001b[0m\n",
      "\u001b[32m2025-03-20 10:31:13.428\u001b[0m | \u001b[34m\u001b[1mDEBUG   \u001b[0m | \u001b[36makd.tools.scrapers.composite\u001b[0m:\u001b[36mresolve\u001b[0m:\u001b[36m65\u001b[0m - \u001b[34m\u001b[1mUsing resolver=IdentityResolver for url=https://hdl.handle.net/20.500.14017/8df80ddb-1fa4-4abd-929e-79249a9b579a\u001b[0m\n",
      "\u001b[32m2025-03-20 10:31:13.429\u001b[0m | \u001b[34m\u001b[1mDEBUG   \u001b[0m | \u001b[36makd.tools.scrapers.composite\u001b[0m:\u001b[36mrun\u001b[0m:\u001b[36m39\u001b[0m - \u001b[34m\u001b[1mRunning scraper=SimpleWebScraper for {\"url\":\"https://hdl.handle.net/20.500.14017/8df80ddb-1fa4-4abd-929e-79249a9b579a\",\"include_links\":true}\u001b[0m\n",
      "\u001b[32m2025-03-20 10:31:14.416\u001b[0m | \u001b[31m\u001b[1mERROR   \u001b[0m | \u001b[36makd.tools.scrapers.composite\u001b[0m:\u001b[36mrun\u001b[0m:\u001b[36m48\u001b[0m - \u001b[31m\u001b[1mError running SimpleWebScraper\n",
      "name 'HTTPError' is not defined\u001b[0m\n",
      "\u001b[32m2025-03-20 10:31:14.418\u001b[0m | \u001b[34m\u001b[1mDEBUG   \u001b[0m | \u001b[36makd.tools.scrapers.composite\u001b[0m:\u001b[36mrun\u001b[0m:\u001b[36m39\u001b[0m - \u001b[34m\u001b[1mRunning scraper=Crawl4AIWebScraper for {\"url\":\"https://hdl.handle.net/20.500.14017/8df80ddb-1fa4-4abd-929e-79249a9b579a\",\"include_links\":true}\u001b[0m\n"
     ]
    },
    {
     "name": "stdout",
     "output_type": "stream",
     "text": [
      "[INIT].... → Crawl4AI 0.5.0.post4\n",
      "[FETCH]... ↓ https://hdl.handle.net/20.500.14017/8df80ddb-1fa4-... | Status: True | Time: 4.80s\n",
      "[SCRAPE].. ◆ https://hdl.handle.net/20.500.14017/8df80ddb-1fa4-... | Time: 0.014s\n",
      "[COMPLETE] ● https://hdl.handle.net/20.500.14017/8df80ddb-1fa4-... | Status: True | Total: 4.82s\n"
     ]
    },
    {
     "name": "stderr",
     "output_type": "stream",
     "text": [
      "\u001b[32m2025-03-20 10:31:20.355\u001b[0m | \u001b[34m\u001b[1mDEBUG   \u001b[0m | \u001b[36makd.agents.litsearch\u001b[0m:\u001b[36mrun\u001b[0m:\u001b[36m86\u001b[0m - \u001b[34m\u001b[1mResult 5: Landslide susceptibility mapping using the weight of evidence method in the Tinau watershed, Nepal | https://hdl.handle.net/20.500.14017/8df80ddb-1fa4-4abd-929e-79249a9b579a |   * [Skip to main navigation](https://hdl.handle.net/20.500.14017/8df80ddb-1fa4-4abd-929e-79249a9b57.. | words=1265\u001b[0m\n",
      "\u001b[32m2025-03-20 10:31:30.818\u001b[0m | \u001b[34m\u001b[1mDEBUG   \u001b[0m | \u001b[36makd.agents.litsearch\u001b[0m:\u001b[36mrun\u001b[0m:\u001b[36m98\u001b[0m - \u001b[34m\u001b[1mSource=https://link.springer.com/article/10.1007/s12665-021-09650-2 | Answer=[SingleEstimation(answer='The study conducted landslide susceptibility mapping (LSM) in the Indrawati watershed, Central Nepal, using remote sensing data and four different methods: frequency ratio, logistic regression, artificial neural network, and support vector machine. The artificial neural network method showed the best prediction capability with an AUC value of 86.9%.', related_knowledge=['Landslide susceptibility mapping (LSM) is crucial for identifying areas prone to landslides and implementing preventive measures.', 'The study area is the Indrawati watershed in Central Nepal, a high mountain region.', 'Four methods were compared: frequency ratio, logistic regression, artificial neural network, and support vector machine.', 'Artificial neural network showed the highest prediction capability with an AUC of 86.9%.'], research_data=ResearchData(data_format='Satellite images', origin='On-screen digitization and field observations', data_url=None), methodology='The study used remote sensing data to map rainfall-induced landslides, which were then analyzed using four different methods to create susceptibility maps. The maps were validated using area under curve (AUC), kappa index, and other statistical measures.', assumptions=['The study assumes that the selected causal factors (slope, aspect, elevation, etc.) are significant for landslide susceptibility.', 'The landslides were induced by rainfall, as mapped from satellite images and field observations.'], confidence_level=0.869, validation_method='Validation was performed using area under curve (AUC), kappa index, sensitivity, specificity, positive predictive value, negative predictive value, and accuracy.')]\u001b[0m\n",
      "\u001b[32m2025-03-20 10:31:36.825\u001b[0m | \u001b[34m\u001b[1mDEBUG   \u001b[0m | \u001b[36makd.agents.litsearch\u001b[0m:\u001b[36mrun\u001b[0m:\u001b[36m98\u001b[0m - \u001b[34m\u001b[1mSource=https://arxiv.org/pdf/2401.14210v1.pdf | Answer=[SingleEstimation(answer='The study develops a landslide hazard model for Nepal using deep learning combined with the extended generalized Pareto distribution from extreme value theory. The model uses 30 years of past landslide observations and predicts hazards for multiple return periods under different climate change scenarios.', related_knowledge=['Landslide hazard model combines deep learning and extreme value theory.', '30 years of landslide data used for Nepal.', 'Model predicts hazards for different return periods and climate scenarios.'], research_data=ResearchData(data_format='Polygonal inventory', origin='Jones et al. (2021) landslide inventory', data_url=HttpUrl('https://doi.org/10.5281/zenodo.10567233')), methodology='The methodology involves using deep learning to model landslide susceptibility and intensity, combined with the extended generalized Pareto distribution to handle heavy-tailed data. The model predicts landslide hazards for different return periods and climate scenarios.', assumptions=['Landslide intensity follows a heavy-tailed distribution.', 'Climate change scenarios affect precipitation patterns.'], confidence_level=0.86, validation_method='Model performance evaluated using AUC for susceptibility and CRPS for intensity.')]\u001b[0m\n",
      "\u001b[32m2025-03-20 10:31:42.657\u001b[0m | \u001b[34m\u001b[1mDEBUG   \u001b[0m | \u001b[36makd.agents.litsearch\u001b[0m:\u001b[36mrun\u001b[0m:\u001b[36m98\u001b[0m - \u001b[34m\u001b[1mSource=https://www.bib.irb.hr/1067869 | Answer=[SingleEstimation(answer='Remote sensing techniques have been effectively used for landslide detection in Nepal, leveraging satellite imagery and geospatial analysis to identify and monitor landslide-prone areas.', related_knowledge=['Remote sensing provides a cost-effective and efficient means to monitor large and inaccessible areas.', \"Landslide detection in Nepal is crucial due to the country's mountainous terrain and susceptibility to natural disasters.\"], research_data=ResearchData(data_format='Satellite Imagery', origin='Various remote sensing satellites', data_url=None), methodology='The methodology involves using satellite imagery to detect changes in land surface that indicate landslides. Techniques such as change detection, image classification, and digital elevation models (DEMs) are commonly used.', assumptions=['Landslides cause detectable changes in land surface that can be captured by satellite imagery.', 'Remote sensing data is accurate and up-to-date.'], confidence_level=0.9, validation_method='Validation is typically done by comparing remote sensing results with ground truth data or historical landslide records.')]\u001b[0m\n",
      "\u001b[32m2025-03-20 10:31:48.992\u001b[0m | \u001b[34m\u001b[1mDEBUG   \u001b[0m | \u001b[36makd.agents.litsearch\u001b[0m:\u001b[36mrun\u001b[0m:\u001b[36m98\u001b[0m - \u001b[34m\u001b[1mSource=https://arxiv.org/pdf/2502.19866v1.pdf | Answer=[SingleEstimation(answer='The LMHLD dataset includes remote sensing images from five different satellite sensors across seven study areas worldwide, including Gorkha, Nepal, which was affected by a significant landslide event in 2015.', related_knowledge=['LMHLD is a benchmark dataset for landslide detection using deep learning.', 'The dataset includes high-resolution images from multiple satellite sensors.', 'Gorkha, Nepal, is one of the study areas included in the dataset.'], research_data=ResearchData(data_format='Remote Sensing Images', origin='RapidEye, PlanetScope, IKONOS, Gaofen-2, Sentinel-2', data_url=HttpUrl('https://doi.org/10.5281/zenodo.11424988')), methodology='The dataset is used to train deep learning models for landslide detection, utilizing U-Net and its variants for semantic segmentation.', assumptions=['High-resolution images improve model performance.', 'Diverse geographical data enhances generalization.'], confidence_level=None, validation_method=\"The dataset's effectiveness was validated through experiments using U-Net family models, demonstrating its potential as a benchmark for landslide detection.\")]\u001b[0m\n",
      "\u001b[32m2025-03-20 10:31:52.907\u001b[0m | \u001b[34m\u001b[1mDEBUG   \u001b[0m | \u001b[36makd.agents.litsearch\u001b[0m:\u001b[36mrun\u001b[0m:\u001b[36m98\u001b[0m - \u001b[34m\u001b[1mSource=https://hdl.handle.net/20.500.14017/8df80ddb-1fa4-4abd-929e-79249a9b579a | Answer=[SingleEstimation(answer='The study applies the weight of evidence method for landslide susceptibility mapping in the Tinau watershed, Nepal, using field observations and data on geology, land use, topography, and hydrology. About 30% of the area is highly susceptible to landslides.', related_knowledge=['Landslide susceptibility mapping is crucial for disaster management in Nepal.', 'The weight of evidence method is used for mapping landslide susceptibility.', 'Field observations and data on geology, land use, topography, and hydrology are utilized.'], research_data=ResearchData(data_format='Field observations and various datasets', origin='Tinau watershed, Nepal', data_url=None), methodology='Weight of evidence method applied to field observations and data on geology, land use, topography, and hydrology.', assumptions=['The weight of evidence method is suitable for landslide susceptibility mapping.', 'Field observations and available data accurately represent the study area.'], confidence_level=None, validation_method='Comparison with locations of past landslides.')]\u001b[0m\n"
     ]
    }
   ],
   "source": [
    "result = lit_agent.run(query)"
   ]
  },
  {
   "cell_type": "code",
   "execution_count": 24,
   "id": "708703e6-7d24-47e0-9db8-2bd202650099",
   "metadata": {},
   "outputs": [
    {
     "data": {
      "text/plain": [
       "5"
      ]
     },
     "execution_count": 24,
     "metadata": {},
     "output_type": "execute_result"
    }
   ],
   "source": [
    "len(result)"
   ]
  },
  {
   "cell_type": "code",
   "execution_count": 25,
   "id": "56d207e2-5a38-439f-813b-32b0ff5168d1",
   "metadata": {},
   "outputs": [
    {
     "data": {
      "text/plain": [
       "[ExtractionDTO(source='https://link.springer.com/article/10.1007/s12665-021-09650-2', result=[SingleEstimation(answer='The study conducted landslide susceptibility mapping (LSM) in the Indrawati watershed, Central Nepal, using remote sensing data and four different methods: frequency ratio, logistic regression, artificial neural network, and support vector machine. The artificial neural network method showed the best prediction capability with an AUC value of 86.9%.', related_knowledge=['Landslide susceptibility mapping (LSM) is crucial for identifying areas prone to landslides and implementing preventive measures.', 'The study area is the Indrawati watershed in Central Nepal, a high mountain region.', 'Four methods were compared: frequency ratio, logistic regression, artificial neural network, and support vector machine.', 'Artificial neural network showed the highest prediction capability with an AUC of 86.9%.'], research_data=ResearchData(data_format='Satellite images', origin='On-screen digitization and field observations', data_url=None), methodology='The study used remote sensing data to map rainfall-induced landslides, which were then analyzed using four different methods to create susceptibility maps. The maps were validated using area under curve (AUC), kappa index, and other statistical measures.', assumptions=['The study assumes that the selected causal factors (slope, aspect, elevation, etc.) are significant for landslide susceptibility.', 'The landslides were induced by rainfall, as mapped from satellite images and field observations.'], confidence_level=0.869, validation_method='Validation was performed using area under curve (AUC), kappa index, sensitivity, specificity, positive predictive value, negative predictive value, and accuracy.')]),\n",
       " ExtractionDTO(source='https://arxiv.org/pdf/2401.14210v1.pdf', result=[SingleEstimation(answer='The study develops a landslide hazard model for Nepal using deep learning combined with the extended generalized Pareto distribution from extreme value theory. The model uses 30 years of past landslide observations and predicts hazards for multiple return periods under different climate change scenarios.', related_knowledge=['Landslide hazard model combines deep learning and extreme value theory.', '30 years of landslide data used for Nepal.', 'Model predicts hazards for different return periods and climate scenarios.'], research_data=ResearchData(data_format='Polygonal inventory', origin='Jones et al. (2021) landslide inventory', data_url=HttpUrl('https://doi.org/10.5281/zenodo.10567233')), methodology='The methodology involves using deep learning to model landslide susceptibility and intensity, combined with the extended generalized Pareto distribution to handle heavy-tailed data. The model predicts landslide hazards for different return periods and climate scenarios.', assumptions=['Landslide intensity follows a heavy-tailed distribution.', 'Climate change scenarios affect precipitation patterns.'], confidence_level=0.86, validation_method='Model performance evaluated using AUC for susceptibility and CRPS for intensity.')]),\n",
       " ExtractionDTO(source='https://www.bib.irb.hr/1067869', result=[SingleEstimation(answer='Remote sensing techniques have been effectively used for landslide detection in Nepal, leveraging satellite imagery and geospatial analysis to identify and monitor landslide-prone areas.', related_knowledge=['Remote sensing provides a cost-effective and efficient means to monitor large and inaccessible areas.', \"Landslide detection in Nepal is crucial due to the country's mountainous terrain and susceptibility to natural disasters.\"], research_data=ResearchData(data_format='Satellite Imagery', origin='Various remote sensing satellites', data_url=None), methodology='The methodology involves using satellite imagery to detect changes in land surface that indicate landslides. Techniques such as change detection, image classification, and digital elevation models (DEMs) are commonly used.', assumptions=['Landslides cause detectable changes in land surface that can be captured by satellite imagery.', 'Remote sensing data is accurate and up-to-date.'], confidence_level=0.9, validation_method='Validation is typically done by comparing remote sensing results with ground truth data or historical landslide records.')]),\n",
       " ExtractionDTO(source='https://arxiv.org/pdf/2502.19866v1.pdf', result=[SingleEstimation(answer='The LMHLD dataset includes remote sensing images from five different satellite sensors across seven study areas worldwide, including Gorkha, Nepal, which was affected by a significant landslide event in 2015.', related_knowledge=['LMHLD is a benchmark dataset for landslide detection using deep learning.', 'The dataset includes high-resolution images from multiple satellite sensors.', 'Gorkha, Nepal, is one of the study areas included in the dataset.'], research_data=ResearchData(data_format='Remote Sensing Images', origin='RapidEye, PlanetScope, IKONOS, Gaofen-2, Sentinel-2', data_url=HttpUrl('https://doi.org/10.5281/zenodo.11424988')), methodology='The dataset is used to train deep learning models for landslide detection, utilizing U-Net and its variants for semantic segmentation.', assumptions=['High-resolution images improve model performance.', 'Diverse geographical data enhances generalization.'], confidence_level=None, validation_method=\"The dataset's effectiveness was validated through experiments using U-Net family models, demonstrating its potential as a benchmark for landslide detection.\")]),\n",
       " ExtractionDTO(source='https://hdl.handle.net/20.500.14017/8df80ddb-1fa4-4abd-929e-79249a9b579a', result=[SingleEstimation(answer='The study applies the weight of evidence method for landslide susceptibility mapping in the Tinau watershed, Nepal, using field observations and data on geology, land use, topography, and hydrology. About 30% of the area is highly susceptible to landslides.', related_knowledge=['Landslide susceptibility mapping is crucial for disaster management in Nepal.', 'The weight of evidence method is used for mapping landslide susceptibility.', 'Field observations and data on geology, land use, topography, and hydrology are utilized.'], research_data=ResearchData(data_format='Field observations and various datasets', origin='Tinau watershed, Nepal', data_url=None), methodology='Weight of evidence method applied to field observations and data on geology, land use, topography, and hydrology.', assumptions=['The weight of evidence method is suitable for landslide susceptibility mapping.', 'Field observations and available data accurately represent the study area.'], confidence_level=None, validation_method='Comparison with locations of past landslides.')])]"
      ]
     },
     "execution_count": 25,
     "metadata": {},
     "output_type": "execute_result"
    }
   ],
   "source": [
    "result"
   ]
  },
  {
   "cell_type": "code",
   "execution_count": 42,
   "id": "b847537e-ee1c-42fc-ae67-5b79cfeb3e4d",
   "metadata": {},
   "outputs": [],
   "source": [
    "# pprint(result[0])"
   ]
  },
  {
   "cell_type": "code",
   "execution_count": 43,
   "id": "a685c177-5291-4d98-bab2-0f99d083a8d3",
   "metadata": {},
   "outputs": [],
   "source": [
    "# pprint(result[0].result)"
   ]
  },
  {
   "cell_type": "markdown",
   "id": "3df07c35-0416-4bb0-9dd0-82e0c230a830",
   "metadata": {},
   "source": [
    "# Display result"
   ]
  },
  {
   "cell_type": "code",
   "execution_count": 34,
   "id": "784f0f9a-8b46-4e56-afcb-13cf2b25bfcb",
   "metadata": {},
   "outputs": [],
   "source": [
    "from typing import List, TypeVar, Any\n",
    "from pydantic import BaseModel\n",
    "import json\n",
    "from pprint import pformat\n",
    "\n",
    "T = TypeVar('T', bound=BaseModel)"
   ]
  },
  {
   "cell_type": "code",
   "execution_count": 36,
   "id": "c72cf5e8-5624-4566-86e9-cb0b4c8a0dcf",
   "metadata": {},
   "outputs": [],
   "source": [
    "def display_result(models_list: List[T], indent: int = 2) -> None:\n",
    "    \"\"\"\n",
    "    Alternative version using model_dump_json method directly.\n",
    "    \n",
    "    Args:\n",
    "        models_list: A list of Pydantic model instances\n",
    "        indent: Number of spaces for indentation (default: 2)\n",
    "    \"\"\"\n",
    "    if not models_list:\n",
    "        print(\"[]\")\n",
    "        return\n",
    "    \n",
    "    print(f\"[{len(models_list)} items]\")\n",
    "    \n",
    "    for i, model in enumerate(models_list):\n",
    "        # Use Pydantic's built-in JSON serialization\n",
    "        formatted_model = model.model_dump_json(indent=indent)\n",
    "        \n",
    "        print(f\"\\nItem {i + 1}:\")\n",
    "        print(formatted_model)"
   ]
  },
  {
   "cell_type": "code",
   "execution_count": 41,
   "id": "6470cb1e-a778-4dc6-8d58-5028c03b8b96",
   "metadata": {},
   "outputs": [
    {
     "name": "stdout",
     "output_type": "stream",
     "text": [
      "https://link.springer.com/article/10.1007/s12665-021-09650-2\n",
      "[1 items]\n",
      "\n",
      "Item 1:\n",
      "{\n",
      "  \"answer\": \"The study conducted landslide susceptibility mapping (LSM) in the Indrawati watershed, Central Nepal, using remote sensing data and four different methods: frequency ratio, logistic regression, artificial neural network, and support vector machine. The artificial neural network method showed the best prediction capability with an AUC value of 86.9%.\",\n",
      "  \"related_knowledge\": [\n",
      "    \"Landslide susceptibility mapping (LSM) is crucial for identifying areas prone to landslides and implementing preventive measures.\",\n",
      "    \"The study area is the Indrawati watershed in Central Nepal, a high mountain region.\",\n",
      "    \"Four methods were compared: frequency ratio, logistic regression, artificial neural network, and support vector machine.\",\n",
      "    \"Artificial neural network showed the highest prediction capability with an AUC of 86.9%.\"\n",
      "  ],\n",
      "  \"research_data\": {\n",
      "    \"data_format\": \"Satellite images\",\n",
      "    \"origin\": \"On-screen digitization and field observations\",\n",
      "    \"data_url\": null\n",
      "  },\n",
      "  \"methodology\": \"The study used remote sensing data to map rainfall-induced landslides, which were then analyzed using four different methods to create susceptibility maps. The maps were validated using area under curve (AUC), kappa index, and other statistical measures.\",\n",
      "  \"assumptions\": [\n",
      "    \"The study assumes that the selected causal factors (slope, aspect, elevation, etc.) are significant for landslide susceptibility.\",\n",
      "    \"The landslides were induced by rainfall, as mapped from satellite images and field observations.\"\n",
      "  ],\n",
      "  \"confidence_level\": 0.869,\n",
      "  \"validation_method\": \"Validation was performed using area under curve (AUC), kappa index, sensitivity, specificity, positive predictive value, negative predictive value, and accuracy.\"\n",
      "}\n",
      "------------------------------------------\n",
      "https://arxiv.org/pdf/2401.14210v1.pdf\n",
      "[1 items]\n",
      "\n",
      "Item 1:\n",
      "{\n",
      "  \"answer\": \"The study develops a landslide hazard model for Nepal using deep learning combined with the extended generalized Pareto distribution from extreme value theory. The model uses 30 years of past landslide observations and predicts hazards for multiple return periods under different climate change scenarios.\",\n",
      "  \"related_knowledge\": [\n",
      "    \"Landslide hazard model combines deep learning and extreme value theory.\",\n",
      "    \"30 years of landslide data used for Nepal.\",\n",
      "    \"Model predicts hazards for different return periods and climate scenarios.\"\n",
      "  ],\n",
      "  \"research_data\": {\n",
      "    \"data_format\": \"Polygonal inventory\",\n",
      "    \"origin\": \"Jones et al. (2021) landslide inventory\",\n",
      "    \"data_url\": \"https://doi.org/10.5281/zenodo.10567233\"\n",
      "  },\n",
      "  \"methodology\": \"The methodology involves using deep learning to model landslide susceptibility and intensity, combined with the extended generalized Pareto distribution to handle heavy-tailed data. The model predicts landslide hazards for different return periods and climate scenarios.\",\n",
      "  \"assumptions\": [\n",
      "    \"Landslide intensity follows a heavy-tailed distribution.\",\n",
      "    \"Climate change scenarios affect precipitation patterns.\"\n",
      "  ],\n",
      "  \"confidence_level\": 0.86,\n",
      "  \"validation_method\": \"Model performance evaluated using AUC for susceptibility and CRPS for intensity.\"\n",
      "}\n",
      "------------------------------------------\n",
      "https://www.bib.irb.hr/1067869\n",
      "[1 items]\n",
      "\n",
      "Item 1:\n",
      "{\n",
      "  \"answer\": \"Remote sensing techniques have been effectively used for landslide detection in Nepal, leveraging satellite imagery and geospatial analysis to identify and monitor landslide-prone areas.\",\n",
      "  \"related_knowledge\": [\n",
      "    \"Remote sensing provides a cost-effective and efficient means to monitor large and inaccessible areas.\",\n",
      "    \"Landslide detection in Nepal is crucial due to the country's mountainous terrain and susceptibility to natural disasters.\"\n",
      "  ],\n",
      "  \"research_data\": {\n",
      "    \"data_format\": \"Satellite Imagery\",\n",
      "    \"origin\": \"Various remote sensing satellites\",\n",
      "    \"data_url\": null\n",
      "  },\n",
      "  \"methodology\": \"The methodology involves using satellite imagery to detect changes in land surface that indicate landslides. Techniques such as change detection, image classification, and digital elevation models (DEMs) are commonly used.\",\n",
      "  \"assumptions\": [\n",
      "    \"Landslides cause detectable changes in land surface that can be captured by satellite imagery.\",\n",
      "    \"Remote sensing data is accurate and up-to-date.\"\n",
      "  ],\n",
      "  \"confidence_level\": 0.9,\n",
      "  \"validation_method\": \"Validation is typically done by comparing remote sensing results with ground truth data or historical landslide records.\"\n",
      "}\n",
      "------------------------------------------\n",
      "https://arxiv.org/pdf/2502.19866v1.pdf\n",
      "[1 items]\n",
      "\n",
      "Item 1:\n",
      "{\n",
      "  \"answer\": \"The LMHLD dataset includes remote sensing images from five different satellite sensors across seven study areas worldwide, including Gorkha, Nepal, which was affected by a significant landslide event in 2015.\",\n",
      "  \"related_knowledge\": [\n",
      "    \"LMHLD is a benchmark dataset for landslide detection using deep learning.\",\n",
      "    \"The dataset includes high-resolution images from multiple satellite sensors.\",\n",
      "    \"Gorkha, Nepal, is one of the study areas included in the dataset.\"\n",
      "  ],\n",
      "  \"research_data\": {\n",
      "    \"data_format\": \"Remote Sensing Images\",\n",
      "    \"origin\": \"RapidEye, PlanetScope, IKONOS, Gaofen-2, Sentinel-2\",\n",
      "    \"data_url\": \"https://doi.org/10.5281/zenodo.11424988\"\n",
      "  },\n",
      "  \"methodology\": \"The dataset is used to train deep learning models for landslide detection, utilizing U-Net and its variants for semantic segmentation.\",\n",
      "  \"assumptions\": [\n",
      "    \"High-resolution images improve model performance.\",\n",
      "    \"Diverse geographical data enhances generalization.\"\n",
      "  ],\n",
      "  \"confidence_level\": null,\n",
      "  \"validation_method\": \"The dataset's effectiveness was validated through experiments using U-Net family models, demonstrating its potential as a benchmark for landslide detection.\"\n",
      "}\n",
      "------------------------------------------\n",
      "https://hdl.handle.net/20.500.14017/8df80ddb-1fa4-4abd-929e-79249a9b579a\n",
      "[1 items]\n",
      "\n",
      "Item 1:\n",
      "{\n",
      "  \"answer\": \"The study applies the weight of evidence method for landslide susceptibility mapping in the Tinau watershed, Nepal, using field observations and data on geology, land use, topography, and hydrology. About 30% of the area is highly susceptible to landslides.\",\n",
      "  \"related_knowledge\": [\n",
      "    \"Landslide susceptibility mapping is crucial for disaster management in Nepal.\",\n",
      "    \"The weight of evidence method is used for mapping landslide susceptibility.\",\n",
      "    \"Field observations and data on geology, land use, topography, and hydrology are utilized.\"\n",
      "  ],\n",
      "  \"research_data\": {\n",
      "    \"data_format\": \"Field observations and various datasets\",\n",
      "    \"origin\": \"Tinau watershed, Nepal\",\n",
      "    \"data_url\": null\n",
      "  },\n",
      "  \"methodology\": \"Weight of evidence method applied to field observations and data on geology, land use, topography, and hydrology.\",\n",
      "  \"assumptions\": [\n",
      "    \"The weight of evidence method is suitable for landslide susceptibility mapping.\",\n",
      "    \"Field observations and available data accurately represent the study area.\"\n",
      "  ],\n",
      "  \"confidence_level\": null,\n",
      "  \"validation_method\": \"Comparison with locations of past landslides.\"\n",
      "}\n",
      "------------------------------------------\n"
     ]
    }
   ],
   "source": [
    "for res in result:\n",
    "    print(f\"{res.source}\")\n",
    "    display_result(res.result)\n",
    "    print(\"-\"*42)"
   ]
  },
  {
   "cell_type": "code",
   "execution_count": null,
   "id": "1e7180a2-8061-49bc-a664-3b6805c282a5",
   "metadata": {},
   "outputs": [],
   "source": []
  }
 ],
 "metadata": {
  "kernelspec": {
   "display_name": "Python 3 (ipykernel)",
   "language": "python",
   "name": "python3"
  },
  "language_info": {
   "codemirror_mode": {
    "name": "ipython",
    "version": 3
   },
   "file_extension": ".py",
   "mimetype": "text/x-python",
   "name": "python",
   "nbconvert_exporter": "python",
   "pygments_lexer": "ipython3",
   "version": "3.12.0"
  },
  "widgets": {
   "application/vnd.jupyter.widget-state+json": {
    "state": {},
    "version_major": 2,
    "version_minor": 0
   }
  }
 },
 "nbformat": 4,
 "nbformat_minor": 5
}
